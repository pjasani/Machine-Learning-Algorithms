{
 "cells": [
  {
   "cell_type": "code",
   "execution_count": 1,
   "metadata": {},
   "outputs": [],
   "source": [
    "%matplotlib inline\n",
    "from copy import deepcopy"
   ]
  },
  {
   "cell_type": "markdown",
   "metadata": {},
   "source": [
    "# Module 12 - Programming Assignment\n",
    "\n",
    "## Directions\n",
    "\n",
    "1. Change the name of this file to be your JHED id as in `jsmith299.ipynb`. Because sure you use your JHED ID (it's made out of your name and not your student id which is just letters and numbers).\n",
    "2. Make sure the notebook you submit is cleanly and fully executed. I do not grade unexecuted notebooks.\n",
    "3. Submit your notebook back in Blackboard where you downloaded this file.\n",
    "\n",
    "*Provide the output **exactly** as requested*"
   ]
  },
  {
   "cell_type": "markdown",
   "metadata": {},
   "source": [
    "# The Problem\n",
    "\n",
    "When we last left our agent in Modules 1 and 11, it was wandering around a world filled with plains, forests, swamps, hills and mountains. This presupposes a map with known terrain:\n",
    "\n",
    "```\n",
    "......\n",
    "...**.\n",
    "...***\n",
    "..^...\n",
    "..~^..\n",
    "```\n",
    "\n",
    "but what if all we know is that we have some area of interest, that we've reduced to a GPS grid:\n",
    "\n",
    "```\n",
    "??????\n",
    "??????\n",
    "??????\n",
    "??????\n",
    "??????\n",
    "```\n",
    "\n",
    "and the agent has to determine what kind of terrain is to the left, front and right of it?\n",
    "\n",
    "Assuming the agent has a very simple visual sensor that constructs a 4x4 grayscale image for each of the three directions, it might it could see something like this:"
   ]
  },
  {
   "cell_type": "code",
   "execution_count": 2,
   "metadata": {},
   "outputs": [
    {
     "data": {
      "image/png": "[encoded data removed]",
      "text/plain": [
       "<Figure size 1440x432 with 3 Axes>"
      ]
     },
     "metadata": {
      "needs_background": "light"
     },
     "output_type": "display_data"
    }
   ],
   "source": [
    "import numpy as np\n",
    "import matplotlib.pyplot as plt\n",
    "import random\n",
    "\n",
    "plain =  [0.0, 0.0, 0.0, 0.0,0.0, 0.0, 0.0, 0.0,0.0, 0.0, 0.0, 0.0,1.0, 1.0, 1.0, 1.0]\n",
    "forest = [0.0, 1.0, 0.0, 0.0,1.0, 1.0, 1.0, 0.0,1.0, 1.0, 1.0, 1.0,0.0, 1.0, 0.0, 0.0]\n",
    "hills =  [0.0, 0.0, 0.0, 0.0,0.0, 0.0, 1.0, 0.0,0.0, 1.0, 1.0, 1.0,1.0, 1.0, 1.0, 1.0]\n",
    "swamp =  [0.0, 0.0, 0.0, 0.0,0.0, 0.0, 0.0, 0.0,1.0, 0.0, 1.0, 0.0,1.0, 1.0, 1.0, 1.0]\n",
    "\n",
    "figure = plt.figure(figsize=(20,6))\n",
    "\n",
    "axes = figure.add_subplot(1, 3, 1)\n",
    "pixels = np.array([255 - p * 255 for p in plain], dtype='uint8')\n",
    "pixels = pixels.reshape((4, 4))\n",
    "axes.set_title( \"Left Camera\")\n",
    "axes.imshow(pixels, cmap='gray')\n",
    "\n",
    "axes = figure.add_subplot(1, 3, 2)\n",
    "pixels = np.array([255 - p * 255 for p in forest], dtype='uint8')\n",
    "pixels = pixels.reshape((4, 4))\n",
    "axes.set_title( \"Front Camera\")\n",
    "axes.imshow(pixels, cmap='gray')\n",
    "\n",
    "axes = figure.add_subplot(1, 3, 3)\n",
    "pixels = np.array([255 - p * 255 for p in hills], dtype='uint8')\n",
    "pixels = pixels.reshape((4, 4))\n",
    "axes.set_title( \"Right Camera\")\n",
    "axes.imshow(pixels, cmap='gray')\n",
    "\n",
    "plt.show()\n",
    "plt.close()"
   ]
  },
  {
   "cell_type": "markdown",
   "metadata": {},
   "source": [
    "which would be plains, forest and hills respectively.\n",
    "\n",
    "## The Assignment\n",
    "\n",
    "For this programming assignment your tasks are:\n",
    "\n",
    "1. Write a logistic regression that simply determines if something is a hill or not (two class problem). \n",
    "2. You will also evaluate that logistic regression by generating a *confusion matrix*.\n",
    "\n",
    "For a starting point, refer to the Pseudocode and the Self-Check."
   ]
  },
  {
   "cell_type": "markdown",
   "metadata": {},
   "source": [
    "## Data\n",
    "\n",
    "We have clean examples of the different types of terrain but based on the location, the registration can be a bit off for some of the types and the visual sensor is often noisy.\n",
    "\n",
    "Here are the clean examples with different registrations: "
   ]
  },
  {
   "cell_type": "code",
   "execution_count": 3,
   "metadata": {},
   "outputs": [],
   "source": [
    "clean_data = {\n",
    "    \"plains\": [\n",
    "        [0.0, 0.0, 0.0, 0.0, 0.0, 0.0, 0.0, 0.0, 0.0, 0.0, 0.0, 0.0, 1.0, 1.0, 1.0, 1.0, \"plains\"]\n",
    "    ],\n",
    "    \"forest\": [\n",
    "        [0.0, 1.0, 0.0, 0.0, 1.0, 1.0, 1.0, 0.0, 1.0, 1.0, 1.0, 1.0, 0.0, 1.0, 0.0, 0.0, \"forest\"],\n",
    "        [0.0, 0.0, 1.0, 0.0, 0.0, 1.0, 1.0, 1.0, 1.0, 1.0, 1.0, 1.0, 0.0, 0.0, 1.0, 0.0, \"forest\"],\n",
    "        [1.0, 0.0, 0.0, 0.0, 1.0, 1.0, 0.0, 0.0, 1.0, 1.0, 1.0, 0.0, 1.0, 0.0, 0.0, 0.0, \"forest\"],\n",
    "        [0.0, 0.0, 0.0, 1.0, 0.0, 0.0, 1.0, 1.0, 0.0, 1.0, 1.0, 1.0, 0.0, 0.0, 0.0, 1.0, \"forest\"]\n",
    "    ],\n",
    "    \"hills\": [\n",
    "        [0.0, 0.0, 0.0, 0.0, 0.0, 0.0, 1.0, 0.0, 0.0, 1.0, 1.0, 1.0, 1.0, 1.0, 1.0, 1.0, \"hills\"],\n",
    "        [0.0, 0.0, 0.0, 0.0, 0.0, 1.0, 0.0, 0.0, 1.0, 1.0, 1.0, 0.0, 1.0, 1.0, 1.0, 1.0, \"hills\"],\n",
    "        [0.0, 0.0, 0.0, 0.0, 1.0, 0.0, 0.0, 0.0, 1.0, 1.0, 0.0, 0.0, 1.0, 1.0, 1.0, 0.0, \"hills\"],\n",
    "        [0.0, 0.0, 0.0, 0.0, 0.0, 0.0, 0.0, 1.0, 0.0, 0.0, 1.0, 1.0, 0.0, 1.0, 1.0, 1.0, \"hills\"]\n",
    "    ],\n",
    "    \"swamp\": [\n",
    "        [0.0, 0.0, 0.0, 0.0, 0.0, 0.0, 0.0, 0.0, 1.0, 0.0, 1.0, 0.0, 1.0, 1.0, 1.0, 1.0, \"swamp\"],\n",
    "        [0.0, 0.0, 0.0, 0.0, 0.0, 0.0, 0.0, 0.0, 0.0, 1.0, 0.0, 1.0, 1.0, 1.0, 1.0, 1.0, \"swamp\"]        \n",
    "    ]\n",
    "}"
   ]
  },
  {
   "cell_type": "markdown",
   "metadata": {},
   "source": [
    "Let's create a function that allows us to view any of these:"
   ]
  },
  {
   "cell_type": "code",
   "execution_count": 4,
   "metadata": {},
   "outputs": [],
   "source": [
    "def view_sensor_image( data):\n",
    "    figure = plt.figure(figsize=(4,4))\n",
    "    axes = figure.add_subplot(1, 1, 1)\n",
    "    pixels = np.array([255 - p * 255 for p in data[:-1]], dtype='uint8')\n",
    "    pixels = pixels.reshape((4, 4))\n",
    "    axes.set_title( \"Left Camera:\" + data[-1])\n",
    "    axes.imshow(pixels, cmap='gray')\n",
    "    plt.show()\n",
    "    plt.close()"
   ]
  },
  {
   "cell_type": "markdown",
   "metadata": {},
   "source": [
    "\"I think that I shall never see a thing so lovely as a tree.\""
   ]
  },
  {
   "cell_type": "code",
   "execution_count": 5,
   "metadata": {},
   "outputs": [
    {
     "data": {
      "image/png": "[encoded data removed]",
      "text/plain": [
       "<Figure size 288x288 with 1 Axes>"
      ]
     },
     "metadata": {
      "needs_background": "light"
     },
     "output_type": "display_data"
    }
   ],
   "source": [
    "view_sensor_image( clean_data[ \"forest\"][0])"
   ]
  },
  {
   "cell_type": "code",
   "execution_count": 6,
   "metadata": {},
   "outputs": [
    {
     "data": {
      "image/png": "[encoded data removed]",
      "text/plain": [
       "<Figure size 288x288 with 1 Axes>"
      ]
     },
     "metadata": {
      "needs_background": "light"
     },
     "output_type": "display_data"
    }
   ],
   "source": [
    "view_sensor_image( clean_data[\"swamp\"][0])"
   ]
  },
  {
   "cell_type": "markdown",
   "metadata": {},
   "source": [
    "The data that comes in, however, is noisy. The values are never exactly 0 and 1. In order to mimic this we need a `blur` function.\n",
    "\n",
    "We will assume that noise is normally distributed. For values that should be 0, the noisy values are distributed $N(0.10, 0.05)$. For values should be 1, the noisy values are distributed $N(0.9, 0.10)$."
   ]
  },
  {
   "cell_type": "code",
   "execution_count": 7,
   "metadata": {},
   "outputs": [],
   "source": [
    "def blur( data):\n",
    "    def apply_noise( value):\n",
    "        if value < 0.5:\n",
    "            v = random.gauss( 0.10, 0.05)\n",
    "            if v < 0.0:\n",
    "                return 0.0\n",
    "            if v > 0.75:\n",
    "                return 0.75\n",
    "            return v\n",
    "        else:\n",
    "            v = random.gauss( 0.90, 0.10)\n",
    "            if v < 0.25:\n",
    "                return 0.25\n",
    "            if v > 1.00:\n",
    "                return 1.00\n",
    "            return v\n",
    "    noisy_readings = [apply_noise( v) for v in data[0:-1]]\n",
    "    return noisy_readings + [data[-1]]"
   ]
  },
  {
   "cell_type": "markdown",
   "metadata": {},
   "source": [
    "We can see how this affects what the agent *actually* sees."
   ]
  },
  {
   "cell_type": "code",
   "execution_count": 8,
   "metadata": {},
   "outputs": [
    {
     "data": {
      "image/png": "[encoded data removed]",
      "text/plain": [
       "<Figure size 288x288 with 1 Axes>"
      ]
     },
     "metadata": {
      "needs_background": "light"
     },
     "output_type": "display_data"
    }
   ],
   "source": [
    "view_sensor_image( blur( clean_data[\"swamp\"][0]))"
   ]
  },
  {
   "cell_type": "markdown",
   "metadata": {
    "jp-MarkdownHeadingCollapsed": true,
    "tags": []
   },
   "source": [
    "We need four (4) functions:\n",
    "\n",
    "1. `generate_data`\n",
    "2. `learn_model`\n",
    "3. `apply_model`\n",
    "4. `evaluate`\n",
    "\n",
    "### generate_data\n",
    "\n",
    "`generate_data` has been written for you.\n",
    "\n",
    "* clean_data - the clean versions of the \"bitmaps\" for each of the terrain types\n",
    "* n - the number of samples for \"in the class\" (1) and \"not in the class\" (0) to generate.\n",
    "* label - the label to chose as \"in the class\".\n",
    "\n",
    "For example,\n",
    "\n",
    "`generate_data( clean_data, 100, \"hills\")`\n",
    "\n",
    "generates 100 hills, 100 not hills and has transformed the String labels into 1 and 0, respectively.\n",
    "\n",
    "### `learn_model`\n",
    "\n",
    "`learn_model` is the function that takes in training data and actually learns the logistic regression model. If you're up to it, you can implement a vectorized version using Numpy but you might start with the loopy version first.\n",
    "\n",
    "*In the lecture, I mentioned that you usually should mean normalize your data but you don't need to do that in this case because the data is already on the range 0-1.*\n",
    "\n",
    "I should also mention that gradient descent is not the usual approach to linear regression because the error function actually has an *exact* solution. However, in the case of large data sets, the exact solution often fails and in any case, the use of gradient descent will prepare you for neural networks next week.\n",
    "\n",
    "When verbose is True, you should print out the error so you can see that it is getting smaller. \n",
    "\n",
    "When developing your algorithm, you need to watch the error so you'll set verbose=True to start. You should print it out every iteration and make sure it is declining. You'll have to experiment with both epsilon and alpha; and it doesn't hurt to make alpha adaptive (if the error increases, make alpha = alpha / 10).\n",
    "\n",
    "When you know that your algorithm is working, change your code so that the error is printed out only every 1,000 iterations (it takes a lot of iterations for this problem to converge, depending on your parameter values--start early).\n",
    "\n",
    "`learn_model` returns the List of Thetas.\n",
    "\n",
    "### `apply_model`\n",
    "\n",
    "`apply_model` takes a List of Thetas (the model) and either labeled or unlabeled data. If the data is unlabeled, it will return predictions for each observation as a Tuple of the inferred value (0 or 1) and the actual probability (so something like (1, 0.73) or (0, 0.59). We always return the class with the higher probability.\n",
    "\n",
    "If the data are labeled, you will return a Tuple of the actual value (0 or 1) and the predicted value (0 or 1). In this case, you return a List of something like [(0, 1), (1, 1), (0, 0), (1, 0)].\n",
    "\n",
    "### `evaluate`\n",
    "\n",
    "Ideally, we should be running 10 fold cross validation on this problem but...that might take a while so we're going to just go ahead with a simple evaluation. We're interested not only in the error rate but the overall \"confusion\" of the model.\n",
    "\n",
    "The `evaluate` takes the results of `apply_model` when labeled=True and prints out the error rate and a confusion matrix.\n",
    "\n",
    "---\n",
    "\n",
    "Why `labeled=True` or `labeled=False`? While we only have labeled data right now, for model evaluation. In the future, you would need to use this function to do actual classification. In that case, `labeled=False`. Because in the long run, that's the default usage, we use `False` as the default.\n",
    "\n",
    "---\n",
    "\n",
    "**As always when working with Lists or Lists of Lists, be very careful when you are modifying these items in place that this is what you want.**"
   ]
  },
  {
   "cell_type": "markdown",
   "metadata": {
    "tags": []
   },
   "source": [
    "---\n",
    "\n",
    "Put your helper functions above here.\n",
    "\n",
    "## Main Functions"
   ]
  },
  {
   "cell_type": "markdown",
   "metadata": {},
   "source": [
    "Use `generate_data` to generate a balanced set of blurred \"hills\" and \"not-hills\" examples to test that the function is working."
   ]
  },
  {
   "cell_type": "code",
   "execution_count": 9,
   "metadata": {},
   "outputs": [
    {
     "name": "stdout",
     "output_type": "stream",
     "text": [
      "([0.06172513423234574, 0.23592363672926486, 0.12160553147573022, 0.19317886892462155, 0.967565087152456, 0.08659199305270643, 0.09642522795544894, 0.08294936014530511, 0.7355009516444457, 0.9111257323240597, 0.0863852236807589, 0.08214225600946364, 0.7372611227544699, 0.7167224163052397, 0.835843702000627, 0.10422959343031629], 1)\n",
      "([0.0, 0.13952818632463204, 0.05606190841172322, 0.0012395693653946827, 0.10094381688852185, 0.1684713193243697, 0.008156788949058191, 0.053561564925015605, 0.13049027120979592, 0.007179056544905332, 0.21540345508809033, 0.08108834146051894, 0.8442220717768266, 0.9100409149532686, 0.9217186811398204, 0.7698358371403431], 0)\n",
      "([0.02054211627031008, 0.2113859287429954, 0.11782099523340335, 0.0851950484583473, 0.07427047064984815, 0.8513864715038224, 0.09349589126142505, 0.16998507268173685, 0.8021529096748768, 0.8600568893404645, 0.7649732789843637, 0.14391594159766943, 0.8893308699285951, 0.7913063403507509, 1.0, 0.8209922963032474], 1)\n",
      "([0.09403168469146614, 0.06024913714631906, 0.15485459141499852, 0.0, 1.0, 0.0841150371485871, 0.09855314411093265, 0.15848609641861214, 0.870378170317756, 0.8711569399184893, 0.11932084616218985, 0.06272416439415547, 1.0, 0.810213923351295, 0.84073475421922, 0.1937912626029667], 1)\n",
      "([0.15451647100339375, 0.12927664456068402, 0.11128696391585985, 0.16328686202888995, 0.15989849136802342, 0.15968026078259723, 0.07575711888251577, 0.806649914563564, 0.01804683007630023, 0.11687201541353573, 0.8312451679460927, 0.9610781467957937, 0.08743799628605665, 0.97742408128853, 1.0, 0.7962745902796348], 1)\n",
      "([0.08819759483712264, 0.14397833968413074, 0.0598429873777572, 0.9221351269539763, 0.07008077255965897, 0.1692184842197528, 0.9815429742260858, 0.8707222425355124, 0.03537394244805128, 0.9581213459490967, 0.9244537895363676, 0.7580535684667584, 0.1454789173908867, 0.03899192282984285, 0.018884163170882345, 0.8783277493150293], 0)\n",
      "([0.13163932335791503, 0.11746104790113826, 0.13999347856298075, 0.053617581655608405, 0.04503391014055922, 0.8517589429503909, 0.07796420732480008, 0.09028831004046343, 0.8856631685113243, 0.9793726769621804, 0.9078876526205606, 0.14120715135862144, 0.8037549723088998, 1.0, 1.0, 0.9333265920439863], 1)\n",
      "([0.10937991394007619, 0.07531309893028763, 0.020406551403097092, 0.08134333036448338, 0.6611834810474784, 0.07573007198611235, 0.10491432943371388, 0.09893929684017293, 0.7756766612499928, 0.8118218663310846, 0.10073350683062879, 0.10071373990047988, 0.8446745884841588, 0.9899910370093182, 0.7518442378064596, 0.1289925184163253], 1)\n",
      "([0.03356065785316191, 0.05100514340261287, 0.16836907134938361, 0.16664316239252464, 0.1473272446239015, 0.05213940929743474, 0.11644881394368657, 0.11531858351879064, 0.9223576829376428, 0.08235396756727355, 0.8414570015959733, 0.13720798536161133, 0.8688777800060645, 0.8467462904220976, 0.8021230984874533, 0.7860909538900276], 0)\n",
      "([0.029605115930130238, 0.09644885634874449, 0.07915345211740955, 0.12228434463575716, 0.03994353650263852, 0.19373945197910222, 0.0, 0.08631705790170134, 0.06144283923404989, 0.0, 0.11770550132512289, 0.087243751978391, 0.8088000037001515, 1.0, 0.8786619019628541, 0.8256448261479061], 0)\n",
      "([0.08328791695410787, 0.09506631668966528, 0.07573089865141287, 0.020709966542757488, 0.0690170292861086, 0.06835554297822255, 1.0, 0.17564292873954346, 0.16132991806847663, 0.9099121774699572, 0.8437473160861798, 0.904845029259636, 0.8470281132353603, 0.9058136543774874, 0.8678396308332034, 1.0], 1)\n",
      "([0.042487515414927936, 0.03226557999707462, 0.21502394500791686, 0.9617932383523532, 0.029385626642923837, 0.08368105372406089, 0.8805775420055021, 1.0, 0.07207822892011614, 1.0, 0.8478572102827563, 0.8432416527895871, 0.04115121555307188, 0.11255995399776436, 0.1332862880288941, 0.9694973532920615], 0)\n",
      "([0.8858428742764813, 0.06251297818054269, 0.07938633710041565, 0.04097141945533365, 0.8030652957287528, 0.8534181774170293, 0.04480779737941533, 0.008797894717298013, 0.8878785018134986, 0.8668066685702894, 0.667077199613495, 0.11980492410355573, 0.8074826586998567, 0.0971567616496006, 0.0380851373783224, 0.1102229179726943], 0)\n",
      "([0.14853098599371792, 0.06249580345646839, 0.2003211529542081, 0.13673227397633558, 0.13690338537076369, 0.17903821586007454, 0.10601592587105228, 0.19430900736484405, 0.9093694537379429, 0.11849483581707791, 0.7231740163995379, 0.09501354335080449, 0.8927000256017636, 0.8324561670333499, 0.9121811270421645, 0.9581871601239709], 0)\n",
      "([0.025235634972995122, 0.17708086256891534, 0.15768425079633225, 0.1450743042831522, 0.11863353250060259, 0.869329736081128, 0.11545097429222215, 0.032610470219197205, 0.8816117814131096, 0.794576809458585, 1.0, 0.17399969642383709, 0.9284797867478344, 0.9535509256774678, 0.9353785318202836, 0.9543351085656941], 1)\n",
      "([0.06530823309930578, 0.22707018051966288, 0.18545292365781998, 0.0748369842625384, 0.08423911974761303, 0.07231667678227671, 0.1321358140727018, 0.1489475068360237, 0.07237536434524199, 0.8804250745084602, 0.0653688833626668, 0.7700643434973511, 0.6583706932746407, 0.9230386058251537, 0.9863310054870891, 0.9257608486786276], 0)\n",
      "([0.10989812512158191, 0.09226066260162731, 0.13433323429594612, 0.11624740150037126, 0.04712536966987135, 0.8957058780791063, 0.12171790971209778, 0.12258710211146642, 0.8372584806115948, 1.0, 0.7534858482617621, 0.07717125484033965, 0.8228484914358762, 0.8427036040175772, 0.8332110821455952, 0.845890016673522], 1)\n",
      "([0.08937205897915138, 0.08921139331528889, 0.1354146672574386, 0.04855383634713605, 0.1974572995906684, 0.7870556084255099, 0.04898246866458891, 0.075086614588113, 0.8248521664348214, 0.9460953575775805, 0.8105273608096525, 0.1149616043475481, 0.9892788222358755, 0.9519755810875282, 0.8214706816083954, 0.7710615649776631], 1)\n",
      "([0.05634976123363717, 0.05962914598890618, 0.07684988724539898, 0.08066958379855846, 0.2071350133425485, 0.09335244686974567, 0.10736648266195642, 0.1036539228153037, 0.1586246979069761, 0.0, 0.1451524916682721, 0.015072304883673865, 1.0, 0.8907674467517587, 0.8615838933138381, 0.9339423888219979], 0)\n"
     ]
    }
   ],
   "source": [
    "def generate_data( data, n, key_label):\n",
    "    labels = set(clean_data.keys())\n",
    "    labels.remove(key_label)\n",
    "\n",
    "    total_per_label = int(n/len(labels))\n",
    "    data = []\n",
    "    # create n \"not label\" and code as y=0\n",
    "    for label in labels:\n",
    "        for _ in range(total_per_label):\n",
    "            datum = blur(random.choice(clean_data[label]))\n",
    "            xs = datum[0:-1]\n",
    "            data.append((xs, 0))\n",
    "    # create n \"label\" and code as y=1\n",
    "    for _ in range(n):\n",
    "        datum = blur(random.choice(clean_data[key_label]))\n",
    "        xs = datum[0:-1]\n",
    "        data.append((xs, 1))\n",
    "    random.shuffle(data)\n",
    "    return data\n",
    "\n",
    "results = generate_data( clean_data, 10, \"hills\")\n",
    "for result in results:\n",
    "    print(result)"
   ]
  },
  {
   "cell_type": "markdown",
   "metadata": {},
   "source": [
    "**calc_y_hat**<br>\n",
    "The `calc_y_hat` is a helper functionf for `learn_model`. It calculates the $\\hat{y}$t given the data and the thetas. It uses the below function to calculate the $\\hat{y}$.\n",
    "\n",
    "$$ \\hat{y} = \\frac{1}{1+e^{-\\theta_0}} $$\n",
    "\n",
    "Parameters:\n",
    "* **data**: a `List` of `List`s contaning the data we need to calculate $\\hat{y}$\n",
    "* **theta** is the `list` of float values we needed to calculate  $\\hat{y}$\n",
    "\n",
    "\n",
    "The function returns `List` of calculated  $\\hat{y}$ values</br>\n",
    "For example if data and theta are as shown below.\n",
    "```\n",
    "data = [[1.8, 0], [2.7, 1.0]]\n",
    "theta = [0.8, 1.1]\n",
    "```\n",
    "retuns:<br>\n",
    "`[0.94158544, 0.97746736]`"
   ]
  },
  {
   "cell_type": "code",
   "execution_count": 10,
   "metadata": {},
   "outputs": [],
   "source": [
    "def calc_y_hat(data, theta):\n",
    "    m_data = np.hstack((np.ones((len(data),1)), data))  # set Xo = 1\n",
    "    z = theta.dot(m_data[:,:-1].T)\n",
    "    y_hat = 1/(1+np.exp(-z)) # reverse theta and pass in everyhthing but last y column\n",
    "    y_hat = np.ravel(y_hat)\n",
    "    return y_hat"
   ]
  },
  {
   "cell_type": "markdown",
   "metadata": {},
   "source": [
    "**calc_error**<br>\n",
    "The `calc_error` is a helper functionf for `learn_model`. It calculates the error using the loss function given the data and the thetas. It uses the below function to calculate the $error$.\n",
    "\n",
    "$$ J(\\theta) = - \\frac{1}{n}\\sum_i y_i log(\\hat{y_i}) + (1 - y_i)log(1 - \\hat{y_i} ) $$\n",
    "\n",
    "Parameters:\n",
    "* **data**: a `List` of `List`s contaning the float values}\n",
    "* **theta** is the `list` of float values\n",
    "\n",
    "\n",
    "The function returns calculated `float` value.</br>\n",
    "For example if data and theta are as shown below.\n",
    "```\n",
    "data = [[1.8, 0], [2.7, 1.0]]\n",
    "theta = [0.8, 1.1]\n",
    "```\n",
    "retuns:<br>\n",
    "`0.46871918071283825`"
   ]
  },
  {
   "cell_type": "code",
   "execution_count": 11,
   "metadata": {},
   "outputs": [],
   "source": [
    "def calc_error(data, theta):\n",
    "    y_hat = calc_y_hat(data,theta)\n",
    "    ones = np.ones(len(data))\n",
    "    loss = -np.mean(data[:,-1] * np.log(y_hat) + (ones - data[:,-1]) * np.log(ones - y_hat))\n",
    "    return loss"
   ]
  },
  {
   "cell_type": "markdown",
   "metadata": {},
   "source": [
    "**derivitive**<br>\n",
    "The `derivitive` is a helper functionf for `learn_model`. It calculates the derivitive to update the theta values while learning the model. It uses the below function to calculat the derivitive\n",
    "\n",
    "$$ \\frac{\\partial J}{\\partial \\theta_j} = \\frac{1}{n}\\sum_i(\\hat{y_i} - y_i)x_{ij} $$\n",
    "\n",
    "Parameters:\n",
    "* **data**: a `List` of `List`s contaning the float values\n",
    "* **theta** is the `list` of float values\n",
    "* **t_indx** keeps track of which theta we are currently calculating the derivitive of. theta_0 would make t_index=0.\n",
    "\n",
    "\n",
    "The function returns calculated `float` value.</br>\n",
    "For example if data, t_indx and theta are as shown below.\n",
    "```\n",
    "data = [[1.8, 0], [2.7, 1.0]]\n",
    "theta = [0.8, 1.1]\n",
    "t_indx = 0\n",
    "```\n",
    "retuns:<br>\n",
    "`0.8429655191367142`"
   ]
  },
  {
   "cell_type": "code",
   "execution_count": 12,
   "metadata": {},
   "outputs": [],
   "source": [
    "def derivitive(data, theta, t_indx):\n",
    "    y_hat = calc_y_hat(data, theta)\n",
    "    ones = np.ones((len(data),1))\n",
    "    m_data = np.hstack((ones, data))  # set Xo = 1\n",
    "    der = (y_hat - data[:, -1]) * m_data[:, t_indx]\n",
    "    der = np.mean(der)\n",
    "    return der"
   ]
  },
  {
   "cell_type": "markdown",
   "metadata": {},
   "source": [
    "**learn_model**<br>\n",
    "The `learn_model` function implements the logistics regression algorithm. It calculates thetas that will reduce the error rate. The algorithm adapts the alpha value as required.\n",
    "\n",
    "\n",
    "Parameters:\n",
    "* **orig_data**: a `List` of `List`s contaning the float values\n",
    "* **verbose** is `boolean` variable that indicates if want to print error_rates or not. it is set to `False` by default.\n",
    "* **epsilon** is the value used to decide when to stop running the algorithm. It is set to `1e-07` by default.\n",
    "* **alpha** is the learning rate for the logistic regression algorithm. It is set to `0.1` by default.\n",
    "\n",
    "\n",
    "The function returns a `List` of theta values that give the smallest error.</br>"
   ]
  },
  {
   "cell_type": "code",
   "execution_count": 13,
   "metadata": {
    "tags": []
   },
   "outputs": [],
   "source": [
    "def learn_model( orig_data, verbose=False, epsilon = 1e-06, alpha = 0.1):                              \n",
    "    labels = np.array(list(zip(*orig_data))[1]).reshape((len(orig_data),1))   # seperate label\n",
    "    data = np.hstack((list(zip(*orig_data))[0], labels))                      # combine data and label as matrix\n",
    "    theta = np.random.uniform(-1, 1, len(data[0]))                            # genrate thetas (-1, 1)\n",
    "    p_error, t = 0.0, 0\n",
    "    c_error = calc_error(data, theta)\n",
    "    while abs(c_error-p_error) > epsilon:\n",
    "        # print(\"Error\", c_error) if verbose and t %1000 ==0 else None\n",
    "        if t %1000 == 0 and verbose == True:\n",
    "            print(\"Error for iteration \" + str(t) + \"=\", c_error)  \n",
    "        new_theta = np.zeros(len(theta))\n",
    "        for t_indx in range(len(theta)):\n",
    "            new_theta[t_indx] = theta[t_indx] - alpha * derivitive(data, theta, t_indx) \n",
    "        theta = new_theta\n",
    "        p_error = c_error\n",
    "        c_error = calc_error(data, theta)\n",
    "        alpha = alpha/10 if c_error > p_error else alpha   # update alpha is current erro > previous error\n",
    "        t += 1\n",
    "    return theta"
   ]
  },
  {
   "cell_type": "markdown",
   "metadata": {},
   "source": [
    "**predict**<br>\n",
    "The `predict` is a helper function for `apply_model`. Given the trained theta values and the test point it calculates the probability of datapoint.\n",
    "\n",
    "\n",
    "Parameters:\n",
    "* **model**: a `List` of float values.\n",
    "* **test** is the testpoint we want to predict a probability for.\n",
    "\n",
    "\n",
    "The function returns a `probability` for the given testpoint.</br>"
   ]
  },
  {
   "cell_type": "code",
   "execution_count": 14,
   "metadata": {},
   "outputs": [],
   "source": [
    "def predict(model, test):\n",
    "    test = np.array(test).reshape((len(test), 1))\n",
    "    test = np.vstack((np.ones((1,1)), test))\n",
    "    z = model.dot(test)\n",
    "    prob = 1/(1+np.exp(-z))\n",
    "    return prob[0]"
   ]
  },
  {
   "cell_type": "markdown",
   "metadata": {},
   "source": [
    "**apply_model**<br>\n",
    "The`apply_model` function calculate the probility for each of the testpoint in the test_data. If the test points are labeled then it created a list of (actual_label, predicted_label). If the given testpoint is unlabeled then it creates a list tuples of format (predicted label, predicted probability).\n",
    "\n",
    "\n",
    "Parameters:\n",
    "* **model**: a `List` of float values.\n",
    "* **test_data** is `List` of testpoints we want to predict a probability for.\n",
    "* **labeled** indicates whether the testpoints are labeled or not.\n",
    "\n",
    "\n",
    "The function returns a ` List of probabilities (tuples)` for the given test_data.</br>"
   ]
  },
  {
   "cell_type": "code",
   "execution_count": 15,
   "metadata": {},
   "outputs": [],
   "source": [
    "def apply_model( model, test_data, labeled=False):\n",
    "    if labeled:   # we have labeled data\n",
    "        pred = [(test[1], round(predict(model, test[0]), 0)) for test in test_data]\n",
    "    else:                             # we do not have labeled data\n",
    "        pred = []\n",
    "        for test in test_data:\n",
    "            test_pred = predict(model, test)\n",
    "            pred += [(round(test_pred, 0), test_pred)]\n",
    "    return pred"
   ]
  },
  {
   "cell_type": "markdown",
   "metadata": {},
   "source": [
    "**print_confusion_matrix**<br>\n",
    "The`print_confusion_matrix` function prints the confusion matrix given the dictionary contaning TP, TN, FP, FN. It prins the confusion matrix.\n",
    "\n",
    "\n",
    "Parameters:\n",
    "* **dct**: a `Dict` containing number of TP, TN, FP, FN.\n",
    "\n",
    "\n",
    "The function prints the confusion matrix in the below format.\n",
    "```\n",
    "Confusion Matrix\n",
    "         _______________________\n",
    "        |        Predicted     |\n",
    "________|_______ 1 __|___ 0 ___|\n",
    "    A   |   |        |         |\n",
    "    c   | 1 |    TP  |    FN   |\n",
    "    t   |___|________|_________|\n",
    "    u   |   |        |         |\n",
    "    a   | 0 |   FP   |   TN    |\n",
    "    l   |___|________|_________|\n",
    "```"
   ]
  },
  {
   "cell_type": "code",
   "execution_count": 16,
   "metadata": {
    "tags": []
   },
   "outputs": [],
   "source": [
    "def print_confusion_matrix(dct):\n",
    "    print(\"Confusion Matrix\")\n",
    "    print(\"         \"+\"_\"*23)\n",
    "    print(\"        \"+\"|        Predicted     |\")\n",
    "    print(\"________\"+\"|_______ {} __|___ {} ___|\".format(1,0))\n",
    "    print(\"    A   |   |        |         |\")\n",
    "    print(\"    c   | {} |    {}  |    {}    |\".format(1, dct[(1,1)], dct[(1,0)]))\n",
    "    print(\"    t   |___|________|_________|\")\n",
    "    print(\"    u   |   |        |         |\")\n",
    "    print(\"    a   | {} |    {}   |   {}    |\".format(0, dct[(0,1)], dct[(0,0)]))\n",
    "    print(\"    l   |___|________|_________|\")"
   ]
  },
  {
   "cell_type": "code",
   "execution_count": 17,
   "metadata": {
    "tags": []
   },
   "outputs": [],
   "source": [
    "def evaluate(results):\n",
    "    dct = {(0,0):0, (0,1):0, (1,0):0, (1,1):0}\n",
    "    for tp in results:\n",
    "        dct[tp] += 1\n",
    "    error_rate = (dct[(0,1)] + dct[(1,0)]) / len(results)\n",
    "    print(f\"Error rate: {round(error_rate*100, 3)}%\")\n",
    "   \n",
    "    print_confusion_matrix(dct)"
   ]
  },
  {
   "cell_type": "markdown",
   "metadata": {},
   "source": [
    "## Use your code"
   ]
  },
  {
   "cell_type": "markdown",
   "metadata": {},
   "source": [
    "Use `generate_data` to generate 100 blurred \"hills\" examples balanced with 100 \"non hills\" examples and use this as your test data. Set labeled=True. Print out the first 10 results, one per line."
   ]
  },
  {
   "cell_type": "code",
   "execution_count": 18,
   "metadata": {},
   "outputs": [],
   "source": [
    "train_data = generate_data(clean_data, 100, \"hills\")"
   ]
  },
  {
   "cell_type": "code",
   "execution_count": 19,
   "metadata": {},
   "outputs": [],
   "source": [
    "test_data = generate_data(clean_data, 100, \"hills\")"
   ]
  },
  {
   "cell_type": "markdown",
   "metadata": {},
   "source": [
    "Use `learn_model` to learn a logistic regression model for classifying sensor images as \"hills\" or \"not hills\". Use your `generate_data` function to generate a training set of size 100 for \"hills\". **Set Verbose to True**"
   ]
  },
  {
   "cell_type": "code",
   "execution_count": 20,
   "metadata": {},
   "outputs": [
    {
     "name": "stdout",
     "output_type": "stream",
     "text": [
      "Error for iteration 0= 1.0918476399402506\n",
      "Error for iteration 1000= 0.36689559151443146\n",
      "Error for iteration 2000= 0.25742855653286983\n",
      "Error for iteration 3000= 0.20524920531499788\n",
      "Error for iteration 4000= 0.1736995076782965\n",
      "Error for iteration 5000= 0.15216778450813553\n",
      "Error for iteration 6000= 0.13633982115763046\n",
      "Error for iteration 7000= 0.12410480062638582\n",
      "Error for iteration 8000= 0.11429834423176569\n",
      "Error for iteration 9000= 0.10622108183575943\n",
      "Error for iteration 10000= 0.09942524100192268\n",
      "Error for iteration 11000= 0.09360950407433695\n",
      "Error for iteration 12000= 0.0885628539790736\n",
      "Error for iteration 13000= 0.08413260348105288\n",
      "Error for iteration 14000= 0.08020522042830855\n",
      "Error for iteration 15000= 0.07669431907115075\n",
      "Error for iteration 16000= 0.07353285933841895\n",
      "Error for iteration 17000= 0.0706679184414895\n",
      "Error for iteration 18000= 0.068057090269914\n",
      "Error for iteration 19000= 0.06566594630684587\n",
      "Error for iteration 20000= 0.0634662072942173\n",
      "Error for iteration 21000= 0.06143440202743997\n",
      "Error for iteration 22000= 0.05955086703414412\n",
      "Error for iteration 23000= 0.05779898928811651\n",
      "Error for iteration 24000= 0.05616462513485596\n",
      "Error for iteration 25000= 0.05463564893995073\n",
      "Error for iteration 26000= 0.05320159856962526\n",
      "Error for iteration 27000= 0.05185339407364215\n",
      "Error for iteration 28000= 0.050583112353853724\n",
      "Error for iteration 29000= 0.04938380511127424\n",
      "Error for iteration 30000= 0.04824935058060222\n",
      "Error for iteration 31000= 0.047174331884739615\n"
     ]
    }
   ],
   "source": [
    "model = learn_model( train_data, True)"
   ]
  },
  {
   "cell_type": "markdown",
   "metadata": {},
   "source": [
    "Apply the model to the test data:"
   ]
  },
  {
   "cell_type": "code",
   "execution_count": 21,
   "metadata": {},
   "outputs": [],
   "source": [
    "results = apply_model( model, test_data, labeled=True)"
   ]
  },
  {
   "cell_type": "markdown",
   "metadata": {},
   "source": [
    "Using the results above, print out your error rate (as a percent) and the confusion matrix:"
   ]
  },
  {
   "cell_type": "code",
   "execution_count": 22,
   "metadata": {},
   "outputs": [
    {
     "name": "stdout",
     "output_type": "stream",
     "text": [
      "Error rate: 0.503%\n",
      "Confusion Matrix\n",
      "         _______________________\n",
      "        |        Predicted     |\n",
      "________|_______ 1 __|___ 0 ___|\n",
      "    A   |   |        |         |\n",
      "    c   | 1 |    99  |    1    |\n",
      "    t   |___|________|_________|\n",
      "    u   |   |        |         |\n",
      "    a   | 0 |    0   |   99    |\n",
      "    l   |___|________|_________|\n"
     ]
    }
   ],
   "source": [
    "evaluate(results)"
   ]
  },
  {
   "cell_type": "markdown",
   "metadata": {},
   "source": [
    "## Before You Submit...\n",
    "\n",
    "1. Did you provide output exactly as requested?\n",
    "2. Did you re-execute the entire notebook? (\"Restart Kernel and Rull All Cells...\")\n",
    "3. If you did not complete the assignment or had difficulty please explain what gave you the most difficulty in the Markdown cell below.\n",
    "4. Did you change the name of the file to `jhed_id.ipynb`?\n",
    "\n",
    "Do not submit any other files."
   ]
  },
  {
   "cell_type": "markdown",
   "metadata": {},
   "source": []
  },
  {
   "cell_type": "code",
   "execution_count": null,
   "metadata": {},
   "outputs": [],
   "source": []
  },
  {
   "cell_type": "code",
   "execution_count": null,
   "metadata": {},
   "outputs": [],
   "source": []
  },
  {
   "cell_type": "code",
   "execution_count": null,
   "metadata": {},
   "outputs": [],
   "source": [
    "# def learn_model( data, hidden_nodes, iterations= 10000, verbose=False, alpha = 0.01):\n",
    "#     theta_in = np.random.rand(hidden_nodes, data.shape[1])\n",
    "#     theta_out = np.random.rand(4, hidden_nodes+1)\n",
    "#     # theta_in = np.array([[0.01, 0.26, -.42],[-0.05, 0.78, 0.19],[0.42, -.23, .37]])\n",
    "#     # theta_out = np.array([[0.2, 0.61, 0.12, -0.9],[0.3, 0.28, -0.34, 0.10]])\n",
    "#     count = 0\n",
    "#     model_list = []\n",
    "    \n",
    "#     while count != iterations:\n",
    "#         print(count) if verbose and count%1000== 0 else None\n",
    "#         hidden_l = calc_y_hat(data[:,:-1], theta_in).T     # hidden layer\n",
    "#         out_l = calc_y_hat(hidden_l, theta_out).T # output layer\n",
    "#         delta_o = np.multiply(np.multiply(out_l,(1-out_l)), np.array(data[:,-1].tolist()) - out_l)\n",
    "#         hidden_l = np.hstack((np.ones((len(hidden_l),1)), hidden_l))\n",
    "#         delta_h = np.multiply(np.multiply(hidden_l, (1-hidden_l)), np.dot(delta_o, theta_out))[:,1:]   # drop the leading 1 we added for bias term\n",
    "#         theta_out = update_theta(theta_out, alpha, hidden_l, delta_o)\n",
    "#         lead_1_data = np.hstack((np.ones((data.shape[0],1)), data[:,:-1]))   # add a leading 1 and remove label column\n",
    "#         theta_in  = update_theta(theta_in, alpha, lead_1_data, delta_h)\n",
    "#         # print(theta_in,\"\\n\",  theta_out)\n",
    "#         # print(\"\\n\")\n",
    "#         if count%100 ==0:\n",
    "#             model_list += [(theta_in, theta_out, count)]\n",
    "#         count += 1\n",
    "#     model = (theta_in, theta_out)\n",
    "#     model_list += [(theta_in, theta_out, count)]\n",
    "#     return model\n",
    "\n",
    "# # inpt = np.array([[0.52, -0.97, [1,0]]])\n",
    "# # theta_in = np.array([[0.01, 0.26, -.42],[-0.05, 0.78, 0.19],[0.42, -.23, .37]])\n",
    "# # theta_out = np.array([[0.2, 0.61, 0.12, -0.9],[0.3, 0.28, -0.34, 0.10]])\n",
    "# # learn_model(inpt, 3, 1)\n",
    "# # x = learn_model(results[:10], 8, 2)"
   ]
  }
 ],
 "metadata": {
  "kernelspec": {
   "display_name": "Python (en605645)",
   "language": "python",
   "name": "en605645"
  },
  "language_info": {
   "codemirror_mode": {
    "name": "ipython",
    "version": 3
   },
   "file_extension": ".py",
   "mimetype": "text/x-python",
   "name": "python",
   "nbconvert_exporter": "python",
   "pygments_lexer": "ipython3",
   "version": "3.7.10"
  },
  "toc": {
   "colors": {
    "hover_highlight": "#DAA520",
    "navigate_num": "#000000",
    "navigate_text": "#333333",
    "running_highlight": "#FF0000",
    "selected_highlight": "#FFD700",
    "sidebar_border": "#EEEEEE",
    "wrapper_background": "#FFFFFF"
   },
   "moveMenuLeft": true,
   "nav_menu": {
    "height": "207px",
    "width": "252px"
   },
   "navigate_menu": true,
   "number_sections": true,
   "sideBar": true,
   "threshold": 4,
   "toc_cell": false,
   "toc_section_display": "block",
   "toc_window_display": false,
   "widenNotebook": false
  }
 },
 "nbformat": 4,
 "nbformat_minor": 4
}
