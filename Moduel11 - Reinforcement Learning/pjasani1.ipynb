{
 "cells": [
  {
   "cell_type": "markdown",
   "metadata": {},
   "source": [
    "# Module 11 - Programming Assignment\n",
    "\n",
    "## Directions\n",
    "\n",
    "1. Change the name of this file to be your JHED id as in `jsmith299.ipynb`. Because sure you use your JHED ID (it's made out of your name and not your student id which is just letters and numbers).\n",
    "2. Make sure the notebook you submit is cleanly and fully executed. I do not grade unexecuted notebooks.\n",
    "3. Submit your notebook back in Blackboard where you downloaded this file.\n",
    "\n",
    "*Provide the output **exactly** as requested*"
   ]
  },
  {
   "cell_type": "code",
   "execution_count": 1,
   "metadata": {},
   "outputs": [],
   "source": [
    "from copy import deepcopy\n",
    "import numpy as np"
   ]
  },
  {
   "cell_type": "markdown",
   "metadata": {},
   "source": [
    "## Reinforcement Learning with Value Iteration\n",
    "\n",
    "These are the same maps from Module 1 but the \"physics\" of the world have changed. In Module 1, the world was deterministic. When the agent moved \"south\", it went \"south\". When it moved \"east\", it went \"east\". Now, the agent only succeeds in going where it wants to go *sometimes*. There is a probability distribution over the possible states so that when the agent moves \"south\", there is a small probability that it will go \"east\", \"north\", or \"west\" instead and have to move from there.\n",
    "\n",
    "There are a variety of ways to handle this problem. For example, if using A\\* search, if the agent finds itself off the solution, you can simply calculate a new solution from where the agent ended up. Although this sounds like a really bad idea, it has actually been shown to work really well in video games that use formal planning algorithms (which we will cover later). When these algorithms were first designed, this was unthinkable. Thank you, Moore's Law!\n",
    "\n",
    "Another approach is to use Reinforcement Learning which covers problems where there is some kind of general uncertainty in the actions. We're going to model that uncertainty a bit unrealistically here but it'll show you how the algorithm works.\n",
    "\n",
    "As far as RL is concerned, there are a variety of options there: model-based and model-free, Value Iteration, Q-Learning and SARSA. You are going to use Value Iteration."
   ]
  },
  {
   "cell_type": "markdown",
   "metadata": {},
   "source": [
    "## The World Representation\n",
    "\n",
    "As before, we're going to simplify the problem by working in a grid world. The symbols that form the grid have a special meaning as they specify the type of the terrain and the cost to enter a grid cell with that type of terrain:\n",
    "\n",
    "```\n",
    "token   terrain    cost \n",
    ".       plains     1\n",
    "*       forest     3\n",
    "^       hills      5\n",
    "~       swamp      7\n",
    "x       mountains  impassible\n",
    "```\n",
    "\n",
    "When you go from a plains node to a forest node it costs 3. When you go from a forest node to a plains node, it costs 1. You can think of the grid as a big graph. Each grid cell (terrain symbol) is a node and there are edges to the north, south, east and west (except at the edges).\n",
    "\n",
    "There are quite a few differences between A\\* Search and Reinforcement Learning but one of the most salient is that A\\* Search returns a plan of N steps that gets us from A to Z, for example, A->C->E->G.... Reinforcement Learning, on the other hand, returns  a *policy* that tells us the best thing to do in **every state.**\n",
    "\n",
    "For example, the policy might say that the best thing to do in A is go to C. However, we might find ourselves in D instead. But the policy covers this possibility, it might say, D->E. Trying this action might land us in C and the policy will say, C->E, etc. At least with offline learning, everything will be learned in advance (in online learning, you can only learn by doing and so you may act according to a known but suboptimal policy).\n",
    "\n",
    "Nevertheless, if you were asked for a \"best case\" plan from (0, 0) to (n-1, n-1), you could (and will) be able to read it off the policy because there is a best action for every state. You will be asked to provide this in your assignment."
   ]
  },
  {
   "cell_type": "markdown",
   "metadata": {},
   "source": [
    "We have the same costs as before. Note that we've negated them this time because RL requires negative costs and positive rewards:"
   ]
  },
  {
   "cell_type": "code",
   "execution_count": 2,
   "metadata": {},
   "outputs": [
    {
     "data": {
      "text/plain": [
       "{'.': -1, '*': -3, '^': -5, '~': -7}"
      ]
     },
     "execution_count": 2,
     "metadata": {},
     "output_type": "execute_result"
    }
   ],
   "source": [
    "costs = { '.': -1, '*': -3, '^': -5, '~': -7}\n",
    "costs"
   ]
  },
  {
   "cell_type": "markdown",
   "metadata": {},
   "source": [
    "and a list of offsets for `cardinal_moves`. You'll need to work this into your **actions**, A, parameter."
   ]
  },
  {
   "cell_type": "code",
   "execution_count": 3,
   "metadata": {},
   "outputs": [],
   "source": [
    "cardinal_moves = [(1,0), (0,-1), (-1,0), (0,1)]"
   ]
  },
  {
   "cell_type": "code",
   "execution_count": null,
   "metadata": {},
   "outputs": [],
   "source": []
  },
  {
   "cell_type": "markdown",
   "metadata": {},
   "source": [
    "For Value Iteration, we require knowledge of the *transition* function, as a probability distribution.\n",
    "\n",
    "The transition function, T, for this problem is 0.70 for the desired direction, and 0.10 each for the other possible directions. That is, if the agent selects \"north\" then 70% of the time, it will go \"north\" but 10% of the time it will go \"east\", 10% of the time it will go \"west\", and 10% of the time it will go \"south\". If agent is at the edge of the map, it simply bounces back to the current state.\n",
    "\n",
    "You need to implement `value_iteration()` with the following parameters:\n",
    "\n",
    "+ world: a `List` of `List`s of terrain (this is S from S, A, T, gamma, R)\n",
    "+ costs: a `Dict` of costs by terrain (this is part of R)\n",
    "+ goal: A `Tuple` of (x, y) stating the goal state.\n",
    "+ reward: The reward for achieving the goal state.\n",
    "+ actions: a `List` of possible actions, A, as offsets.\n",
    "+ gamma: the discount rate\n",
    "\n",
    "you will return a policy: \n",
    "\n",
    "`{(x1, y1): action1, (x2, y2): action2, ...}`\n",
    "\n",
    "Remember...a policy is what to do in any state for all the states. Notice how this is different than A\\* search which only returns actions to take from the start to the goal. This also explains why reinforcement learning doesn't take a `start` state.\n",
    "\n",
    "You should also define a function `pretty_print_policy( cols, rows, policy)` that takes a policy and prints it out as a grid using \"^\" for up, \"<\" for left, \"v\" for down and \">\" for right. Use \"x\" for any mountain or other impassable square. Note that it doesn't need the `world` because the policy has a move for every state. However, you do need to know how big the grid is so you can pull the values out of the `Dict` that is returned.\n",
    "\n",
    "```\n",
    "vvvvvvv\n",
    "vvvvvvv\n",
    "vvvvvvv\n",
    ">>>>>>v\n",
    "^^^>>>v\n",
    "^^^>>>v\n",
    "^^^>>>G\n",
    "```\n",
    "\n",
    "(Note that that policy is completely made up and only illustrative of the desired output). Please print it out exactly as requested: **NO EXTRA SPACES OR LINES**.\n",
    "\n",
    "* If everything is otherwise the same, do you think that the path from (0,0) to the goal would be the same for both A\\* Search and Q-Learning?\n",
    "* What do you think if you have a map that looks like:\n",
    "\n",
    "```\n",
    "><>>^\n",
    ">>>>v\n",
    ">>>>v\n",
    ">>>>v\n",
    ">>>>G\n",
    "```\n",
    "\n",
    "has this converged? Is this a \"correct\" policy? What are the problems with this policy as it is?\n"
   ]
  },
  {
   "cell_type": "markdown",
   "metadata": {},
   "source": [
    "The path form the A* search and the Q-Learning would be same because both algorithms give the most optimal paths. Assuming there is only one optimal path.<br>\n",
    "The policy shown above is incomplete because there are cycles, and ther is a state on the top right corner that points outside the world. I think the above policy has not conveged, we should either let the algorithm run for some more iterations or increase the reward for the goal."
   ]
  },
  {
   "cell_type": "code",
   "execution_count": 4,
   "metadata": {},
   "outputs": [],
   "source": [
    "def read_world(filename):\n",
    "    result = []\n",
    "    with open(filename) as f:\n",
    "        for line in f.readlines():\n",
    "            if len(line) > 0:\n",
    "                result.append(list(line.strip()))\n",
    "    return result"
   ]
  },
  {
   "cell_type": "markdown",
   "metadata": {},
   "source": [
    "---"
   ]
  },
  {
   "cell_type": "markdown",
   "metadata": {},
   "source": [
    "**is_valid**<br>\n",
    "The `is_valid` is a helper functionf for `value_iteration`. It checks if the given action is in the boundry of the world.\n",
    "\n",
    "Parameters:\n",
    "* **world**: a `List` of `List`s of terrain (this is S from S, A, T, gamma, R)\n",
    "* **s** is the `(col, row)` pair for the current state being scanned.\n",
    "* **a** is the `(col, row)` pair that we want to check if its valid.\n",
    "\n",
    "\n",
    "The function returns `True` if action is valud else it returns `False`</br>\n",
    "For example if the world, s and a as shown below\n",
    "```\n",
    "w = [['.', '.', '.', '.', '.', '.'],\n",
    "     ['.', '*', '*', '*', '*', '.'],\n",
    "     ['.', '*', '*', '*', '*', '.'],\n",
    "     ['.', '*', '*', 'x', '*', '.'],\n",
    "     ['.', '*', '*', '*', '*', '.'],\n",
    "     ['.', '.', '.', '.', '.', '.'],\n",
    "     ['.', '.', '.', '.', '.', '.']]\n",
    "     \n",
    "s = (0,0)\n",
    "a = (0,-1)\n",
    "```\n",
    "retuns:<br>\n",
    "`False`"
   ]
  },
  {
   "cell_type": "code",
   "execution_count": 5,
   "metadata": {},
   "outputs": [],
   "source": [
    "def is_valid(world, s, a):\n",
    "    row = len(world)\n",
    "    col = len(world[0])\n",
    "    \n",
    "    if (s[0]+a[0]>=0 and s[0]+a[0]<row) and (s[1]+a[1]>=0 and s[1]+a[1]<col):\n",
    "        if world[s[0]+a[0]][s[1]+a[1]] == 'x':\n",
    "            return False\n",
    "        return True\n",
    "    return False"
   ]
  },
  {
   "cell_type": "markdown",
   "metadata": {},
   "source": [
    "**calc_reward**<br>\n",
    "The `calc_reward` is a helper functionf for `value_iteration`. It calculates the states.\n",
    "\n",
    "Parameters:\n",
    "* **world**: a `List` of `List`s of terrain (this is S from S, A, T, gamma, R)\n",
    "* **s** is the `(col, row)` pair for the current state being scanned.\n",
    "* **a** is the `(col, row)` pair that we want to check if its valid.\n",
    "* **costs**: a `Dict` of costs by terrain (this is part of R)\n",
    "* **goal**: A `Tuple` of (x, y) stating the goal state.\n",
    "\n",
    "\n",
    "The function returns `cost` of the terrain. </br>\n",
    "For example if the world, s and a, rewards as shown below, and costs as shown above\n",
    "```\n",
    "w = [['.', '.', '.', '.', '.', '.'],\n",
    "     ['.', '*', '*', '*', '*', '.'],\n",
    "     ['.', '*', '*', '*', '*', '.'],\n",
    "     ['.', '*', '*', 'x', '*', '.'],\n",
    "     ['.', '*', '*', '*', '*', '.'],\n",
    "     ['.', '.', '.', '.', '.', '.'],\n",
    "     ['.', '.', '.', '.', '.', '.']]\n",
    "     \n",
    "s = (0,0)\n",
    "a = (0,1)\n",
    "```\n",
    "retuns:<br>\n",
    "`-1`"
   ]
  },
  {
   "cell_type": "code",
   "execution_count": 6,
   "metadata": {},
   "outputs": [],
   "source": [
    "def calc_reward(world, s, a, costs, rewards, goal):\n",
    "    if s[0]+a[0] == goal[1] and s[1]+a[1] == goal[0]:\n",
    "        return rewards + costs[world[s[0]+a[0]][s[1]+a[1]]]\n",
    "    terrain = world[s[0]+a[0]][s[1]+a[1]]\n",
    "    t_cost = costs[terrain] if terrain in costs else -100\n",
    "    return t_cost"
   ]
  },
  {
   "cell_type": "markdown",
   "metadata": {},
   "source": [
    "**transition**<br>\n",
    "The `transition` is a helper functionf for `value_iteration`. it calculates the transition \n",
    "reward for the state.\n",
    "\n",
    "Parameters:\n",
    "* **world**: a `List` of `List`s of terrain (this is S from S, A, T, gamma, R)\n",
    "* **s** is the `(col, row)` pair for the current state being scanned.\n",
    "* **planned_a** is the `(col, row)` pair that states the planned action.\n",
    "* **actions**: a `List` of possible actions, A, as offsets.\n",
    "* **costs**: a `Dict` of costs by terrain (this is part of R)\n",
    "* **goal**: A `Tuple` of (x, y) stating the goal state.\n",
    "* **vs_last**: a `List` of `List`s of rewards from previous states\n",
    "* **pp**: desired(planned) probability. It is set to 70% by default\n",
    "* **sp**: surporise probability for non desired direction. It is set to 10% by default.\n",
    "\n",
    "The function returns `transition reward` of the state. </br>"
   ]
  },
  {
   "cell_type": "code",
   "execution_count": 7,
   "metadata": {},
   "outputs": [],
   "source": [
    "def transition(world, s, planned_a, actions, vs_last, pp = 0.70, sp = 0.10):\n",
    "    tmp_sum = 0\n",
    "    for a in actions:\n",
    "        if is_valid(world, s, a):\n",
    "            if a == planned_a:\n",
    "                tmp_sum += pp* vs_last[s[0]+a[0]][s[1]+a[1]]\n",
    "            else:\n",
    "                tmp_sum += sp* vs_last[s[0]+a[0]][s[1]+a[1]]\n",
    "    return tmp_sum"
   ]
  },
  {
   "cell_type": "markdown",
   "metadata": {},
   "source": [
    "**value_iteration**<br>\n",
    "The `value_iteration` is the value iteration (stocastic version) algorithm implementation.\n",
    "\n",
    "Parameters:\n",
    "* **world**: a `List` of `List`s of terrain (this is S from S, A, T, gamma, R)\n",
    "* **actions**: a `List` of possible actions, A, as offsets.\n",
    "* **costs**: a `Dict` of costs by terrain (this is part of R)\n",
    "* **goal**: A `Tuple` of (x, y) stating the goal state.\n",
    "\n",
    "returns<br>\n",
    "It returns `policy dictionary`</br>"
   ]
  },
  {
   "cell_type": "code",
   "execution_count": 8,
   "metadata": {},
   "outputs": [],
   "source": [
    "def value_iteration(world, costs, goal, rewards, actions, gamma):\n",
    "    plc, t, decode_action = {}, 0, {(0,1):\">\", (1,0):\"v\", (-1,0):\"^\", (0,-1):\"<\"}\n",
    "    vs = [[0 for _ in range(len(world[0]))] for _ in range(len(world))]\n",
    "    while True:\n",
    "        vs_last, t = deepcopy(vs), t+1\n",
    "        for row in range(len(world)):\n",
    "            for col in range(len(world[0])):\n",
    "                if world[row][col] != 'x':\n",
    "                    qsa = {}\n",
    "                    for a in actions:\n",
    "                        if is_valid(world,(row,col), a):        # check if the action is valid\n",
    "                            qsa[(row,col),decode_action[a]] = calc_reward(world, (row,col), a, costs, rewards, goal) + gamma * transition(world, (row,col), a, actions, vs_last)\n",
    "                    pi_s = max(qsa, key = lambda x:qsa[x])      # find the action with best reward\n",
    "                    vs[row][col], plc[(row,col)]  = round(qsa[pi_s],2), pi_s[1]\n",
    "                else:\n",
    "                    plc[(row,col)] = 'x'\n",
    "        if np.max(abs(np.array(vs)-np.array(vs_last))) < 0.01:\n",
    "            break\n",
    "    return plc"
   ]
  },
  {
   "cell_type": "markdown",
   "metadata": {},
   "source": [
    "**pretty_print_policy**<br>\n",
    "The `pretty_print_policy` is the function that prints the policy.\n",
    "\n",
    "Parameters:\n",
    "* **cols**: number of columns in world.\n",
    "* **rows**: number of rows in world.\n",
    "* **policy**: a `Dict` of policy.\n",
    "* **goal**: A `Tuple` of (x, y) stating the goal state.\n",
    "\n",
    "The function prints the policy in the reqested format.\n",
    "For example, if policy is as shown below<br>\n",
    "```\n",
    "policy = {(0,0):>,\n",
    "          (0,1):>,\n",
    "          (0,2):v,\n",
    "          (1,0):v,\n",
    "          (1,2):v,\n",
    "          (1,1):x,\n",
    "          (2,0):>,\n",
    "          (2,1):>,\n",
    "          (2,2):G}\n",
    "rows = 3\n",
    "cols = 3\n",
    "goal = (2,2),\n",
    "```\n",
    "returns<br>\n",
    "```\n",
    ">>v\n",
    "vxv\n",
    ">>G\n",
    "```"
   ]
  },
  {
   "cell_type": "code",
   "execution_count": 9,
   "metadata": {},
   "outputs": [],
   "source": [
    "def pretty_print_policy( cols, rows, policy, goal):\n",
    "    policy[(goal[1], goal[0])] = 'G'\n",
    "    for row in range(rows):\n",
    "        tmp_row = [policy[(row,col)] for col in range(cols)]\n",
    "        print(\"\".join(tmp_row))"
   ]
  },
  {
   "cell_type": "markdown",
   "metadata": {},
   "source": [
    "## Value Iteration\n",
    "\n",
    "### Small World"
   ]
  },
  {
   "cell_type": "code",
   "execution_count": 10,
   "metadata": {},
   "outputs": [],
   "source": [
    "small_world = read_world( \"small.txt\")"
   ]
  },
  {
   "cell_type": "code",
   "execution_count": 11,
   "metadata": {},
   "outputs": [],
   "source": [
    "goal = (len(small_world[0])-1, len(small_world)-1)\n",
    "gamma = 0.9\n",
    "reward = 10\n",
    "\n",
    "small_policy = value_iteration(small_world, costs, goal, reward, cardinal_moves, gamma)"
   ]
  },
  {
   "cell_type": "code",
   "execution_count": 12,
   "metadata": {},
   "outputs": [
    {
     "name": "stdout",
     "output_type": "stream",
     "text": [
      "v>>>>v\n",
      "v<^^>v\n",
      "v<v>>v\n",
      "v<vx>v\n",
      "vvvvvv\n",
      ">>>>>v\n",
      ">>>>>G\n"
     ]
    }
   ],
   "source": [
    "cols = len(small_world[0])\n",
    "rows = len(small_world)\n",
    "\n",
    "pretty_print_policy(cols, rows, small_policy, goal)"
   ]
  },
  {
   "cell_type": "markdown",
   "metadata": {},
   "source": [
    "### Large World"
   ]
  },
  {
   "cell_type": "code",
   "execution_count": 13,
   "metadata": {},
   "outputs": [],
   "source": [
    "large_world = read_world( \"large.txt\")"
   ]
  },
  {
   "cell_type": "code",
   "execution_count": null,
   "metadata": {},
   "outputs": [],
   "source": [
    "goal = (len(large_world[0])-1, len(large_world)-1) # Lower Right Corner FILL ME IN\n",
    "gamma = 0.9\n",
    "reward = 17500\n",
    "large_policy = value_iteration(large_world, costs, goal, reward, cardinal_moves, gamma)"
   ]
  },
  {
   "cell_type": "code",
   "execution_count": null,
   "metadata": {},
   "outputs": [],
   "source": [
    "cols = len(large_world[0])\n",
    "rows = len(large_world)\n",
    "\n",
    "pretty_print_policy( cols, rows, large_policy, goal)"
   ]
  },
  {
   "cell_type": "markdown",
   "metadata": {},
   "source": [
    "## Before You Submit...\n",
    "\n",
    "1. Did you provide output exactly as requested?\n",
    "2. Did you re-execute the entire notebook? (\"Restart Kernel and Rull All Cells...\")\n",
    "3. If you did not complete the assignment or had difficulty please explain what gave you the most difficulty in the Markdown cell below.\n",
    "4. Did you change the name of the file to `jhed_id.ipynb`?\n",
    "\n",
    "Do not submit any other files."
   ]
  },
  {
   "cell_type": "markdown",
   "metadata": {},
   "source": []
  },
  {
   "cell_type": "code",
   "execution_count": null,
   "metadata": {},
   "outputs": [],
   "source": []
  },
  {
   "cell_type": "code",
   "execution_count": null,
   "metadata": {},
   "outputs": [],
   "source": []
  }
 ],
 "metadata": {
  "kernelspec": {
   "display_name": "Python (en605645)",
   "language": "python",
   "name": "en605645"
  },
  "language_info": {
   "codemirror_mode": {
    "name": "ipython",
    "version": 3
   },
   "file_extension": ".py",
   "mimetype": "text/x-python",
   "name": "python",
   "nbconvert_exporter": "python",
   "pygments_lexer": "ipython3",
   "version": "3.7.10"
  },
  "toc": {
   "colors": {
    "hover_highlight": "#DAA520",
    "navigate_num": "#000000",
    "navigate_text": "#333333",
    "running_highlight": "#FF0000",
    "selected_highlight": "#FFD700",
    "sidebar_border": "#EEEEEE",
    "wrapper_background": "#FFFFFF"
   },
   "moveMenuLeft": true,
   "nav_menu": {
    "height": "171px",
    "width": "252px"
   },
   "navigate_menu": true,
   "number_sections": true,
   "sideBar": true,
   "threshold": 4,
   "toc_cell": false,
   "toc_section_display": "block",
   "toc_window_display": false,
   "widenNotebook": false
  }
 },
 "nbformat": 4,
 "nbformat_minor": 4
}
