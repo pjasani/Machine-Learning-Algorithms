{
 "cells": [
  {
   "cell_type": "markdown",
   "metadata": {},
   "source": [
    "# Module 10 - Programming Assignment\n",
    "\n",
    "## Directions\n",
    "\n",
    "1. Change the name of this file to be your JHED id as in `jsmith299.ipynb`. Because sure you use your JHED ID (it's made out of your name and not your student id which is just letters and numbers).\n",
    "2. Make sure the notebook you submit is cleanly and fully executed. I do not grade unexecuted notebooks.\n",
    "3. Submit your notebook back in Blackboard where you downloaded this file.\n",
    "\n",
    "*Provide the output **exactly** as requested*"
   ]
  },
  {
   "cell_type": "markdown",
   "metadata": {},
   "source": [
    "# Forward Planner\n",
    "\n",
    "## Unify\n",
    "\n",
    "Use the accompanying `unification.py` file for unification. For this assignment, you're almost certainly going to want to be able to:\n",
    "\n",
    "1. specify the problem in terms of S-expressions.\n",
    "2. parse them.\n",
    "3. work with the parsed versions.\n",
    "\n",
    "`parse` and `unification` work exactly like the programming assignment for last time."
   ]
  },
  {
   "cell_type": "code",
   "execution_count": 1,
   "metadata": {},
   "outputs": [],
   "source": [
    "from unification import parse, unification\n",
    "from pprint import pprint\n",
    "from copy import deepcopy"
   ]
  },
  {
   "cell_type": "markdown",
   "metadata": {},
   "source": [
    "## Forward Planner\n",
    "\n",
    "In this assigment, you're going to implement a Forward Planner. What does that mean? If you look in your book, you will not find pseudocode for a forward planner. It just says \"use state space search\" but this is less than helpful and it's a bit more complicated than that. **(but please please do not try to implement STRIPS or GraphPlan...that is wrong).**\n",
    "\n",
    "At a high level, a forward planner takes the current state of the world $S_0$ and attempts to derive a plan, basically by Depth First Search. We have all the ingredients we said we would need in Module 1: states, actions, a transition function and a goal test. We have a set of predicates that describe a state (and therefore all possible states), we have actions and we have, at least, an implicit transition function: applying an action in a state causes the state to change as described by the add and delete lists.\n",
    "\n",
    "Let's say we have a drill that's an item, two places such as home and store, and we know that I'm at home and the drill is at the store and I want to go buy a drill (have it be at home). We might represent that as:\n",
    "\n",
    "<code>\n",
    "start_state = [\n",
    "    \"(item Saw)\",\n",
    "    \"(item Drill)\",\n",
    "    \"(place Home)\",\n",
    "    \"(place Store)\",\n",
    "    \"(place Bank)\",\n",
    "    \"(agent Me)\",\n",
    "    \"(at Me Home)\",\n",
    "    \"(at Saw Store)\",\n",
    "    \"(at Drill Store)\",\n",
    "    \"(at Money Bank)\"\n",
    "]\n",
    "</code>\n",
    "\n",
    "And we have a goal state:\n",
    "\n",
    "<code>\n",
    "goal = [\n",
    "    \"(item Saw)\",\n",
    "    \"(item Drill)\",\n",
    "    \"(place Home)\",\n",
    "    \"(place Store)\",\n",
    "    \"(place Bank)\",\n",
    "    \"(agent Me)\",\n",
    "    \"(at Me Home)\",\n",
    "    \"(at Drill Me)\",\n",
    "    \"(at Saw Store)\",\n",
    "    \"(at Money Bank)\"\n",
    "]\n",
    "</code>\n",
    "\n",
    "The actions/operators are:\n",
    "\n",
    "<code>\n",
    "actions = {\n",
    "    \"drive\": {\n",
    "        \"action\": \"(drive ?agent ?from ?to)\",\n",
    "        \"conditions\": [\n",
    "            \"(agent ?agent)\",\n",
    "            \"(place ?from)\",\n",
    "            \"(place ?to)\",\n",
    "            \"(at ?agent ?from)\"\n",
    "        ],\n",
    "        \"add\": [\n",
    "            \"(at ?agent ?to)\"\n",
    "        ],\n",
    "        \"delete\": [\n",
    "            \"(at ?agent ?from)\"\n",
    "        ]\n",
    "    },\n",
    "    \"buy\": {\n",
    "        \"action\": \"(buy ?purchaser ?seller ?item)\",\n",
    "        \"conditions\": [\n",
    "            \"(item ?item)\",\n",
    "            \"(place ?seller)\",\n",
    "            \"(agent ?purchaser)\",\n",
    "            \"(at ?item ?seller)\",\n",
    "            \"(at ?purchaser ?seller)\"\n",
    "        ],\n",
    "        \"add\": [\n",
    "            \"(at ?item ?purchaser)\"\n",
    "        ],\n",
    "        \"delete\": [\n",
    "            \"(at ?item ?seller)\"\n",
    "        ]\n",
    "    }\n",
    "}\n",
    "</code>\n",
    "\n",
    "These will all need to be parsed from s-expressions to the underlying Python representation before you can use them. You might as well do it at the start of your algorithm, once. The order of the conditions is *not* arbitrary. It is much, much better for the unification and backtracking if you have the \"type\" predicates (item, place, agent) before the more complex ones. Trust me on this.\n",
    "\n",
    "As for the algorithm itself, there is going to be an *outer* level of search and an *inner* level of search.\n",
    "\n",
    "The *outer* level of search that is exactly what I describe here: you have a state, you generate successor states by applying actions to the current state, you examine those successor states as we did at the first week of the semester and if one is the goal you stop, if you see a repeat state, you put it on the explored list (you should implement graph search not tree search). What could be simpler?\n",
    "\n",
    "It turns out the Devil is in the details. There is an *inner* level of search hidden in \"you generate successor states by applying actions to the current state\". Where?\n",
    "\n",
    "How do you know if an action applies in a state? Only if the preconditions successfully unify with the current state. That seems easy enough...you check each predicate in the conditions to see if it unifies with the current state and if it does, you use the substitution list on the action, the add and delete lists and create the successor state based on them.\n",
    "\n",
    "Except for one small problem...there may be more than one way to unify an action with the current state. You must essentially search for all successful unifications of the candidate action and the current state. This is where my question through the semester appliesm, \"how would you modify state space search to return all the paths to the goal?\"\n",
    "\n",
    "Unification can be seen as state space search by trying to unify the first precondition with the current state, progressively working your way through the precondition list. If you fail at any point, you may need to backtrack because there might have been another unification of that predicate that would succeed. Similarly, as already mentioned, there may be more than one.\n",
    "\n",
    "So...by using unification and a properly defined <code>successors</code> function, you should be able to apply graph based search to the problem and return a \"path\" through the states from the initial state to the goal. You'll definitely want to use graph-based search since <code>( drive Me Store), (drive Me Home), (drive Me Store), (drive Me Home), (drive Me Store), (buy Me Store Drill), (drive Me Home)</code> is a valid plan.\n",
    "\n",
    "Your function should return the plan...a list of actions, fully instantiated, for the agent to do in order: [a1, a2, a3]. If you pass an extra intermediate=True parameter, it should also return the resulting state of each action: [s0, a1, s1, a2, s2, a3, s3].\n",
    "\n",
    "-----"
   ]
  },
  {
   "cell_type": "markdown",
   "metadata": {},
   "source": [
    "(you can just overwrite that one and add as many others as you need). Remember to follow the **Guidelines**.\n",
    "\n",
    "\n",
    "-----\n",
    "\n",
    "So you need to implement `forward_planner` as described above. `start_state`, `goal` and `actions` should all have the layout above and be s-expressions.\n",
    "\n",
    "Your implementation should return the plan as a **List of instantiated actions**. If `debug=True`, you should print out the intermediate states of the plan as well."
   ]
  },
  {
   "cell_type": "markdown",
   "metadata": {},
   "source": [
    "**parse_set**<br>\n",
    "The `parse_set` parses the data in the dictionary\n",
    "\n",
    "Parameters:\n",
    "* **dct** dictionary we want to parse the data of\n",
    "\n",
    "The function return the dictionary with parsed data.</br>\n",
    "For example if the dct is as shown below\n",
    "```\n",
    "actions = {\n",
    "    \"drive\": {\n",
    "        \"action\": \"(drive ?agent ?from ?to)\",\n",
    "        \"delete\": [\n",
    "            \"(at ?agent ?from)\"\n",
    "        ]\n",
    "    },\n",
    "```\n",
    "retuns:<br>\n",
    "```actions = \n",
    "    {\n",
    "    \"drive\": [\"drive\", \"?agent\", \"?from\", \"?to\"]\n",
    "    \"delete\": [\"at\", \"?agent\", \"?from\"]\n",
    "    }\n",
    "```"
   ]
  },
  {
   "cell_type": "code",
   "execution_count": 2,
   "metadata": {},
   "outputs": [],
   "source": [
    "def parse_set(dct):\n",
    "    for key in dct:\n",
    "        if type(dct[key]) == str:\n",
    "            dct[key] = parse(dct[key])\n",
    "        elif type(dct[key]) == list:\n",
    "                dct[key] = parse(dct[key][0]) if len(dct[key]) == 1 else [parse(item) for item in dct[key]]\n",
    "        elif type(dct[key]) == dict:\n",
    "            dct[key] = parse_set(dct[key])\n",
    "    return dct"
   ]
  },
  {
   "cell_type": "markdown",
   "metadata": {},
   "source": [
    "**is_terminal**<br>\n",
    "The `is_terminal` check if the current_state and the goal are equal.\n",
    "\n",
    "Parameters:\n",
    "* **current_state** is the info that we need to match to the goal state\n",
    "* **goal** is the info about the goal state\n",
    "\n",
    "The function returns `True` if current_state and goal_match otherwise it returns `False`</br>\n",
    "For example if the current_state and goal are as shown below\n",
    "```\n",
    "current_stae=[\n",
    "    \"(item Saw)\",\n",
    "    \"(item Drill)\",\n",
    "    \"(place Home)\",]\n",
    "    \n",
    "goal=[\n",
    "    \"(item Saw)\",\n",
    "    \"(item Drill)\",\n",
    "    \"(place Home)\",] \n",
    "```\n",
    "retuns:<br>\n",
    "`True`"
   ]
  },
  {
   "cell_type": "code",
   "execution_count": 3,
   "metadata": {},
   "outputs": [],
   "source": [
    "def is_terminal(current_state, goal):   # are current_state and goal_states the same?\n",
    "    current_check = [1 for ind in range(len(current_state)) if current_state[ind] in goal]\n",
    "    goal_check = [1 for ind in range(len(goal)) if goal[ind] in current_state]\n",
    "    if len(current_check) == len(current_state) and len(goal_check) == len(goal):\n",
    "        return True\n",
    "    return False"
   ]
  },
  {
   "cell_type": "markdown",
   "metadata": {},
   "source": [
    "**apply_result**<br>\n",
    "The `apply_result` applies the substitutions in the expr_dct\n",
    "\n",
    "Parameters:\n",
    "* **result** is dictionary contaning the substitution that need to be made\n",
    "* **expr_dct** is the dictionary we want to make the substitutions to.\n",
    "\n",
    "The function does not return anything</br>\n",
    "For example if the result and expr_dct are as shown below\n",
    "```\n",
    "result= {?agent: Me }\n",
    "expr_dct={\n",
    "    \"drive\": {\n",
    "    \"drive\": [\"drive\", \"?agent\", \"?from\", \"?to\"]\n",
    "    \"delete\": [\"at\", \"?agent\", \"?from\"]\n",
    "    }\n",
    "```\n",
    "retuns:<br>\n",
    "it modified expr_dct to the following\n",
    "```\n",
    "expr_dct={\n",
    "    \"drive\": {\n",
    "    \"action\": [\"drive\", \"Me\", \"?from\", \"?to\"]\n",
    "    \"delete\": [\"at\", \"Me\", \"?from\"]\n",
    "    }\n",
    "```"
   ]
  },
  {
   "cell_type": "code",
   "execution_count": 4,
   "metadata": {
    "tags": []
   },
   "outputs": [],
   "source": [
    "def apply_result(result, expr_dct):\n",
    "    read_from = enumerate(expr_dct) if type(expr_dct) == list else expr_dct.items()   # dictionary or list?\n",
    "    for indx, value in read_from:\n",
    "        if type(value) == list:\n",
    "            apply_result(result, value)\n",
    "        else:\n",
    "            if value in result:\n",
    "                expr_dct[indx] = result[value]"
   ]
  },
  {
   "cell_type": "markdown",
   "metadata": {},
   "source": [
    "**update_current_state**<br>\n",
    "The `update_current_state` updates the current_state given the actions\n",
    "\n",
    "Parameters:\n",
    "* **current_state** is state we want to update\n",
    "* **acton** is the action we want to use to update current state\n",
    "\n",
    "The function returns `dictionary` containing action and updated_current_state </br>\n",
    "For example if the current_state and action are as shown below\n",
    "```\n",
    "current_stae=[\n",
    "    [item, Saw],\n",
    "    [item, Drill],\n",
    "    [place, Home],\n",
    "    [at, me, Store]]\n",
    "\n",
    "action = {\n",
    "        \"action\": [drive, Me, Store, Home],\n",
    "        \"conditions\": [\n",
    "            [agent, Me],\n",
    "            [at, Me, Store]\n",
    "        ],\n",
    "        \"add\": [\n",
    "            [at, Me, Home]\n",
    "        ],\n",
    "        \"delete\": [\n",
    "            [at, Me, Store]\n",
    "        ]\n",
    "    }\n",
    "\n",
    "```\n",
    "retuns:<br>\n",
    "it returns updated state\n",
    "```\n",
    "updated_state={\n",
    "      \"action\": [drive, Me, Store, Home]\n",
    "      \"current_state\": [[item, Saw],\n",
    "                        [item, Drill],\n",
    "                        [place, Home],\n",
    "                        [at, me, Home]]}\n",
    "```"
   ]
  },
  {
   "cell_type": "code",
   "execution_count": 5,
   "metadata": {
    "tags": []
   },
   "outputs": [],
   "source": [
    "def update_current_state(current_state, action):\n",
    "    update_state = deepcopy(current_state)\n",
    "    action_state = deepcopy(action)\n",
    "    \n",
    "    tmp_cond = \"(\"+\" \".join(action_state[\"add\"])+\")\"  # add condition to updated state\n",
    "    if tmp_cond not in update_state:\n",
    "        update_state += [tmp_cond]\n",
    "    \n",
    "    tmp_cond = \"(\"+\" \".join(action_state[\"delete\"])+\")\" # remove delete condition\n",
    "    if tmp_cond in update_state:\n",
    "        update_state.remove(tmp_cond)\n",
    "    \n",
    "    del action_state[\"add\"]\n",
    "    del action_state[\"delete\"]\n",
    "    del action_state[\"conditions\"]\n",
    "    action_state[\"current_state\"] = update_state  # save update state in action dictionary\n",
    "    return action_state"
   ]
  },
  {
   "cell_type": "markdown",
   "metadata": {},
   "source": [
    "**successor_helper**<br>\n",
    "The `successor_helper` is a helper function for `successor` which recursively updates the current_state given the actions.\n",
    "\n",
    "Parameters:\n",
    "* **current_state** lis the list containing info we want to determine if they meet the action condition.\n",
    "* **action** dictionary contains information like conditions, add, delete, action\n",
    "* **substitutes** is dictionary used to keep track of all the substitutes\n",
    "\n",
    "returns<br>\n",
    "The function does not return anything, but it does modify action dictionary. </br>"
   ]
  },
  {
   "cell_type": "code",
   "execution_count": 6,
   "metadata": {
    "tags": []
   },
   "outputs": [],
   "source": [
    "def successor_helper(current_state, action, substitutes):\n",
    "    for action_cond in action[\"conditions\"]:\n",
    "        for c_cond in current_state:\n",
    "            result = unification(action_cond, parse(c_cond))\n",
    "            if result != False:\n",
    "                action[\"conditions\"].remove(action_cond)\n",
    "                substitutes.update(result)\n",
    "                apply_result(result, action) if result != {} else None\n",
    "                if action[\"conditions\"] != []:\n",
    "                    successor_helper(current_state, action, substitutes)\n",
    "                break"
   ]
  },
  {
   "cell_type": "markdown",
   "metadata": {},
   "source": [
    "**successor**<br>\n",
    "The `successor` function finds all successors of the given current state. \n",
    "\n",
    "Parameters:\n",
    "* **current_state** is the current state we want to determine the successors for\n",
    "* **action** dictionary contains information like conditions, add, delete, action about different actions\n",
    "\n",
    "returns<br>\n",
    "The function returns a `list of dictionaries`. where each dictionary contains informatioon about a successor state and its updated current state."
   ]
  },
  {
   "cell_type": "code",
   "execution_count": 7,
   "metadata": {
    "tags": []
   },
   "outputs": [],
   "source": [
    "def successor(current_state, actions):\n",
    "    ac_parsed, succ_lst = deepcopy(actions), []\n",
    "    for action in ac_parsed:\n",
    "        for action_cond in ac_parsed[action][\"conditions\"]:\n",
    "            for c_cond in current_state:\n",
    "                ac_copy, substitutes = deepcopy(ac_parsed), {}\n",
    "                result = unification(action_cond, parse(c_cond))\n",
    "                if result != False:\n",
    "                    ac_copy[action][\"conditions\"].remove(action_cond)  # current condition matched so remove\n",
    "                    substitutes= result\n",
    "                    apply_result(result, ac_copy[action])\n",
    "                    successor_helper(current_state, ac_copy[action], substitutes) \n",
    "                    if ac_copy[action][\"conditions\"] == []:\n",
    "                        check = [0 for dct in succ_lst if \" \".join(dct[\"action\"]) == \" \".join(ac_copy[action][\"action\"])]  # additiona check to make sure we don't have dupes\n",
    "                        if len(check) == 0:\n",
    "                            new_current_state = update_current_state(current_state, ac_copy[action])\n",
    "                            new_current_state[\"subs\"] = substitutes\n",
    "                            succ_lst += [new_current_state]\n",
    "    return succ_lst"
   ]
  },
  {
   "cell_type": "markdown",
   "metadata": {},
   "source": [
    "**in_check**<br>\n",
    "The `in_check` is a helper function for `forward planner`. It cheks if the given action is in the explored and frontier.\n",
    "\n",
    "Parameters:\n",
    "* **action** the action we want to find if it is in the explored or frontier\n",
    "* **explored** is a list contaning explored actions\n",
    "* **frontier** is a stack of dictionaries contaning actions and its current state\n",
    "\n",
    "The function returns `True` if action is not in explored and in frontier otherwise it returns `False`\n",
    "For example if the explored and frontier as given below and action  = \"buy Me Store Drill\"\n",
    "```\n",
    "explored = [drive Me Home Bank, drive Me Bank Home, drive Me Home Store]\n",
    "frontier = {action:buy Me Store Saw, current state: []},\n",
    "           {action:drive Me Store Home, current_state = []}\n",
    "```\n",
    "It returns<br>\n",
    "`True`"
   ]
  },
  {
   "cell_type": "code",
   "execution_count": 8,
   "metadata": {
    "tags": []
   },
   "outputs": [],
   "source": [
    "def in_check(action,explored, frontier):\n",
    "    explored_check, frontier_check = True, True\n",
    "    if \" \".join(action) in explored:\n",
    "        explored_check = False  # explored check failed\n",
    "    for dct in frontier:\n",
    "        if \" \".join(dct[\"action\"]) == action:\n",
    "            frontier_check = False  # frontier check failed\n",
    "            break\n",
    "    return explored_check & frontier_check"
   ]
  },
  {
   "cell_type": "markdown",
   "metadata": {},
   "source": [
    "**backtrack**<br>\n",
    "The `backtrack` is a helper function for `forward planner`. It takes tha path dictionary and backtracks the the path to the initial state given the last_action.\n",
    "\n",
    "Parameters:\n",
    "* **path** THe dictionary containing the parent action of each of the actions.\n",
    "* **last_action** the action whose current state matched the goal.\n",
    "\n",
    "The function returns `list of actions` which is the final path.\n",
    "For example if the path is as given below and last action was \"drive me Bank Home\"\n",
    "```\n",
    "path = {'drive Me Home Bank': 'start action',          # in format node:parent_node\n",
    "        'drive Me Bank Home': 'drive Me Home Bank'}\n",
    "```\n",
    "It returns<br>\n",
    "`[drive Me Home Bank, 'drive Me Bank Home]`"
   ]
  },
  {
   "cell_type": "code",
   "execution_count": 9,
   "metadata": {},
   "outputs": [],
   "source": [
    "def backtrack(path, last_action):\n",
    "    action = last_action\n",
    "    final_path = [action]\n",
    "    while path[action] != \"start action\":\n",
    "        action = path[action]\n",
    "        final_path.insert(0, action)\n",
    "    return final_path"
   ]
  },
  {
   "cell_type": "markdown",
   "metadata": {},
   "source": [
    "**forward_planner**<br>\n",
    "The `forward_planner` implements a forward planner. It finds the actions that can lead from the current state to the goal.\n",
    "\n",
    "Parameters:\n",
    "* **start_state** is the state we will start the algorithm with\n",
    "* **goal** is the state we want to reach.\n",
    "* **acions** is dictionary of possible actions.\n",
    "* **debug** is flag to indicate if we want to print debug statements. It is set to False by defauly.\n",
    "\n",
    "returns<br>\n",
    "The function returns `list of actions` which is the final path."
   ]
  },
  {
   "cell_type": "code",
   "execution_count": 10,
   "metadata": {},
   "outputs": [],
   "source": [
    "def forward_planner( start_state, goal, actions, debug=False):\n",
    "    path = {}\n",
    "    start = {\"action\":[\"start\",\"action\"],\"subs\": {}, \"current_state\" : start_state}\n",
    "    frontier, explored = [start], []\n",
    "    actns = parse_set(deepcopy(actions))\n",
    "    while frontier != []:\n",
    "        current_state = frontier.pop()\n",
    "        print(f\"Action: {' '.join(current_state['action'])}\") if debug else None\n",
    "        if is_terminal(current_state[\"current_state\"], goal):\n",
    "            print(current_state[\"current_state\"])\n",
    "            return backtrack(path, \" \".join(current_state[\"action\"]))                # backtrack the path\n",
    "        children = successor(current_state[\"current_state\"], actns)\n",
    "        for child in children:\n",
    "            if in_check(child[\"action\"], explored, frontier):                        # check if action is in explored or frontier \n",
    "                path[\" \".join(child[\"action\"])] = \" \".join(current_state[\"action\"])  # update the path with its parent node\n",
    "                frontier += [child]\n",
    "        explored += [\" \".join(current_state[\"action\"])]\n",
    "    return []"
   ]
  },
  {
   "cell_type": "markdown",
   "metadata": {},
   "source": [
    "You will be solving the problem from above. Here is the start state:"
   ]
  },
  {
   "cell_type": "code",
   "execution_count": 11,
   "metadata": {},
   "outputs": [],
   "source": [
    "start_state = [\n",
    "    \"(item Saw)\",\n",
    "    \"(item Drill)\",\n",
    "    \"(place Home)\",\n",
    "    \"(place Store)\",\n",
    "    \"(place Bank)\",\n",
    "    \"(agent Me)\",\n",
    "    \"(at Me Home)\",\n",
    "    \"(at Saw Store)\",\n",
    "    \"(at Drill Store)\"\n",
    "]"
   ]
  },
  {
   "cell_type": "markdown",
   "metadata": {},
   "source": [
    "The goal state:"
   ]
  },
  {
   "cell_type": "code",
   "execution_count": 12,
   "metadata": {
    "tags": []
   },
   "outputs": [],
   "source": [
    "goal = [\n",
    "    \"(item Saw)\",    \n",
    "    \"(item Drill)\",\n",
    "    \"(place Home)\",\n",
    "    \"(place Store)\",\n",
    "    \"(place Bank)\",    \n",
    "    \"(agent Me)\",\n",
    "    \"(at Me Home)\",\n",
    "    \"(at Drill Me)\",\n",
    "    \"(at Saw Store)\"    \n",
    "]"
   ]
  },
  {
   "cell_type": "markdown",
   "metadata": {},
   "source": [
    "and the actions/operators:"
   ]
  },
  {
   "cell_type": "code",
   "execution_count": 13,
   "metadata": {},
   "outputs": [],
   "source": [
    "actions = {\n",
    "    \"drive\": {\n",
    "        \"action\": \"(drive ?agent ?from ?to)\",\n",
    "        \"conditions\": [\n",
    "            \"(agent ?agent)\",\n",
    "            \"(place ?from)\",\n",
    "            \"(place ?to)\",\n",
    "            \"(at ?agent ?from)\"\n",
    "        ],\n",
    "        \"add\": [\n",
    "            \"(at ?agent ?to)\"\n",
    "        ],\n",
    "        \"delete\": [\n",
    "            \"(at ?agent ?from)\"\n",
    "        ]\n",
    "    },\n",
    "    \"buy\": {\n",
    "        \"action\": \"(buy ?purchaser ?seller ?item)\",\n",
    "        \"conditions\": [\n",
    "            \"(item ?item)\",\n",
    "            \"(place ?seller)\",\n",
    "            \"(agent ?purchaser)\",\n",
    "            \"(at ?item ?seller)\",\n",
    "            \"(at ?purchaser ?seller)\"\n",
    "        ],\n",
    "        \"add\": [\n",
    "            \"(at ?item ?purchaser)\"\n",
    "        ],\n",
    "        \"delete\": [\n",
    "            \"(at ?item ?seller)\"\n",
    "        ]\n",
    "    }\n",
    "}"
   ]
  },
  {
   "cell_type": "markdown",
   "metadata": {},
   "source": [
    "**Note** The facts for each state are really an ordered set. When comparing two states, you may need to convert them to a Set first."
   ]
  },
  {
   "cell_type": "code",
   "execution_count": 14,
   "metadata": {},
   "outputs": [
    {
     "name": "stdout",
     "output_type": "stream",
     "text": [
      "Action: start action\n",
      "Action: drive Me Home Bank\n",
      "Action: drive Me Bank Home\n",
      "Action: drive Me Home Store\n",
      "Action: buy Me Store Drill\n",
      "Action: buy Me Store Saw\n",
      "Action: drive Me Store Home\n",
      "Action: drive Me Home Home\n",
      "Action: drive Me Store Home\n",
      "['(item Saw)', '(item Drill)', '(place Home)', '(place Store)', '(place Bank)', '(agent Me)', '(at Saw Store)', '(at Drill Me)', '(at Me Home)']\n"
     ]
    }
   ],
   "source": [
    "plan = forward_planner( start_state, goal, actions, debug = True)"
   ]
  },
  {
   "cell_type": "code",
   "execution_count": 15,
   "metadata": {},
   "outputs": [
    {
     "name": "stdout",
     "output_type": "stream",
     "text": [
      "drive Me Home Bank\n",
      "drive Me Bank Home\n",
      "drive Me Home Store\n",
      "buy Me Store Drill\n",
      "buy Me Store Saw\n",
      "drive Me Store Home\n"
     ]
    }
   ],
   "source": [
    "for el in plan:\n",
    "    print(el)"
   ]
  },
  {
   "cell_type": "markdown",
   "metadata": {},
   "source": [
    "## Before You Submit...\n",
    "\n",
    "1. Did you provide output exactly as requested?\n",
    "2. Did you re-execute the entire notebook? (\"Restart Kernel and Rull All Cells...\")\n",
    "3. If you did not complete the assignment or had difficulty please explain what gave you the most difficulty in the Markdown cell below.\n",
    "4. Did you change the name of the file to `jhed_id.ipynb`?\n",
    "\n",
    "Do not submit any other files."
   ]
  },
  {
   "cell_type": "markdown",
   "metadata": {},
   "source": []
  }
 ],
 "metadata": {
  "kernelspec": {
   "display_name": "Python (en605645)",
   "language": "python",
   "name": "en605645"
  },
  "language_info": {
   "codemirror_mode": {
    "name": "ipython",
    "version": 3
   },
   "file_extension": ".py",
   "mimetype": "text/x-python",
   "name": "python",
   "nbconvert_exporter": "python",
   "pygments_lexer": "ipython3",
   "version": "3.7.10"
  },
  "toc": {
   "colors": {
    "hover_highlight": "#DAA520",
    "navigate_num": "#000000",
    "navigate_text": "#333333",
    "running_highlight": "#FF0000",
    "selected_highlight": "#FFD700",
    "sidebar_border": "#EEEEEE",
    "wrapper_background": "#FFFFFF"
   },
   "moveMenuLeft": true,
   "nav_menu": {
    "height": "102px",
    "width": "252px"
   },
   "navigate_menu": true,
   "number_sections": true,
   "sideBar": true,
   "threshold": 4,
   "toc_cell": false,
   "toc_section_display": "block",
   "toc_window_display": false,
   "widenNotebook": false
  }
 },
 "nbformat": 4,
 "nbformat_minor": 4
}
