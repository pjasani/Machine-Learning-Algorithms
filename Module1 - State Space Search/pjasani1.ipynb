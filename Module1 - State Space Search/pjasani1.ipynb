{
 "cells": [
  {
   "cell_type": "markdown",
   "metadata": {},
   "source": [
    "# Module 1 - Programming Assignment\n",
    "\n",
    "## Directions\n",
    "\n",
    "1. Change the name of this file to be your JHED id as in `jsmith299.ipynb`. Because sure you use your JHED ID (it's made out of your name and not your student id which is just letters and numbers).\n",
    "2. Make sure the notebook you submit is cleanly and fully executed. I do not grade unexecuted notebooks.\n",
    "3. Submit your notebook back in Blackboard where you downloaded this file.\n",
    "\n",
    "*Provide the output **exactly** as requested*"
   ]
  },
  {
   "cell_type": "markdown",
   "metadata": {},
   "source": [
    "# State Space Search with A* Search\n",
    "\n",
    "You are going to implement the A\\* Search algorithm for navigation problems.\n",
    "\n",
    "\n",
    "## Motivation\n",
    "\n",
    "Search is often used for path-finding in video games. Although the characters in a video game often move in continuous spaces,\n",
    "it is trivial to layout a \"waypoint\" system as a kind of navigation grid over the continuous space. Then if the character needs\n",
    "to get from Point A to Point B, it does a line of sight (LOS) scan to find the nearest waypoint (let's call it Waypoint A) and\n",
    "finds the nearest, LOS waypoint to Point B (let's call it Waypoint B). The agent then does a A* search for Waypoint B from Waypoint A to find the shortest path. The entire path is thus Point A to Waypoint A to Waypoint B to Point B.\n",
    "\n",
    "We're going to simplify the problem by working in a grid world. The symbols that form the grid have a special meaning as they\n",
    "specify the type of the terrain and the cost to enter a grid cell with that type of terrain:\n",
    "\n",
    "```\n",
    "token   terrain    cost \n",
    ".       plains     1\n",
    "*       forest     3\n",
    "#       hills      5\n",
    "~       swamp      7\n",
    "x       mountains  impassible\n",
    "```\n",
    "\n",
    "We can think of the raw format of the map as being something like:\n",
    "\n",
    "```\n",
    "....*..\n",
    "...***.\n",
    ".###...\n",
    "..##...\n",
    "..#..**\n",
    "....***\n",
    ".......\n",
    "```"
   ]
  },
  {
   "cell_type": "markdown",
   "metadata": {},
   "source": [
    "## The World\n",
    "\n",
    "Given a map like the one above, we can easily represent each row as a `List` and the entire map as `List of Lists`:"
   ]
  },
  {
   "cell_type": "code",
   "execution_count": 1,
   "metadata": {},
   "outputs": [],
   "source": [
    "full_world = [\n",
    "  ['.', '.', '.', '.', '.', '*', '*', '*', '*', '*', '*', '*', '*', '*', '*', '.', '.', '.', '.', '.', '.', '.', '.', '.', '.', '.', '.'], \n",
    "  ['.', '.', '.', '.', '.', '.', '.', '*', '*', '*', '*', '*', '*', '*', '*', '*', '.', '.', 'x', 'x', 'x', 'x', 'x', 'x', 'x', '.', '.'], \n",
    "  ['.', '.', '.', '.', 'x', 'x', '*', '*', '*', '*', '*', '*', '*', '*', '*', '*', '*', 'x', 'x', 'x', '#', '#', '#', 'x', 'x', '#', '#'], \n",
    "  ['.', '.', '.', '.', '#', 'x', 'x', 'x', '*', '*', '*', '*', '~', '~', '*', '*', '*', '*', '*', '.', '.', '#', '#', 'x', 'x', '#', '.'], \n",
    "  ['.', '.', '.', '#', '#', 'x', 'x', '*', '*', '.', '.', '~', '~', '~', '~', '*', '*', '*', '.', '.', '.', '#', 'x', 'x', 'x', '#', '.'], \n",
    "  ['.', '#', '#', '#', 'x', 'x', '#', '#', '.', '.', '.', '.', '~', '~', '~', '~', '~', '.', '.', '.', '.', '.', '#', 'x', '#', '.', '.'], \n",
    "  ['.', '#', '#', 'x', 'x', '#', '#', '.', '.', '.', '.', '#', 'x', 'x', 'x', '~', '~', '~', '.', '.', '.', '.', '.', '#', '.', '.', '.'], \n",
    "  ['.', '.', '#', '#', '#', '#', '#', '.', '.', '.', '.', '.', '.', '#', 'x', 'x', 'x', '~', '~', '~', '.', '.', '#', '#', '#', '.', '.'], \n",
    "  ['.', '.', '.', '#', '#', '#', '.', '.', '.', '.', '.', '.', '#', '#', 'x', 'x', '.', '~', '~', '.', '.', '#', '#', '#', '.', '.', '.'], \n",
    "  ['.', '.', '.', '~', '~', '~', '.', '.', '#', '#', '#', 'x', 'x', 'x', 'x', '.', '.', '.', '~', '.', '#', '#', '#', '.', '.', '.', '.'], \n",
    "  ['.', '.', '~', '~', '~', '~', '~', '.', '#', '#', 'x', 'x', 'x', '#', '.', '.', '.', '.', '.', '#', 'x', 'x', 'x', '#', '.', '.', '.'], \n",
    "  ['.', '~', '~', '~', '~', '~', '.', '.', '#', 'x', 'x', '#', '.', '.', '.', '.', '~', '~', '.', '.', '#', 'x', 'x', '#', '.', '.', '.'], \n",
    "  ['~', '~', '~', '~', '~', '.', '.', '#', '#', 'x', 'x', '#', '.', '~', '~', '~', '~', '.', '.', '.', '#', 'x', '#', '.', '.', '.', '.'], \n",
    "  ['.', '~', '~', '~', '~', '.', '.', '#', '*', '*', '#', '.', '.', '.', '.', '~', '~', '~', '~', '.', '.', '#', '.', '.', '.', '.', '.'], \n",
    "  ['.', '.', '.', '.', 'x', '.', '.', '*', '*', '*', '*', '#', '#', '#', '#', '.', '~', '~', '~', '.', '.', '#', 'x', '#', '.', '.', '.'], \n",
    "  ['.', '.', '.', 'x', 'x', 'x', '*', '*', '*', '*', '*', '*', 'x', 'x', 'x', '#', '#', '.', '~', '.', '#', 'x', 'x', '#', '.', '.', '.'], \n",
    "  ['.', '.', 'x', 'x', '*', '*', '*', '*', '*', '*', '*', '*', '*', '*', 'x', 'x', 'x', '.', '.', 'x', 'x', 'x', '.', '.', '.', '.', '.'], \n",
    "  ['.', '.', '.', 'x', 'x', '*', '*', '*', '*', '*', '*', '*', '*', '*', '*', '*', 'x', 'x', 'x', 'x', '.', '.', '.', '.', '.', '.', '.'], \n",
    "  ['.', '.', '.', 'x', 'x', 'x', '*', '*', '*', '*', '*', '*', '*', '*', '.', '.', '.', '#', '#', '.', '.', '.', '.', '.', '.', '.', '.'], \n",
    "  ['.', '.', '.', '.', 'x', 'x', 'x', '*', '*', '*', '*', '*', '*', '.', '.', '.', '.', '.', '.', '.', '.', '.', '.', '~', '~', '~', '~'], \n",
    "  ['.', '.', '#', '#', '#', '#', 'x', 'x', '*', '*', '*', '*', '*', '.', 'x', '.', '.', '.', '.', '.', '~', '~', '~', '~', '~', '~', '~'], \n",
    "  ['.', '.', '.', '.', '#', '#', '#', 'x', 'x', 'x', '*', '*', 'x', 'x', '.', '.', '.', '.', '.', '.', '~', '~', '~', '~', '~', '~', '~'], \n",
    "  ['.', '.', '.', '.', '.', '.', '#', '#', '#', 'x', 'x', 'x', 'x', '.', '.', '.', '.', '#', '#', '.', '.', '~', '~', '~', '~', '~', '~'], \n",
    "  ['.', '#', '#', '.', '.', '#', '#', '#', '#', '#', '.', '.', '.', '.', '.', '#', '#', 'x', 'x', '#', '#', '.', '~', '~', '~', '~', '~'], \n",
    "  ['#', 'x', '#', '#', '#', '#', '.', '.', '.', '.', '.', 'x', 'x', 'x', '#', '#', 'x', 'x', '.', 'x', 'x', '#', '#', '~', '~', '~', '~'], \n",
    "  ['#', 'x', 'x', 'x', '#', '.', '.', '.', '.', '.', '#', '#', 'x', 'x', 'x', 'x', '#', '#', '#', '#', 'x', 'x', 'x', '~', '~', '~', '~'], \n",
    "  ['#', '#', '.', '.', '.', '.', '.', '.', '.', '.', '.', '.', '#', '#', '#', '#', '#', '.', '.', '.', '.', '#', '#', '#', '.', '.', '.']]"
   ]
  },
  {
   "cell_type": "markdown",
   "metadata": {},
   "source": [
    "## Warning\n",
    "\n",
    "One implication of this representation is that (x, y) is world[ y][ x] so that (3, 2) is world[ 2][ 3] and world[ 7][ 9] is (9, 7). Yes, there are many ways to do this. I picked this representation because when you look at it, it *looks* like a regular x, y cartesian grid and it's easy to print out.\n",
    "\n",
    "It is often easier to begin your programming by operating on test input that has an obvious solution. If we had a small 7x7 world with the following characteristics:"
   ]
  },
  {
   "cell_type": "code",
   "execution_count": 2,
   "metadata": {},
   "outputs": [],
   "source": [
    "test_world = [\n",
    "  ['.', '*', '*', '*', '*', '*', '*'],\n",
    "  ['.', '*', '*', '*', '*', '*', '*'],\n",
    "  ['.', '*', '*', '*', '*', '*', '*'],\n",
    "  ['.', '.', '.', '.', '.', '.', '.'],\n",
    "  ['*', '*', '*', '*', '*', '*', '.'],\n",
    "  ['*', '*', '*', '*', '*', '*', '.'],\n",
    "  ['*', '*', '*', '*', '*', '*', '.'],\n",
    "]"
   ]
  },
  {
   "cell_type": "markdown",
   "metadata": {},
   "source": [
    "**what do you expect the policy would be?** Think about it for a bit. This will help you with your programming and debugging."
   ]
  },
  {
   "cell_type": "markdown",
   "metadata": {},
   "source": [
    "## States and State Representation\n",
    "\n",
    "The canonical pieces of a State Space Search problem are the States, Actions, Transitions and Costs. \n",
    "\n",
    "We'll start with the state representation. For the navigation problem, a state is the current position of the agent, `(x,y)`. The entire set of possible states is implicitly represented by the world map."
   ]
  },
  {
   "cell_type": "markdown",
   "metadata": {},
   "source": [
    "## Actions and Transitions\n",
    "\n",
    "Next we need to specify the actions. In general, there are a number of different possible action sets in such a world. The agent might be constrained to move north/south/east/west or diagonal moves might be permitted as well (or really anything). When combined with the set of States, the *permissible* actions forms the Transition set.\n",
    "\n",
    "Rather than enumerate the Transition set directly, for this problem it's easier to calculate the available actions and transitions on the fly. This can be done by specifying a *movement model* as offsets to the current state and then checking to see which of the potential successor states are actually permitted. This can be done in the successor function mentioned in the pseudocode.\n",
    "\n",
    "One such example of a movement model is shown below."
   ]
  },
  {
   "cell_type": "code",
   "execution_count": 3,
   "metadata": {},
   "outputs": [],
   "source": [
    "MOVES = [(0,-1), (1,0), (0,1), (-1,0)]  ## order is left, up, right, below"
   ]
  },
  {
   "cell_type": "markdown",
   "metadata": {},
   "source": [
    "## Costs\n",
    "\n",
    "We can encode the costs described above in a `Dict`:"
   ]
  },
  {
   "cell_type": "code",
   "execution_count": 4,
   "metadata": {},
   "outputs": [],
   "source": [
    "COSTS = { '.': 1, '*': 3, '#': 5, '~': 7}"
   ]
  },
  {
   "cell_type": "markdown",
   "metadata": {},
   "source": [
    "## A\\* Search Implementation\n",
    "\n",
    "As Python is an interpreted language, you're going to need to insert all of your helper functions *before* the actual `a_star_search` function implementation.\n",
    "\n",
    "Please **read the Blackboard** for information about the expected code structure. I expect a \"literate\" style of \"functional\" programming (nothing fancy: only define functions, no class definitions, pass state between functions, isolate side effects like printing). Notebooks do not lend themselves to OOP very well.\n",
    "\n",
    "-----"
   ]
  },
  {
   "cell_type": "code",
   "execution_count": 1,
   "metadata": {},
   "outputs": [],
   "source": [
    "# add as many markdown and code cells here as you need for helper functions."
   ]
  },
  {
   "cell_type": "markdown",
   "metadata": {
    "tags": []
   },
   "source": [
    "**successor**\n",
    "\n",
    "The `successor` function returns the a list of all valid moves that can be made from the current node. \n",
    "It determines if the successor node is valid by checking if it is in the explored/frontier list or if it is an impassible terrain.\n",
    "\n",
    "* **world** is the starting state representation for a navigation problem.\n",
    "* **current_node** is the node for which we want to determine the successors.\n",
    "* **moves** is the legal movement model expressed in offsets.\n",
    "* **explored** is the list of all explored nodes\n",
    "* **frontier** is the list nodes that needs to be explored\n",
    "* **parent_node** is the dictionary of all coordinate's parent node\n",
    "\n",
    "For example, for the test world if the current node is the node on the top left corner:\n",
    "\n",
    "```\n",
    "  ['.', '*', '*', '*', '*', '*', '*'],\n",
    "  ['.', '*', '*', '*', '*', '*', '*'],\n",
    "  ['.', '*', '*', '*', '*', '*', '*'],\n",
    "  ['.', '.', '.', '.', '.', '.', '.'],\n",
    "  ['*', '*', '*', '*', '*', '*', '.'],\n",
    "  ['*', '*', '*', '*', '*', '*', '.'],\n",
    "  ['*', '*', '*', '*', '*', '*', '.'],\n",
    "\n",
    "```\n",
    "\n",
    "it would return:\n",
    "\n",
    "`[(1,0), (0,1)]` and the updateed `parent_node` dictionary"
   ]
  },
  {
   "cell_type": "code",
   "execution_count": 6,
   "metadata": {},
   "outputs": [],
   "source": [
    "def successor(world, current_node, moves, frontier, explored, parent_node):\n",
    "    valid_moves = []\n",
    "    \n",
    "    for move in moves:\n",
    "        frontier_check = True   # False = node already in the frontier list\n",
    "        explored_check = True   # False = node already in the explored list\n",
    "        \n",
    "        tmp_move =  (current_node[1][0]+move[0], current_node[1][1]+move[1])\n",
    "        \n",
    "        # check if node is in the explored list\n",
    "        for item in explored:\n",
    "            if tmp_move  == item[1]:\n",
    "                if item[0] < current_node[0]:\n",
    "                    parent_node[current_node[1]] = item[1]\n",
    "                explored_check = False\n",
    "                break\n",
    "    \n",
    "        # chek if node is in the frontier list\n",
    "        for item in frontier:\n",
    "            if tmp_move  == item[1]:\n",
    "                frontier_check = False\n",
    "                break\n",
    "\n",
    "        # check if passes the frontier/explored check and make sure the move is in the known environment\n",
    "        if tmp_move[0] >= 0 and tmp_move[1] >= 0 and tmp_move[0] < len(world) and tmp_move[1] < len(world) and world[tmp_move[0]][tmp_move[1]] != 'x' and explored_check == frontier_check == True:\n",
    "            valid_moves += [tmp_move]\n",
    "            \n",
    "    return valid_moves, parent_node"
   ]
  },
  {
   "cell_type": "markdown",
   "metadata": {},
   "source": [
    "**my_heuristic**\n",
    "\n",
    "The `my_heurisic` an estimate of the total cost $f(x) = g(x)  + h(x)$ from the start to the goal through the current node, $x$. It calculates $h(x)$ by calculating euclidean distance from the succ_node to the goal. $g(x)$ is calculated by taking the distance from start to current_node + terrain_cost to successor.\n",
    "\n",
    "Paramertes:\n",
    "* **world** is the starting state representation for a navigation problem.\n",
    "* **current_node** is the node for which we want to determine the successors.\n",
    "* **succ_node** is the $x$ for which we wan to calculate $f(x)$\n",
    "* **goal** is the desired end position `(x,y)`\n",
    "* **costs** is a `Dict` of costs for each type of terrain.\n",
    "\n",
    "retuns\n",
    "it returns $h(x)$ and $g(x)$ for the successor node($x$)"
   ]
  },
  {
   "cell_type": "code",
   "execution_count": 7,
   "metadata": {},
   "outputs": [],
   "source": [
    "# change the formal arguments and the return value to be what you need.\n",
    "def my_heuristic(world, current_node, succ_node, goal, costs):\n",
    "    terrain_type = world[succ_node[0]][succ_node[1]]\n",
    "    hn = ((succ_node[0]-goal[1])**2 + (succ_node[1]-goal[0])**2)**0.5 # euclidean distance from succ node to goal\n",
    "    gn = costs[terrain_type] + current_node[2]     # calcualte g(n)\n",
    "    return  hn, gn"
   ]
  },
  {
   "cell_type": "markdown",
   "metadata": {
    "tags": []
   },
   "source": [
    "**a_star_search**\n",
    "\n",
    "The `a_star_search` function uses the A\\* Search algorithm to solve a navigational problem for an agent in a grid world. It calculates a path from the start state to the goal state and returns the actions required to get from the start to the goal. It is complete and it gives the optimal path from start to goal. \n",
    "\n",
    "* **world** is the starting state representation for a navigation problem.\n",
    "* **start** is the starting location, `(x, y)`.\n",
    "* **goal** is the desired end position, `(x, y)`.\n",
    "* **costs** is a `Dict` of costs for each type of terrain.\n",
    "* **moves** is the legal movement model expressed in offsets.\n",
    "* **heuristic** is a heuristic function that returns an estimate of the total cost $f(x)$ from the start to the goal through the current node, $x$. The heuristic function might change with the movement model.\n",
    "\n",
    "\n",
    "The function returns the offsets needed to get from start state to the goal as a `List`. For example, for the test world:\n",
    "\n",
    "```\n",
    "  ['.', '*', '*', '*', '*', '*', '*'],\n",
    "  ['.', '*', '*', '*', '*', '*', '*'],\n",
    "  ['.', '*', '*', '*', '*', '*', '*'],\n",
    "  ['.', '.', '.', '.', '.', '.', '.'],\n",
    "  ['*', '*', '*', '*', '*', '*', '.'],\n",
    "  ['*', '*', '*', '*', '*', '*', '.'],\n",
    "  ['*', '*', '*', '*', '*', '*', '.'],\n",
    "\n",
    "```\n",
    "\n",
    "it would return:\n",
    "\n",
    "`[(0,1), (0,1), (0,1), (1,0), (1,0), (1,0), (1,0), (1,0), (1,0), (0,1), (0,1), (0,1)]`\n",
    "\n",
    "Do not make unwarranted assumptions. For example, do not assume the starting point is always `(0, 0)` or that the goal is always in the lower right hand corner."
   ]
  },
  {
   "cell_type": "code",
   "execution_count": 8,
   "metadata": {
    "tags": []
   },
   "outputs": [],
   "source": [
    "def a_star_search( world, start, goal, costs, moves, heuristic):\n",
    "    parent_node = {}  # keeps tracks of parent node of each node\n",
    "    parent_node[(start[1],start[0])] = None\n",
    "    frontier = [(0, (start[1],start[0]), 0)]\n",
    "    explored = []\n",
    "    \n",
    "    while frontier != []:\n",
    "        current_node = frontier.pop(0)\n",
    "        if current_node[1] == (goal[1], goal[0]):\n",
    "            break\n",
    "        valid_moves, parent_node = successor(world, current_node, moves, frontier, explored, parent_node)\n",
    "        for move in valid_moves:\n",
    "            hn, gn = heuristic(world, current_node, move, goal, costs)\n",
    "            frontier += [(hn+gn, move, gn)]\n",
    "            parent_node[move] = current_node[1]    # update the parent node\n",
    "        explored += [current_node]\n",
    "        frontier.sort(key = lambda x: x[0])    # inplace sort \n",
    "    \n",
    "    # backtrace the path from goal to start\n",
    "    optimal_path = []\n",
    "    optimal_path = [(goal[1],goal[0])] \n",
    "    node = (goal[1],goal[0])    \n",
    "    while node!= (start[1],start[0]):\n",
    "        node = parent_node[node]\n",
    "        optimal_path.insert(0,node)  # insert at the beginning of the list\n",
    "    \n",
    "    # calculate the actions from the known path\n",
    "    actions = []\n",
    "    for indx in range(len(optimal_path)-1):\n",
    "        current_node, next_node =  optimal_path[indx], optimal_path[indx+1]\n",
    "        val0, val1 = next_node[0]-current_node[0], next_node[1]-current_node[1]\n",
    "        actions +=[(val0, val1)]\n",
    "        \n",
    "    return actions"
   ]
  },
  {
   "cell_type": "markdown",
   "metadata": {
    "tags": []
   },
   "source": [
    "**pretty_print_solution**\n",
    "\n",
    "The `pretty_print_solution` function prints an ASCII representation of the solution generated by the `a_star_search`. For example, for the test world, it would take the `world` and `path` and print:\n",
    "\n",
    "```\n",
    "v******\n",
    "v******\n",
    "v******\n",
    ">>>>>>v\n",
    "******v\n",
    "******v\n",
    "******G\n",
    "```\n",
    "\n",
    "using `v`, `^`, `>`, `<` to represent actions and `G` to represent the goal. (Note the format of the output...there are no spaces, commas, or extraneous characters). You are printing the path over the terrain.\n"
   ]
  },
  {
   "cell_type": "markdown",
   "metadata": {
    "tags": []
   },
   "source": [
    "Note that in Python:\n",
    "```\n",
    "> a = [\"*\", \"-\", \"*\"]\n",
    "> \"\".join(a)\n",
    "*-*\n",
    "```\n",
    "Do not print raw data structures; do not insert unneeded/requested spaces!"
   ]
  },
  {
   "cell_type": "code",
   "execution_count": 9,
   "metadata": {
    "tags": []
   },
   "outputs": [],
   "source": [
    "def pretty_print_solution( world, path, start):\n",
    "    directions_dict = {(0,1):\">\", (0,-1):\"<\", (1,0):\"v\", (-1,0):\"^\"}\n",
    "    show_path = list(world)\n",
    "    \n",
    "    c_node = (start[1], start[0])\n",
    "    for direction in path:\n",
    "        show_path[c_node[0]][c_node[1]] = directions_dict[direction]\n",
    "        c_node = (c_node[0] + direction[0], c_node[1]+direction[1])\n",
    "    show_path[c_node[0]][c_node[1]] = 'G'\n",
    "    \n",
    "    for row in show_path:\n",
    "        print(\"\".join(row))"
   ]
  },
  {
   "cell_type": "markdown",
   "metadata": {},
   "source": [
    "Execute `a_star_search` and `print_path` for the `test_world` and the `real_world`."
   ]
  },
  {
   "cell_type": "code",
   "execution_count": 10,
   "metadata": {},
   "outputs": [
    {
     "name": "stdout",
     "output_type": "stream",
     "text": [
      "[(1, 0), (1, 0), (1, 0), (0, 1), (0, 1), (0, 1), (0, 1), (0, 1), (0, 1), (1, 0), (1, 0), (1, 0)]\n",
      "v******\n",
      "v******\n",
      "v******\n",
      ">>>>>>v\n",
      "******v\n",
      "******v\n",
      "******G\n"
     ]
    }
   ],
   "source": [
    "path = a_star_search(test_world, (0, 0), (len(test_world[0]) - 1, len(test_world) - 1), COSTS, MOVES, my_heuristic)\n",
    "print(path)\n",
    "pretty_print_solution(test_world, path, (0, 0))"
   ]
  },
  {
   "cell_type": "code",
   "execution_count": 11,
   "metadata": {},
   "outputs": [
    {
     "name": "stdout",
     "output_type": "stream",
     "text": [
      "[(1, 0), (1, 0), (1, 0), (1, 0), (1, 0), (1, 0), (1, 0), (1, 0), (1, 0), (1, 0), (1, 0), (1, 0), (1, 0), (1, 0), (0, 1), (1, 0), (1, 0), (1, 0), (1, 0), (1, 0), (1, 0), (1, 0), (0, 1), (0, 1), (1, 0), (0, 1), (0, 1), (0, 1), (1, 0), (1, 0), (0, 1), (0, 1), (0, 1), (0, 1), (-1, 0), (0, 1), (0, 1), (0, 1), (0, 1), (-1, 0), (0, 1), (0, 1), (-1, 0), (0, 1), (0, 1), (0, 1), (1, 0), (0, 1), (1, 0), (0, 1), (0, 1), (0, 1), (1, 0), (1, 0), (1, 0), (0, 1), (0, 1), (0, 1)]\n",
      "v....**********............\n",
      "v......*********..xxxxxxx..\n",
      "v...xx***********xxx###xx##\n",
      "v...#xxx****~~*****..##xx#.\n",
      "v..##xx**..~~~~***...#xxx#.\n",
      "v###xx##....~~~~~.....#x#..\n",
      "v##xx##....#xxx~~~.....#...\n",
      "v.#####......#xxx~~~..###..\n",
      "v..###......##xx.~~..###...\n",
      "v..~~~..###xxxx...~.###....\n",
      "v.~~~~~.##xxx#.....#xxx#...\n",
      "v~~~~~..#xx#....~~..#xx#...\n",
      "v~~~~..##xx#.~~~~...#x#....\n",
      "v~~~~..#**#....~~~~..#.....\n",
      ">v..x..****####.~~~..#x#...\n",
      ".v.xxx******xxx##.~.#xx#...\n",
      ".vxx**********xxx..xxx.....\n",
      ".v.xx***********xxxx.......\n",
      ".v.xxx********...##........\n",
      ".v..xxx******..........~~~~\n",
      ".v####xx*****.x.....~~~~~~~\n",
      ".>>v###xxx**xx..>>>v~~~~~~~\n",
      "...>>>v##xxxx.>>^##>v~~~~~~\n",
      ".##..#v###>>>>^##xx#>>>v~~~\n",
      "#x####>>>>^xxx##xx.xx##v~~~\n",
      "#xxx#.....##xxxx####xxxv~~~\n",
      "##..........#####....##>>>G\n"
     ]
    }
   ],
   "source": [
    "path = a_star_search(full_world, (0, 0), (len(full_world[0]) - 1, len(full_world) - 1), COSTS, MOVES, my_heuristic)\n",
    "print(path)\n",
    "pretty_print_solution(full_world, path, (0, 0))"
   ]
  },
  {
   "cell_type": "markdown",
   "metadata": {},
   "source": [
    "## Think About..."
   ]
  },
  {
   "cell_type": "markdown",
   "metadata": {},
   "source": [
    "This first assignment may not have been difficult for you if you've encountered A* search before in your Algorithms course. In preparation for future assignments that build on State Space Search, you can think about the following or even do an implementation if you like. You should **not** submit it as part of this assignment.\n",
    "\n",
    "In several future assignments, we will have a need for a \"plain ol'\" Depth First Search algorithm.\n",
    "\n",
    "1. Implement DFS Search to solve the problem presented in this programming assignment. Try to be as general as possible (don't hard code anything you can pass as a formal parameter).\n",
    "2. Can you implement DFS Search as a higher order function and supply your own `is_goal`, `successors`, and `path` functions? How do you handle *state*?\n",
    "3. Can you write a version of DFS that returns all the solutions?\n",
    "\n",
    "In one future assignment a Breadth First Search algorithm will be very handy. Can you implement a search algorithm that changes whether it uses DFS or BFS by parameterization?"
   ]
  },
  {
   "cell_type": "markdown",
   "metadata": {},
   "source": [
    "## Before You Submit...\n",
    "\n",
    "1. Did you provide output exactly as requested?\n",
    "2. Did you re-execute the entire notebook? (\"Restart Kernel and Rull All Cells...\")\n",
    "3. If you did not complete the assignment or had difficulty please explain what gave you the most difficulty in the Markdown cell below.\n",
    "4. Did you change the name of the file to `jhed_id.ipynb`?\n",
    "\n",
    "Do not submit any other files."
   ]
  },
  {
   "cell_type": "markdown",
   "metadata": {},
   "source": []
  },
  {
   "cell_type": "code",
   "execution_count": null,
   "metadata": {},
   "outputs": [],
   "source": []
  }
 ],
 "metadata": {
  "kernelspec": {
   "display_name": "Python (en605645)",
   "language": "python",
   "name": "en605645"
  },
  "language_info": {
   "codemirror_mode": {
    "name": "ipython",
    "version": 3
   },
   "file_extension": ".py",
   "mimetype": "text/x-python",
   "name": "python",
   "nbconvert_exporter": "python",
   "pygments_lexer": "ipython3",
   "version": "3.7.10"
  },
  "toc": {
   "colors": {
    "hover_highlight": "#DAA520",
    "navigate_num": "#000000",
    "navigate_text": "#333333",
    "running_highlight": "#FF0000",
    "selected_highlight": "#FFD700",
    "sidebar_border": "#EEEEEE",
    "wrapper_background": "#FFFFFF"
   },
   "moveMenuLeft": true,
   "nav_menu": {
    "height": "192px",
    "width": "252px"
   },
   "navigate_menu": true,
   "number_sections": true,
   "sideBar": true,
   "threshold": 4,
   "toc_cell": false,
   "toc_section_display": "block",
   "toc_window_display": false,
   "widenNotebook": false
  }
 },
 "nbformat": 4,
 "nbformat_minor": 4
}
