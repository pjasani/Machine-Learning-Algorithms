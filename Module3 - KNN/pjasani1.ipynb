{
 "cells": [
  {
   "cell_type": "markdown",
   "metadata": {
    "tags": []
   },
   "source": [
    "# Module 3 - Programming Assignment\n",
    "\n",
    "## Directions\n",
    "\n",
    "1. Change the name of this file to be your JHED id as in `jsmith299.ipynb`. Because sure you use your JHED ID (it's made out of your name and not your student id which is just letters and numbers).\n",
    "2. Make sure the notebook you submit is cleanly and fully executed. I do not grade unexecuted notebooks.\n",
    "3. Submit your notebook back in Blackboard where you downloaded this file.\n",
    "\n",
    "*Provide the output **exactly** as requested*\n",
    "\n",
    "<div style=\"background: lemonchiffon; margin:20px; padding: 20px;\">\n",
    "    <strong>Note</strong>\n",
    "    <p>\n",
    "This assignment is a lot more structured than others to keep you on the rails.</p>\n",
    "</div>\n"
   ]
  },
  {
   "cell_type": "markdown",
   "metadata": {
    "tags": []
   },
   "source": [
    "## k Nearest Neighbors and Model Evaluation\n",
    "\n",
    "In this programming assignment you will use k Nearest Neighbors (kNN) to build a \"model\" that will estimate the compressive strength of various types of concrete. This assignment has several objectives:\n",
    "\n",
    "1. implement the kNN algorithm. Remember...the data + distance function is the model in kNN.\n",
    "2. evaluate a machine learning algorithm. Because this is a *regression* problem, we will use Mean Squared Error:\n",
    "\n",
    "$$MSE = \\frac{1}{n}\\sum^n_i (y_i - \\hat{y}_i)^2$$\n",
    "\n",
    "3. use validation curves to tune a *hyperparameter* of the model. In this case, the hyperparameter is *k*, the number of neighbors.\n",
    "\n",
    "4. evaluate the *generalization error* of the model.\n",
    "\n",
    "5. use learning curves to determine if getting more data will improve our model."
   ]
  },
  {
   "cell_type": "markdown",
   "metadata": {},
   "source": [
    "## Load the Data\n",
    "\n",
    "The function `parse_data` loads the data from the specified file and returns a List of Lists. The outer List is the data set and each element (List) is a specific observation. Each value of an observation is for a particular measurement. This is what we mean by \"tidy\" data.\n",
    "\n",
    "The function also returns the *shuffled* data because the data might have been collected in a particular order that *might* bias training."
   ]
  },
  {
   "cell_type": "code",
   "execution_count": 1,
   "metadata": {},
   "outputs": [],
   "source": [
    "import random\n",
    "from typing import List, Dict, Tuple, Callable"
   ]
  },
  {
   "cell_type": "code",
   "execution_count": 2,
   "metadata": {},
   "outputs": [],
   "source": [
    "def parse_data(file_name: str) -> List[List]:\n",
    "    data = []\n",
    "    file = open(file_name, \"r\")\n",
    "    for line in file:\n",
    "        datum = [float(value) for value in line.rstrip().split(\",\")]\n",
    "        data.append(datum)\n",
    "    random.shuffle(data)\n",
    "    return data"
   ]
  },
  {
   "cell_type": "code",
   "execution_count": 3,
   "metadata": {},
   "outputs": [],
   "source": [
    "data = parse_data(\"concrete_compressive_strength.csv\")"
   ]
  },
  {
   "cell_type": "code",
   "execution_count": 4,
   "metadata": {
    "scrolled": true
   },
   "outputs": [
    {
     "data": {
      "text/plain": [
       "[286.3, 200.9, 0.0, 144.7, 11.2, 1004.6, 803.7, 56.0, 72.99]"
      ]
     },
     "execution_count": 4,
     "metadata": {},
     "output_type": "execute_result"
    }
   ],
   "source": [
    "data[0]"
   ]
  },
  {
   "cell_type": "code",
   "execution_count": 5,
   "metadata": {},
   "outputs": [
    {
     "data": {
      "text/plain": [
       "1030"
      ]
     },
     "execution_count": 5,
     "metadata": {},
     "output_type": "execute_result"
    }
   ],
   "source": [
    "len(data)"
   ]
  },
  {
   "cell_type": "markdown",
   "metadata": {},
   "source": [
    "There are 1,030 observations and each observation has 8 measurements. The data dictionary for this data set tells us the definitions of the individual variables (columns/indices):\n",
    "\n",
    "| Index | Variable | Definition |\n",
    "|-------|----------|------------|\n",
    "| 0     | cement   | kg in a cubic meter mixture |\n",
    "| 1     | slag     | kg in a cubic meter mixture |\n",
    "| 2     | ash      | kg in a cubic meter mixture |\n",
    "| 3     | water    | kg in a cubic meter mixture |\n",
    "| 4     | superplasticizer | kg in a cubic meter mixture |\n",
    "| 5     | coarse aggregate | kg in a cubic meter mixture |\n",
    "| 6     | fine aggregate | kg in a cubic meter mixture |\n",
    "| 7     | age | days |\n",
    "| 8     | concrete compressive strength | MPa |\n",
    "\n",
    "The target (\"y\") variable is a Index 8, concrete compressive strength in (Mega?) [Pascals](https://en.wikipedia.org/wiki/Pascal_(unit))."
   ]
  },
  {
   "cell_type": "markdown",
   "metadata": {},
   "source": [
    "## Train/Test Splits - n folds\n",
    "\n",
    "With n fold cross validation, we divide our data set into n subgroups called \"folds\" and then use those folds for training and testing. You pick n based on the size of your data set. If you have a small data set--100 observations--and you used n=10, each fold would only have 10 observations. That's probably too small. You want at least 30. At the other extreme, we generally don't use n > 10.\n",
    "\n",
    "With 1,030 observations, n = 10 is fine so we will have 10 folds.\n",
    "`create_folds` will take a list (xs) and split it into `n` equal folds with each fold containing one-tenth of the observations."
   ]
  },
  {
   "cell_type": "code",
   "execution_count": 6,
   "metadata": {},
   "outputs": [],
   "source": [
    "def create_folds(xs: List, n: int) -> List[List[List]]:\n",
    "    k, m = divmod(len(xs), n)\n",
    "    # be careful of generators...\n",
    "    return list(xs[i * k + min(i, m):(i + 1) * k + min(i + 1, m)] for i in range(n))"
   ]
  },
  {
   "cell_type": "code",
   "execution_count": 7,
   "metadata": {},
   "outputs": [],
   "source": [
    "folds = create_folds(data, 10)"
   ]
  },
  {
   "cell_type": "code",
   "execution_count": 8,
   "metadata": {},
   "outputs": [
    {
     "data": {
      "text/plain": [
       "10"
      ]
     },
     "execution_count": 8,
     "metadata": {},
     "output_type": "execute_result"
    }
   ],
   "source": [
    "len(folds)"
   ]
  },
  {
   "cell_type": "markdown",
   "metadata": {},
   "source": [
    "We always use one of the n folds as a test set (and, sometimes, one of the folds as a *pruning* set but not for kNN), and the remaining folds as a training set.\n",
    "We need a function that'll take our n folds and return the train and test sets:"
   ]
  },
  {
   "cell_type": "code",
   "execution_count": 9,
   "metadata": {},
   "outputs": [],
   "source": [
    "def create_train_test(folds: List[List[List]], index: int) -> Tuple[List[List], List[List]]:\n",
    "    training = []\n",
    "    test = []\n",
    "    for i, fold in enumerate(folds):\n",
    "        if i == index:\n",
    "            test = fold\n",
    "        else:\n",
    "            training = training + fold\n",
    "    return training, test"
   ]
  },
  {
   "cell_type": "markdown",
   "metadata": {},
   "source": [
    "We can test the function to give us a train and test datasets where the test set is the fold at index 0:"
   ]
  },
  {
   "cell_type": "code",
   "execution_count": 10,
   "metadata": {},
   "outputs": [],
   "source": [
    "train, test = create_train_test(folds, 0)"
   ]
  },
  {
   "cell_type": "code",
   "execution_count": 11,
   "metadata": {},
   "outputs": [
    {
     "data": {
      "text/plain": [
       "927"
      ]
     },
     "execution_count": 11,
     "metadata": {},
     "output_type": "execute_result"
    }
   ],
   "source": [
    "len(train)"
   ]
  },
  {
   "cell_type": "code",
   "execution_count": 12,
   "metadata": {},
   "outputs": [
    {
     "data": {
      "text/plain": [
       "103"
      ]
     },
     "execution_count": 12,
     "metadata": {},
     "output_type": "execute_result"
    }
   ],
   "source": [
    "len(test)"
   ]
  },
  {
   "cell_type": "markdown",
   "metadata": {
    "tags": []
   },
   "source": [
    "## kNN\n",
    "\n",
    "kNN is a bit weird because it's a \"lazy\" algorithm...it uses the data set (training data) as the model. \n",
    "\"Eager\" algorithms, in constrast, build some kind of generalization of the training data and then throw the training data away.\n",
    "The basic algorithm is:\n",
    "\n",
    "```\n",
    "    1. use the train data as a database\n",
    "    2. take an observation as a query\n",
    "    3. calculate the distance between the query and every observation in the database\n",
    "    4. collect the k nearest observations\n",
    "    5. if this is classification, return the majority class label of the target.\n",
    "    6. if this is regression, return the average value of the target.\n",
    "```\n",
    "\n",
    "In the real world, there are data structures that make this \"find the nearest k\" more efficient but we don't need that for 1,000 points.\n",
    "We also don't need to handle *both* the classification and the regression versions. Let's just handle regression.\n",
    "\n",
    "Although kNN doesn't result in a model, we can use a higher order function to create a kNN regressor. The interior function will \"close over\" (a closure) the formal parameter (database) of build_knn. The order of the parameters allows us to vary the k or create a partially applied function where k is fixed:\n",
    "\n",
    "\n",
    "```\n",
    "knn = build_knn(train)\n",
    "knn3 = partial(knn, 3)\n",
    "result = knn3(query)\n",
    "\n",
    "# or\n",
    "\n",
    "result = knn(3, query)\n",
    "\n",
    "```\n",
    "\n",
    "It all depends on the context.\n",
    "\n",
    "For this problem, use **Euclidean distance**."
   ]
  },
  {
   "cell_type": "code",
   "execution_count": 13,
   "metadata": {},
   "outputs": [],
   "source": [
    "def build_knn(database):\n",
    "    def knn(k, query, debug = False):\n",
    "        euc_distance = []\n",
    "        \n",
    "        # calculate euclidean distance\n",
    "        for obs in database:\n",
    "            euc_distance += [(sum([(query[i] - obs[i])**2 for i in range(len(query)-1)])**0.5, obs[-1])]\n",
    "            \n",
    "        euc_distance.sort(key = lambda obs: obs[0])\n",
    "        \n",
    "        if debug == True:\n",
    "            print(\"Query:\", query)\n",
    "            for i in range(len(euc_distance[:k])):\n",
    "                print(f\"\\t Nearest observation {i}: y = {euc_distance[i][-1]}\") \n",
    "            print(f\"Predicted y = {round(sum([obs[1] for obs in euc_distance[:k]])/k, 4)}\")\n",
    "            print(\"\\n\")\n",
    "            \n",
    "        return round(sum([obs[1] for obs in euc_distance[:k]])/k, 4)\n",
    "    return knn"
   ]
  },
  {
   "cell_type": "markdown",
   "metadata": {},
   "source": [
    "**Note** This is might be your first exposure to a function that creates and returns a function. `database` is a formal parameter of `build_knn` and when you use it in the function body of `knn`, `knn` \"closes over\" the parameter. Hence, `knn` is a closure.\n",
    "\n",
    "The saying goes that \"closures are a poor person's object and an object is a poor person's closure.\" Closures are a very common practice in functional programming.\n",
    "\n",
    "**Note** \"database\" is just what we call the observations (data set) used in our knn model. During evaluation, it's the training data set. When we're done, it would be the full data set."
   ]
  },
  {
   "cell_type": "markdown",
   "metadata": {},
   "source": [
    "### Build kNN\n",
    "\n",
    "Using Fold 1 as a test set, create train and test sets from our folds. Then build a kNN \"model\" (function) with k=10. Using the first three members of the test set, calculate predicted concrete compressive strength for them.\n",
    "\n",
    "**Note** Remember that Lists are 0-indexed so Fold 1 is at index 0."
   ]
  },
  {
   "cell_type": "code",
   "execution_count": 14,
   "metadata": {},
   "outputs": [
    {
     "name": "stdout",
     "output_type": "stream",
     "text": [
      "Predicted concrete compressive strength [48.759, 24.244, 30.139]\n"
     ]
    }
   ],
   "source": [
    "train, test = create_train_test(folds, 0)\n",
    "knn = build_knn(train)\n",
    "result = [knn(10, test[i]) for i in range(3)]\n",
    "print(\"Predicted concrete compressive strength\", result)"
   ]
  },
  {
   "cell_type": "markdown",
   "metadata": {
    "tags": []
   },
   "source": [
    "# Generalization Error\n",
    "\n",
    "Continuing with k = 10, let's see what our *generalization* error might be.\n",
    "Although we call it \"generalization error\", it's not necessarily error but will be the evaluation metric that we've picked.\n",
    "Generalization error is the error (metric) we expect to see when we use our model on unseen data.\n",
    "We can calculate this estimate using all 10 folds and rotating through them, using each as the test set.\n",
    "\n",
    "1. divide data into folds\n",
    "2. for each fold,\n",
    "3. use that fold as the test set and the remaining folds as the train set.\n",
    "4. build a model using the train set.\n",
    "5. calculate the model's evaluation metric on the test set.\n",
    "6. calculate the average and standard deviation for the metric and estimate the confidence interval.\n",
    "\n",
    "But how can we tell if our model is any good?\n",
    "One way is that you may have some required or optimal value of the evaluation metric in mind.\n",
    "For example, a classification algorithm might require 97% accuracy or better.\n",
    "\n",
    "You can also use a *baseline* model.\n",
    "We often use \"null\" models as a baseline.\n",
    "For regression, that's the mean of the target variable (y).\n",
    "They're called \"null\" models because they don't use any features to predict the target...they're based on just the target value itself.\n",
    "(You'd be surprised how many times a null model is good enough for decision making).\n",
    "\n",
    "If you're using the mean as your model, what does \"build a model\" entail?\n",
    "Calculate the mean of y from the training set.\n",
    "\"Calculate the evaluation metric on the test set\" entails using the mean as a *constant* prediction for each value of the test set and calculating the evaluation metric (MSE).\n",
    "\n",
    "So you're going to calculate confidence intervals for *two* models: kNN with k = 3 and the null model (the mean).\n",
    "Again, the mean of a value is a perfectly legitimate model of the data.\n",
    "\n",
    "**Note** The mean as a baseline or null model is *not* the same as MSE the evaluation metric. You will have two sets of evaluation metrics, one for the baseline model and one for the kNN model.\n",
    "\n",
    "The confidence interval function is provided:"
   ]
  },
  {
   "cell_type": "code",
   "execution_count": 15,
   "metadata": {},
   "outputs": [],
   "source": [
    "import numpy as np\n",
    "import scipy.stats"
   ]
  },
  {
   "cell_type": "markdown",
   "metadata": {},
   "source": [
    "### mean_confidence interval\n",
    "\n",
    "This function calculates the mean of *data* and the confidence bounds of that mean.\n",
    "\n",
    "**Parameters**\n",
    "\n",
    "* **data** a List of floating point numbers representing the data.\n",
    "* **confidence** a scalar (float) indicating the desired confidence bounds. The default is 95% (0.95).\n",
    "\n",
    "**returns** the mean and a Tuple of the (low, high) values of the *confidence*% bounds. For example, 23.8 (21.2, 26.4)"
   ]
  },
  {
   "cell_type": "code",
   "execution_count": 16,
   "metadata": {},
   "outputs": [],
   "source": [
    "def mean_confidence_interval(data: List[float], confidence: float=0.95) -> Tuple[float, Tuple[float, float]]:\n",
    "    a = 1.0 * np.array(data)\n",
    "    n = len(a)\n",
    "    m, se = np.mean(a), scipy.stats.sem(a)\n",
    "    h = se * scipy.stats.t.ppf((1 + confidence) / 2., n-1)\n",
    "    return m, (m-h, m+h)"
   ]
  },
  {
   "cell_type": "markdown",
   "metadata": {},
   "source": [
    "The first thing we need is a function that takes the real values of y and the predicted values of y and calculates the evaluation metric. In our case, that's MSE:\n",
    "\n",
    "\n",
    "$$MSE = \\frac{1}{n}\\sum^n_i (y_i - \\hat{y}_i)^2$$\n"
   ]
  },
  {
   "cell_type": "code",
   "execution_count": 17,
   "metadata": {},
   "outputs": [],
   "source": [
    "def evaluation_metric(actual: List, predicted: List) -> float:\n",
    "    assert(len(actual) == len(predicted))\n",
    "    eval_mse = sum([(actual[i] - predicted[i])**2 for i in range(len(actual))])/len(actual)\n",
    "    return eval_mse"
   ]
  },
  {
   "cell_type": "markdown",
   "metadata": {},
   "source": [
    "Calculate the generalization error for your kNN and the null model. You will print out 2 confidence intervals."
   ]
  },
  {
   "cell_type": "code",
   "execution_count": 18,
   "metadata": {},
   "outputs": [
    {
     "name": "stdout",
     "output_type": "stream",
     "text": [
      "Std of knn metric 21.036493859243667\n",
      "mean of  knn metric 74.4461237323107\n",
      "KNN Confidence Interval: (58.58350531142905, 90.30874215319234)\n",
      "\n",
      "\n",
      "Std of null metric 40.652901371651026\n",
      "mean of  null metric 279.6118455824952\n",
      "NULL Confidence Interval: (248.95742824113407, 310.26626292385635)\n"
     ]
    }
   ],
   "source": [
    "knn_metrics = []\n",
    "null_metrics = []\n",
    "for i in range(0, len(folds)):\n",
    "    train, test = create_train_test(folds, i)\n",
    "    knn = build_knn(train)                                                        # build model\n",
    "    predicted_y = [knn(3, test[i]) for i in range(len(test))]                     # predict_y for test-set \n",
    "    actual_y = [obs[-1] for obs in test]                                          # get actual y for test-set\n",
    "    knn_metrics += [evaluation_metric(actual_y, predicted_y)]                     # eval metrix for KNN\n",
    "    mean_train_y = sum([obs[-1] for obs in train]) / len(train)                   # calculate the mean of y from train-set\n",
    "    null_metrics += [evaluation_metric(actual_y, [mean_train_y]*len(actual_y))]   # evaluate metric for null\n",
    "    \n",
    "mean_knn, ci_knn = mean_confidence_interval(knn_metrics)\n",
    "mean_null, ci_null = mean_confidence_interval(null_metrics)\n",
    "knn_std = np.std(knn_metrics)\n",
    "print(f\"Std of knn metric {knn_std}\")\n",
    "print(f\"mean of  knn metric {mean_knn}\")\n",
    "print(f\"KNN Confidence Interval: {ci_knn}\")\n",
    "print(\"\\n\")\n",
    "print(f\"Std of null metric {np.std(null_metrics)}\")\n",
    "print(f\"mean of  null metric {mean_null}\")\n",
    "print(f\"NULL Confidence Interval: {ci_null}\")"
   ]
  },
  {
   "cell_type": "markdown",
   "metadata": {},
   "source": [
    "Is your kNN model better than the null model?"
   ]
  },
  {
   "cell_type": "markdown",
   "metadata": {},
   "source": [
    "After looking at the above result I can say that the KNN model is much better then null model. As we can see above the standard deviation for knn_metrics is much lower then standard deviation for null_metrics.\n",
    "We can also observe that the confidence interval for knn_metrics is tighter then confidence interval for null_metrics."
   ]
  },
  {
   "cell_type": "markdown",
   "metadata": {
    "tags": []
   },
   "source": [
    "## Setting Hyperparameters\n",
    "\n",
    "Now let's see if we can find a better k for our problem, concrete compressive strength.\n",
    "We can do this using *validation* curves.\n",
    "Validation curves require a few things:\n",
    "\n",
    "1. pick an evaluation metric (problem dependent)\n",
    "2. create train and test sets\n",
    "3. for each proposed value of the hyperparameter:\n",
    "4. build a model using the train set and the value\n",
    "5. calculate the evaluation metric using the model against the train set (itself).\n",
    "6. calculate the evaluation metric using the model against the *test* set.\n",
    "7. plot the resulting *two* curves.\n",
    "8. see if they suggest anything\n",
    "\n",
    "Theoretically, it shouldn't matter which fold you use for your test set for this step.\n",
    "In practice, you can often get different results and you should average them but we're not going to do that here.\n",
    "\n",
    "For kNN, this is all a bit confusing because *normally* \"build a model\" requires the current, proposed value of the hyperparameter you're tuning...but in kNN, we use the hyperparameter *afterwards*. For example, for Decision Trees, the hyperparameter might be \"maximum tree depth\" and you need to know that value each time you build a new model with the train set.\n",
    "\n",
    "But \"build a model\" here is just \"chuck all the data into a function\". ¯\\\\_(ツ)_/¯\n",
    "\n",
    "The only practical difference this makes is that \"build a model\" is going to go *outside* the loop going over each hyperparamter value instead of inside."
   ]
  },
  {
   "cell_type": "markdown",
   "metadata": {},
   "source": [
    "Now we need to do the looping over potential values of k. For *classification*, we prefer odd values of k so that there's always a majority. For regression, we don't care. Let's look at k=[1, 20]:"
   ]
  },
  {
   "cell_type": "code",
   "execution_count": 19,
   "metadata": {},
   "outputs": [],
   "source": [
    "ks = list(range(1, 21))\n",
    "test_mse = []\n",
    "train_mse = []\n",
    "train, test = create_train_test(folds, 0)                                   # choose the train and test set\n",
    "for k in ks:                                                                # for each proposed value of hyperparameter\n",
    "    knn = build_knn(train)                                                  # build model using trains et\n",
    "    predicted_train = [knn(k, obs) for obs in train]                        # predict y for train set\n",
    "    predicted_test = [knn(k, obs) for obs in test]                          # predcit y for test set\n",
    "    actual_train_y = [obs[-1] for obs in train]                             # get actual_y for train-set\n",
    "    actual_test_y = [obs[-1] for obs in test]                               # get actual_y for test-set\n",
    "    test_mse += [evaluation_metric(actual_test_y, predicted_test)]          # eval metric for test-set\n",
    "    train_mse += [evaluation_metric(actual_train_y, predicted_train)]       # eval metric for train-set itself\n"
   ]
  },
  {
   "cell_type": "markdown",
   "metadata": {},
   "source": [
    "We can now plot the curves to *hopefully* see if there's a clearly better value for k...one that doesn't overfit or underfit:"
   ]
  },
  {
   "cell_type": "code",
   "execution_count": 20,
   "metadata": {},
   "outputs": [],
   "source": [
    "import matplotlib.pyplot as plt"
   ]
  },
  {
   "cell_type": "code",
   "execution_count": 21,
   "metadata": {},
   "outputs": [
    {
     "data": {
      "image/png": "[encoded data removed]",
      "text/plain": [
       "<Figure size 432x288 with 1 Axes>"
      ]
     },
     "metadata": {
      "needs_background": "light"
     },
     "output_type": "display_data"
    }
   ],
   "source": [
    "plt.plot(ks, train_mse, 'r', ks, test_mse, 'b')\n",
    "plt.xlabel('k')\n",
    "plt.ylabel('Average MSE')\n",
    "plt.legend([\"train\", \"test\"])\n",
    "plt.show();"
   ]
  },
  {
   "cell_type": "markdown",
   "metadata": {},
   "source": [
    "Based on your interpretation of the validation curves, what is the best value of k?\n",
    "Remember, it's not necessarily the lowest value but the lowest value with certain characteristics."
   ]
  },
  {
   "cell_type": "markdown",
   "metadata": {},
   "source": [
    "After looking at the above plot I can say that k=8 would give the best result which is shown by a sudden decrese in average MSE followed by sudden increase. The plot above shows low testing error rate at chosen k which mean we have best performance at that k value. "
   ]
  },
  {
   "cell_type": "code",
   "execution_count": null,
   "metadata": {},
   "outputs": [],
   "source": []
  },
  {
   "cell_type": "markdown",
   "metadata": {},
   "source": [
    "\n",
    "<div style=\"background: lemonchiffon; margin:20px; padding: 20px;\">\n",
    "    <strong>Note</strong>\n",
    "    <p>Normally, you would then revisit the generalization error analysis to see if you've made a real improvement.</p>\n",
    "</div>\n"
   ]
  },
  {
   "cell_type": "markdown",
   "metadata": {},
   "source": [
    "## Choose your own adventure\n",
    "\n",
    "You have three options for the next part:\n",
    "\n",
    "1. You can implement mean normalization (also called \"z-score standardization\") of the *features*; do not normalize the target, y. See if this improves the generalization error of your model (middle).\n",
    "\n",
    "2. You can implement *learning curves* to see if more data would likely improve your model (easiest).\n",
    "\n",
    "3. You can implement *weighted* kNN and use the real valued GA to choose the weights. weighted kNN assigns a weight to each item in the Euclidean distance calculation. For two points, j and k:\n",
    "$$\\sqrt{\\sum w_i (x^k_i - x^j_i)^2}$$\n",
    "\n",
    "You can think of normal Euclidean distance as the case where $w_i = 1$ for all features  (ambitious, but fun...you need to start EARLY because it takes a really long time to run).\n",
    "\n",
    "The easier the adventure the more correct it must be..."
   ]
  },
  {
   "cell_type": "markdown",
   "metadata": {},
   "source": [
    "**standardize**\n",
    "\n",
    "The `standardize` takes the original data and applies Z-score standardization. It uses the below function to calcualte the z-score.\n",
    "$$\\frac{1}{N}\\sum_{x=1}^n \\frac{(x-\\mu}{\\sigma}$$\n",
    "\n",
    "Parameters:\n",
    "* **dataset** is the data we want to apply standardization on.\n",
    "\n",
    "retuns:<br>\n",
    "it returns the standardized data."
   ]
  },
  {
   "cell_type": "code",
   "execution_count": 22,
   "metadata": {},
   "outputs": [],
   "source": [
    "def standardize(dataset):\n",
    "    features_means, features_std  = [], []\n",
    "    standardized_dataset = [[] for _ in range(len(dataset))]\n",
    "    \n",
    "    for col in range(len(dataset[0])-1):\n",
    "        features_means += [sum([obs[col] for obs in dataset])/ len(dataset)]                                # calc mean for each features\n",
    "        features_std += [(sum([(obs[col]-features_means[col])**2 for obs in dataset])/ len(dataset))**0.5]  # calc standard deviation for each feature \n",
    "                                              \n",
    "    for row_num in range(len(dataset)):                                               # Standardize the data\n",
    "        for col in range(len(dataset[0])-1):\n",
    "            standardized_dataset[row_num] += [(dataset[row_num][col]-features_means[col])/features_std[col]]\n",
    "            if col == (len(dataset[0])-2):                                            # add the target column\n",
    "                standardized_dataset[row_num] += [dataset[row_num][-1]]\n",
    "\n",
    "    return standardized_dataset"
   ]
  },
  {
   "cell_type": "code",
   "execution_count": 23,
   "metadata": {},
   "outputs": [
    {
     "name": "stdout",
     "output_type": "stream",
     "text": [
      "Before Z-score standardiztion\n",
      "Std of knn metric: 21.036493859243667\n",
      "mean of  knn metric: 74.4461237323107\n",
      "KNN Confidence Interval: (58.58350531142905, 90.30874215319234)\n",
      "\n",
      "\n",
      "After Z-score standardiztion\n",
      "Std of knn metric: 17.54325334190329\n",
      "mean of  knn metric: 73.52829073427185\n",
      "KNN Confidence Interval: (60.29975866588306, 86.75682280266064)\n"
     ]
    }
   ],
   "source": [
    "# apply standardization and \n",
    "stnd_data = standardize(data)\n",
    "folds = create_folds(stnd_data, 10)\n",
    "knn_metrics = []\n",
    "\n",
    "for i in range(0, len(folds)):\n",
    "    train, test = create_train_test(folds, i)\n",
    "    knn = build_knn(train)                                                        # build model\n",
    "    predicted_y = [knn(3, test[i]) for i in range(len(test))]                     # predict_y for test-set \n",
    "    actual_y = [obs[-1] for obs in test]                                          # get actual y for test-set\n",
    "    knn_metrics += [evaluation_metric(actual_y, predicted_y)]                     # eval metrix for KNN\n",
    "    \n",
    "mean_knn_stnd, ci_knn_stnd = mean_confidence_interval(knn_metrics)\n",
    "knn_stnd_std = np.std(knn_metrics)\n",
    "\n",
    "print(\"Before Z-score standardiztion\")\n",
    "print(f\"Std of knn metric: {knn_std}\")\n",
    "print(f\"mean of  knn metric: {mean_knn}\")\n",
    "print(f\"KNN Confidence Interval: {ci_knn}\")\n",
    "print(\"\\n\")\n",
    "\n",
    "print(\"After Z-score standardiztion\")\n",
    "print(f\"Std of knn metric: {knn_stnd_std}\")\n",
    "print(f\"mean of  knn metric: {mean_knn_stnd}\")\n",
    "print(f\"KNN Confidence Interval: {ci_knn_stnd}\")"
   ]
  },
  {
   "cell_type": "markdown",
   "metadata": {},
   "source": [
    "We can look at the above result to compare the generalizaiton error before and after the z-score standardization. We can observe that after applying Z-score standardization we have a tighter confidence interval and lower standard deviation which tells us that our model has slightly improved. We can also look at the plot below for more verification. "
   ]
  },
  {
   "cell_type": "code",
   "execution_count": 24,
   "metadata": {},
   "outputs": [
    {
     "data": {
      "image/png": "[encoded data removed]",
      "text/plain": [
       "<Figure size 432x288 with 1 Axes>"
      ]
     },
     "metadata": {
      "needs_background": "light"
     },
     "output_type": "display_data"
    }
   ],
   "source": [
    "# learning plot\n",
    "ks = list(range(1, 21))\n",
    "test_mse = []\n",
    "train_mse = []\n",
    "train, test = create_train_test(folds, 0)                                   # choose the train and test set\n",
    "for k in ks:                                                                # for each proposed value of hyperparameter\n",
    "    knn = build_knn(train)                                                  # build model using trains et\n",
    "    predicted_train = [knn(k, obs) for obs in train]                        # predict y for train set\n",
    "    predicted_test = [knn(k, obs) for obs in test]                          # predcit y for test set\n",
    "    actual_train_y = [obs[-1] for obs in train]                             # get actual_y for train-set\n",
    "    actual_test_y = [obs[-1] for obs in test]                               # get actual_y for test-set\n",
    "    test_mse += [evaluation_metric(actual_test_y, predicted_test)]          # eval metric for test-set\n",
    "    train_mse += [evaluation_metric(actual_train_y, predicted_train)]       # eval metric for train-set itself\n",
    "\n",
    "# plot\n",
    "plt.plot(ks, train_mse, 'r', ks, test_mse, 'b')\n",
    "plt.xlabel('k')\n",
    "plt.ylabel('Average MSE')\n",
    "plt.legend([\"train\", \"test\"])\n",
    "plt.show();"
   ]
  },
  {
   "cell_type": "markdown",
   "metadata": {
    "tags": []
   },
   "source": [
    "## Before You Submit...\n",
    "\n",
    "1. Did you provide output exactly as requested?\n",
    "2. Did you re-execute the entire notebook? (\"Restart Kernel and Rull All Cells...\")\n",
    "3. If you did not complete the assignment or had difficulty please explain what gave you the most difficulty in the Markdown cell below.\n",
    "4. Did you change the name of the file to `jhed_id.ipynb`?\n",
    "\n",
    "Do not submit any other files."
   ]
  },
  {
   "cell_type": "markdown",
   "metadata": {
    "tags": []
   },
   "source": []
  }
 ],
 "metadata": {
  "kernelspec": {
   "display_name": "Python (en605645)",
   "language": "python",
   "name": "en605645"
  },
  "language_info": {
   "codemirror_mode": {
    "name": "ipython",
    "version": 3
   },
   "file_extension": ".py",
   "mimetype": "text/x-python",
   "name": "python",
   "nbconvert_exporter": "python",
   "pygments_lexer": "ipython3",
   "version": "3.7.10"
  },
  "toc": {
   "colors": {
    "hover_highlight": "#DAA520",
    "navigate_num": "#000000",
    "navigate_text": "#333333",
    "running_highlight": "#FF0000",
    "selected_highlight": "#FFD700",
    "sidebar_border": "#EEEEEE",
    "wrapper_background": "#FFFFFF"
   },
   "moveMenuLeft": true,
   "nav_menu": {
    "height": "117px",
    "width": "252px"
   },
   "navigate_menu": true,
   "number_sections": true,
   "sideBar": true,
   "threshold": 4,
   "toc_cell": false,
   "toc_section_display": "block",
   "toc_window_display": false,
   "widenNotebook": false
  }
 },
 "nbformat": 4,
 "nbformat_minor": 4
}
