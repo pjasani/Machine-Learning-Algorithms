{
 "cells": [
  {
   "cell_type": "code",
   "execution_count": 1,
   "metadata": {},
   "outputs": [],
   "source": [
    "import warnings\n",
    "warnings.filterwarnings('ignore') "
   ]
  },
  {
   "cell_type": "code",
   "execution_count": 2,
   "metadata": {},
   "outputs": [],
   "source": [
    "%matplotlib inline\n",
    "from copy import deepcopy"
   ]
  },
  {
   "cell_type": "markdown",
   "metadata": {},
   "source": [
    "# Module 13 - Programming Assignment\n",
    "\n",
    "## Directions\n",
    "\n",
    "1. Change the name of this file to be your JHED id as in `jsmith299.ipynb`. Because sure you use your JHED ID (it's made out of your name and not your student id which is just letters and numbers).\n",
    "2. Make sure the notebook you submit is cleanly and fully executed. I do not grade unexecuted notebooks.\n",
    "3. Submit your notebook back in Blackboard where you downloaded this file.\n",
    "\n",
    "*Provide the output **exactly** as requested*"
   ]
  },
  {
   "cell_type": "markdown",
   "metadata": {},
   "source": [
    "# The Problem\n",
    "\n",
    "When we last left our agent in Module 4, it was wandering around a world filled with plains, forests, swamps, hills and mountains. This presupposes a map with known terrain:\n",
    "\n",
    "```\n",
    "......\n",
    "...**.\n",
    "...***\n",
    "..^...\n",
    "..~^..\n",
    "```\n",
    "\n",
    "but what if all we know is that we have some area of interest, that we've reduced to a GPS grid:\n",
    "\n",
    "```\n",
    "??????\n",
    "??????\n",
    "??????\n",
    "??????\n",
    "??????\n",
    "```\n",
    "\n",
    "and the agent has to determine what kind of terrain is to the left, front and right of it?\n",
    "\n",
    "Assuming the agent has a very simple visual sensor that constructs a 4x4 grayscale image for each of the three directions, it might it could see something like this:"
   ]
  },
  {
   "cell_type": "code",
   "execution_count": 3,
   "metadata": {},
   "outputs": [
    {
     "data": {
      "image/png": "[encoded data removed]",
      "text/plain": [
       "<Figure size 1440x432 with 3 Axes>"
      ]
     },
     "metadata": {
      "needs_background": "light"
     },
     "output_type": "display_data"
    }
   ],
   "source": [
    "import numpy as np\n",
    "import matplotlib.pyplot as plt\n",
    "import random\n",
    "\n",
    "plain =  [0.0, 0.0, 0.0, 0.0,0.0, 0.0, 0.0, 0.0,0.0, 0.0, 0.0, 0.0,1.0, 1.0, 1.0, 1.0]\n",
    "forest = [0.0, 1.0, 0.0, 0.0,1.0, 1.0, 1.0, 0.0,1.0, 1.0, 1.0, 1.0,0.0, 1.0, 0.0, 0.0]\n",
    "hills =  [0.0, 0.0, 0.0, 0.0,0.0, 0.0, 1.0, 0.0,0.0, 1.0, 1.0, 1.0,1.0, 1.0, 1.0, 1.0]\n",
    "swamp =  [0.0, 0.0, 0.0, 0.0,0.0, 0.0, 0.0, 0.0,1.0, 0.0, 1.0, 0.0,1.0, 1.0, 1.0, 1.0]\n",
    "\n",
    "figure = plt.figure(figsize=(20,6))\n",
    "\n",
    "axes = figure.add_subplot(1, 3, 1)\n",
    "pixels = np.array([255 - p * 255 for p in plain], dtype='uint8')\n",
    "pixels = pixels.reshape((4, 4))\n",
    "axes.set_title( \"Left Camera\")\n",
    "axes.imshow(pixels, cmap='gray')\n",
    "\n",
    "axes = figure.add_subplot(1, 3, 2)\n",
    "pixels = np.array([255 - p * 255 for p in forest], dtype='uint8')\n",
    "pixels = pixels.reshape((4, 4))\n",
    "axes.set_title( \"Front Camera\")\n",
    "axes.imshow(pixels, cmap='gray')\n",
    "\n",
    "axes = figure.add_subplot(1, 3, 3)\n",
    "pixels = np.array([255 - p * 255 for p in hills], dtype='uint8')\n",
    "pixels = pixels.reshape((4, 4))\n",
    "axes.set_title( \"Right Camera\")\n",
    "axes.imshow(pixels, cmap='gray')\n",
    "\n",
    "plt.show()\n",
    "plt.close()"
   ]
  },
  {
   "cell_type": "markdown",
   "metadata": {},
   "source": [
    "which would be plains, forest and hills respectively.\n"
   ]
  },
  {
   "cell_type": "markdown",
   "metadata": {},
   "source": [
    "## The Assignment\n",
    "\n",
    "In Assignment 12, we applied a logistic regression to determine if something was \"hills\" or \"not hills\". For this programming assignment your task is to write an artificial neural network that determines what kind of terrain it is. This is a multi-class problem.\n",
    "\n",
    "For a starting point, you can refer to Pseudocode and the Self-Check."
   ]
  },
  {
   "cell_type": "markdown",
   "metadata": {},
   "source": [
    "## Data\n",
    "\n",
    "As before, we have clean examples of the different types of terrain but based on the location, the registration can be a bit off for some of the types and the visual sensor is often blurry.\n",
    "\n",
    "Here are the clean examples with different registrations: "
   ]
  },
  {
   "cell_type": "code",
   "execution_count": 4,
   "metadata": {},
   "outputs": [],
   "source": [
    "clean_data = {\n",
    "    \"plains\": [\n",
    "        [0.0, 0.0, 0.0, 0.0, 0.0, 0.0, 0.0, 0.0, 0.0, 0.0, 0.0, 0.0, 1.0, 1.0, 1.0, 1.0, \"plains\"]\n",
    "    ],\n",
    "    \"forest\": [\n",
    "        [0.0, 1.0, 0.0, 0.0, 1.0, 1.0, 1.0, 0.0, 1.0, 1.0, 1.0, 1.0, 0.0, 1.0, 0.0, 0.0, \"forest\"],\n",
    "        [0.0, 0.0, 1.0, 0.0, 0.0, 1.0, 1.0, 1.0, 1.0, 1.0, 1.0, 1.0, 0.0, 0.0, 1.0, 0.0, \"forest\"],\n",
    "        [1.0, 0.0, 0.0, 0.0, 1.0, 1.0, 0.0, 0.0, 1.0, 1.0, 1.0, 0.0, 1.0, 0.0, 0.0, 0.0, \"forest\"],\n",
    "        [0.0, 0.0, 0.0, 1.0, 0.0, 0.0, 1.0, 1.0, 0.0, 1.0, 1.0, 1.0, 0.0, 0.0, 0.0, 1.0, \"forest\"]\n",
    "    ],\n",
    "    \"hills\": [\n",
    "        [0.0, 0.0, 0.0, 0.0, 0.0, 0.0, 1.0, 0.0, 0.0, 1.0, 1.0, 1.0, 1.0, 1.0, 1.0, 1.0, \"hills\"],\n",
    "        [0.0, 0.0, 0.0, 0.0, 0.0, 1.0, 0.0, 0.0, 1.0, 1.0, 1.0, 0.0, 1.0, 1.0, 1.0, 1.0, \"hills\"],\n",
    "        [0.0, 0.0, 0.0, 0.0, 1.0, 0.0, 0.0, 0.0, 1.0, 1.0, 0.0, 0.0, 1.0, 1.0, 1.0, 0.0, \"hills\"],\n",
    "        [0.0, 0.0, 0.0, 0.0, 0.0, 0.0, 0.0, 1.0, 0.0, 0.0, 1.0, 1.0, 0.0, 1.0, 1.0, 1.0, \"hills\"]\n",
    "    ],\n",
    "    \"swamp\": [\n",
    "        [0.0, 0.0, 0.0, 0.0, 0.0, 0.0, 0.0, 0.0, 1.0, 0.0, 1.0, 0.0, 1.0, 1.0, 1.0, 1.0, \"swamp\"],\n",
    "        [0.0, 0.0, 0.0, 0.0, 0.0, 0.0, 0.0, 0.0, 0.0, 1.0, 0.0, 1.0, 1.0, 1.0, 1.0, 1.0, \"swamp\"]        \n",
    "    ]\n",
    "}"
   ]
  },
  {
   "cell_type": "markdown",
   "metadata": {},
   "source": [
    "Let's create a function that allows us to view any of these:"
   ]
  },
  {
   "cell_type": "code",
   "execution_count": 5,
   "metadata": {},
   "outputs": [],
   "source": [
    "def view_sensor_image( data):\n",
    "    figure = plt.figure(figsize=(4,4))\n",
    "    axes = figure.add_subplot(1, 1, 1)\n",
    "    pixels = np.array([255 - p * 255 for p in data[:-1]], dtype='uint8')\n",
    "    pixels = pixels.reshape((4, 4))\n",
    "    axes.set_title( \"Left Camera:\" + data[-1])\n",
    "    axes.imshow(pixels, cmap='gray')\n",
    "    plt.show()\n",
    "    plt.close()"
   ]
  },
  {
   "cell_type": "markdown",
   "metadata": {},
   "source": [
    "\"I think that I shall never see a thing so lovely as a tree.\""
   ]
  },
  {
   "cell_type": "code",
   "execution_count": 6,
   "metadata": {},
   "outputs": [
    {
     "data": {
      "image/png": "[encoded data removed]",
      "text/plain": [
       "<Figure size 288x288 with 1 Axes>"
      ]
     },
     "metadata": {
      "needs_background": "light"
     },
     "output_type": "display_data"
    }
   ],
   "source": [
    "view_sensor_image( clean_data[ \"forest\"][0])"
   ]
  },
  {
   "cell_type": "code",
   "execution_count": 7,
   "metadata": {},
   "outputs": [
    {
     "data": {
      "image/png": "[encoded data removed]",
      "text/plain": [
       "<Figure size 288x288 with 1 Axes>"
      ]
     },
     "metadata": {
      "needs_background": "light"
     },
     "output_type": "display_data"
    }
   ],
   "source": [
    "view_sensor_image( clean_data[\"swamp\"][0])"
   ]
  },
  {
   "cell_type": "markdown",
   "metadata": {},
   "source": [
    "The data that comes in, however, is noisy. The values are never exactly 0 and 1. In order to mimic this we need a `blur` function.\n",
    "\n",
    "We will assume that noise is normally distributed. For values that should be 0, the noisy values are distributed $N(0.10, 0.05)$. For values should be 1, the noisy values are distributed $N(0.9, 0.10)$."
   ]
  },
  {
   "cell_type": "code",
   "execution_count": 8,
   "metadata": {},
   "outputs": [],
   "source": [
    "def blur( data):\n",
    "    def apply_noise( value):\n",
    "        if value < 0.5:\n",
    "            v = random.gauss( 0.10, 0.05)\n",
    "            if v < 0.0:\n",
    "                return 0.0\n",
    "            if v > 0.75:\n",
    "                return 0.75\n",
    "            return v\n",
    "        else:\n",
    "            v = random.gauss( 0.90, 0.10)\n",
    "            if v < 0.25:\n",
    "                return 0.25\n",
    "            if v > 1.00:\n",
    "                return 1.00\n",
    "            return v\n",
    "    noisy_readings = [apply_noise( v) for v in data[0:-1]]\n",
    "    return noisy_readings + [data[-1]]"
   ]
  },
  {
   "cell_type": "markdown",
   "metadata": {},
   "source": [
    "We can see how this affects what the agent *actually* sees."
   ]
  },
  {
   "cell_type": "code",
   "execution_count": 9,
   "metadata": {},
   "outputs": [
    {
     "data": {
      "image/png": "[encoded data removed]",
      "text/plain": [
       "<Figure size 288x288 with 1 Axes>"
      ]
     },
     "metadata": {
      "needs_background": "light"
     },
     "output_type": "display_data"
    }
   ],
   "source": [
    "view_sensor_image( blur( clean_data[\"swamp\"][0]))"
   ]
  },
  {
   "cell_type": "markdown",
   "metadata": {},
   "source": [
    "You are going to want to write four (4) functions:\n",
    "\n",
    "1. `generate_data`\n",
    "2. `learn_model`\n",
    "3. `apply_model`\n",
    "\n",
    "### `generate_data`\n",
    "\n",
    "With the clean examples and the `blur` function, we have an unlimited amount of data for training and testing our classifier, an ANN that determines if a sensor image is hills, swamp, forest or plains.\n",
    "\n",
    "In classification, there is a general problem called the \"unbalanced class problem\". In general, we want our training data to have the same number of classes for each class. This means you should probably generate training data with, say, 100 of each type.\n",
    "\n",
    "But what do we do about the class label with the neural network?\n",
    "\n",
    "In this case, we can do \"one hot\". Instead of `generate_data` outputing a single 0 or 1, it should output a vector of 0's and 1's so that $y$ is now a vector as well as $x$. We can use the first position for hill, the second for swamp, the third for forest and the fourth for plains:\n",
    "\n",
    "```\n",
    "[0, 1, 0, 0]\n",
    "```\n",
    "\n",
    "what am I? swamp.\n",
    "\n",
    "Unlike logistic regression, you should set the *biases* inside the neural network (the implict $x_0$ = 1) because there are going to be lot of them (one for every hidden and output node).\n",
    "\n",
    "`generate_data` now only needs to take how many you want of each class:\n",
    "\n",
    "`generate_data( clean_data, 100)`\n",
    "\n",
    "generates 100 hills, 100 swamp, 100 forest, 100 plains and transforms $y$ into the respective \"one hot\" encoding. You can use the code from Module 12 as a starting point.\n",
    "\n",
    "### `learn_model`\n",
    "\n",
    "`learn_model` is the function that takes in training data and actually learns the ANN. If you're up to it, you can implement a vectorized version using Numpy but you might start with the loopy version first.\n",
    "\n",
    "*In the lecture, I mentioned that you usually should mean normalize your data but you don't need to do that in this case because the data is already on the range 0-1.*\n",
    "\n",
    "You should add a parameter to indicate how many nodes the hidden layer should have.\n",
    "\n",
    "When verbose is True, you should print out the error so you can see that it is getting smaller.\n",
    "\n",
    "When developing your algorithm, you need to watch the error so you'll set verbose=True to start. You should print it out every iteration and make sure it is declining. You'll have to experiment with both epsilon and alpha; and it doesn't hurt to make alpha adaptive (if the error increases, make alpha = alpha / 10).\n",
    "\n",
    "When you know that your algorithm is working, change your code so that the error is printed out only every 1,000 iterations (it takes a lot of iterations for this problem to converge, depending on your parameter values--start early).\n",
    "\n",
    "`learn_model` returns the neural network. The hidden layer will be one vector of thetas for each hidden node. And the output layer will have its own thetas, one for each output (4 in this case). Return it as a Tuple: (List of List, List of List).\n",
    "\n",
    "### `apply_model`\n",
    "\n",
    "`apply_model` takes the ANN (the model) and either labeled or unlabeled data. If the data is unlabeled, it will return predictions for each observation as a List of Tuples of the inferred value (0 or 1) and the actual probability (so something like (1, 0.73) or (0, 0.19) so you have [(0, 0.30), (1, 0.98), (0, 0.87), (0, 0.12)]. Note that unlike the logistic regression, the threshold for 1 is not 0.5 but which value is largest (0.98 in this case).\n",
    "\n",
    "If the data is labeled, you will return a List of List of Tuples of the actual value (0 or 1) and the predicted value (0 or 1). For a single data point, you'll have the pairs of actual values [(0, 1), (0, 0), (0, 0), (1, 0)] is a misclassification and [(0, 0), (0, 0), (1, 1), (0, 0)] will be a correct classification. Then you have a List of *those*, one for each observation.\n",
    "\n",
    "###  simple evaluation\n",
    "\n",
    "We have an \"unlimited\" supply of data so we'll just generate a training set and then a test set and see how well our neural network does. Use the error rate (correct classifications/total examples) for your evaluation metric. We'll learn about more sophisticated \n",
    "\n",
    "1. generate training set (how many do you think you need?)\n",
    "2. generate test set (how many is a good \"test\" of the network you built?)\n",
    "3. loop over [2, 4, 8] hidden nodes:\n",
    "    1. train model and apply to train data, calculate error rate.\n",
    "    2. apply to test data and calculate error rate.\n",
    "    3. print error rate\n",
    "    \n",
    "Which number of hidden nodes did best?\n",
    "\n",
    "**As always when working with Lists or Lists of Lists, be very careful when you are modifying these items in place that this is what you intend (you may want to make a copy first)**"
   ]
  },
  {
   "cell_type": "markdown",
   "metadata": {},
   "source": [
    "**calc_y_hat**<br>\n",
    "The `calc_y_hat` is a helper functionf for `forward_pass` and `apply_model`. GIven the data and theta it calculates the dot product of the data and theta. It passes the values int he activation function. It uses the following activation function\n",
    "$$ \\hat{y} = \\frac{1}{1+e^{-z}} $$\n",
    "\n",
    "Parameters:\n",
    "* **theta**: a `List of Lists` of theta values.\n",
    "* **data**: a `list of lists` of data we want to train the neural network with\n",
    "\n",
    "It returns,<br>\n",
    "updated `theta` values</br>"
   ]
  },
  {
   "cell_type": "code",
   "execution_count": 10,
   "metadata": {},
   "outputs": [],
   "source": [
    "def calc_y_hat(data, theta):\n",
    "    m_data = np.hstack((np.ones((len(data),1)), data))  # set Xo = 1\n",
    "    z = np.dot(theta, m_data.T).astype(float)\n",
    "    y_hat = 1/(1+np.exp(-z))\n",
    "    return y_hat"
   ]
  },
  {
   "cell_type": "markdown",
   "metadata": {},
   "source": [
    "**update_theta**<br>\n",
    "The `update_theta` is a helper functionf for `back_propogate`. It updates the thetas and the delta for that layer.\n",
    "\n",
    "Parameters:\n",
    "* **theta_in**: a `List of Lists` of current theta\n",
    "* **alpha** is the learning rate. It is set to 0.1 by default.\n",
    "* **y** `List` is the calculated y value for the layer for which we are updating theta\n",
    "* **delta** is the calculated error for the expected and actual y values.\n",
    "\n",
    "It returns,<br>\n",
    "updated `theta` values</br>"
   ]
  },
  {
   "cell_type": "code",
   "execution_count": 11,
   "metadata": {},
   "outputs": [],
   "source": [
    "def update_theta(theta_in, y, delta, alpha = 0.1):\n",
    "    theta = deepcopy(theta_in)\n",
    "    for indx in range(y.shape[0]):\n",
    "        theta = theta + alpha * (np.multiply(np.array([y[indx]]).T, delta[indx])).T\n",
    "    return theta"
   ]
  },
  {
   "cell_type": "markdown",
   "metadata": {},
   "source": [
    "**forward_pass**<br>\n",
    "The `forward_pass` is a helper functionf for `learn_model`. It calculates the y values for the hidden and the output layers.\n",
    "\n",
    "Parameters:\n",
    "* **theta_in**: a `List of Lists` of current theta betwen input and hidden layer\n",
    "* **theta_out**: a `List of Lists` of current theta betwen output and hidden layer\n",
    "* **data**: a `list of lists` of data we want to train the neural network with\n",
    "\n",
    "It returns,<br>\n",
    "calculated `y` for hidden and output layers."
   ]
  },
  {
   "cell_type": "code",
   "execution_count": 12,
   "metadata": {},
   "outputs": [],
   "source": [
    "def forward_pass(data, theta_in, theta_out):\n",
    "    hidden_y = (calc_y_hat(data, theta_in)).T\n",
    "    out_y = (calc_y_hat(hidden_y, theta_out)).T\n",
    "    return hidden_y, out_y "
   ]
  },
  {
   "cell_type": "markdown",
   "metadata": {},
   "source": [
    "**calculate_delta**<br>\n",
    "The `calculate_delta` is a helper functionf for `learn_model`. It calculated the error with \n",
    "actual and expected output ($\\delta_o$) and backpropagation error ($\\delta_h$).\n",
    "\n",
    "Parameters:\n",
    "* **hidden_l**: a `List of Lists` of calcualted y values though forward pass.\n",
    "* **out_l**: a `List of Lists` of calcualted y values though forward pass.\n",
    "* **theta_out**: a `List of Lists` of current theta betwen output and hidden layer\n",
    "* **data**: a `list of lists` of data we want to train the neural network with\n",
    "\n",
    "It returns,<br>\n",
    "calculated `𝛿𝑜` and `𝛿ℎ`"
   ]
  },
  {
   "cell_type": "code",
   "execution_count": 13,
   "metadata": {},
   "outputs": [],
   "source": [
    "def calculate_delta(data, hidden_l, out_l, theta_out):\n",
    "    delta_o = np.multiply(np.multiply(out_l,(1-out_l)), np.array(data[:,-1].tolist()) - out_l)\n",
    "    hidden_l = np.hstack((np.ones((len(hidden_l),1)), hidden_l))\n",
    "    delta_h = np.multiply(np.multiply(hidden_l, (1-hidden_l)), np.dot(delta_o, theta_out))[:,1:]   # drop the leading 1 we added for bias term\n",
    "    return delta_o, delta_h"
   ]
  },
  {
   "cell_type": "markdown",
   "metadata": {},
   "source": [
    "**calculate_delta**<br>\n",
    "The `back_propogate` is a helper functionf for `learn_model`. It calculated the error with \n",
    "actual and expected output ($\\delta_o$) and backpropagation error ($\\delta_h$).\n",
    "\n",
    "Parameters:\n",
    "* **hidden_l**: a `List of Lists` of calcualted y values though forward pass.\n",
    "* **out_l**: a `List of Lists` of calcualted y values though forward pass.\n",
    "* **theta_out**: a `List of Lists` of current theta betwen output and hidden layer\n",
    "* **data**: a `list of lists` of data we want to train the neural network with\n",
    "\n",
    "It returns,<br>\n",
    "calculated `𝛿𝑜` and `𝛿ℎ`."
   ]
  },
  {
   "cell_type": "code",
   "execution_count": 14,
   "metadata": {},
   "outputs": [],
   "source": [
    "def back_propogate(data, theta_in, theta_out, hidden_l, alpha, delta_o, delta_h):\n",
    "    theta_out = update_theta(theta_out, hidden_l, delta_o, alpha)\n",
    "    lead_1_data = np.hstack((np.ones((data.shape[0],1)), data[:,:-1]))   # add a Xo = 1 and remove label column\n",
    "    theta_in  = update_theta(theta_in, lead_1_data, delta_h, alpha)\n",
    "    return theta_in, theta_out"
   ]
  },
  {
   "cell_type": "markdown",
   "metadata": {},
   "source": [
    "**calculate_delta**<br>\n",
    "The `evaluate` calculates the accuracy of the model.\n",
    "\n",
    "Parameters:\n",
    "* **model**: a `tuple` of thetas between the layers.\n",
    "\n",
    "It returns<br>\n",
    "`error rate` of the model"
   ]
  },
  {
   "cell_type": "code",
   "execution_count": 15,
   "metadata": {},
   "outputs": [],
   "source": [
    "def evaluate(model):\n",
    "    x = [1 for row in model if (1,1) not in row]\n",
    "    error_rate = sum(x) / len(model)\n",
    "    return error_rate"
   ]
  },
  {
   "cell_type": "markdown",
   "metadata": {},
   "source": [
    "---\n",
    "\n",
    "Put your helper functions above here.\n",
    "\n",
    "## Main Functions"
   ]
  },
  {
   "cell_type": "markdown",
   "metadata": {},
   "source": [
    "### generate_data\n",
    "\n",
    "Generates an endless supply of blurred data from a collection of terrain prototypes.\n",
    "\n",
    "* `data`: Dict[Str, List[Any]] - a Dictionary of \"clean\" prototypes for each landscape type.\n",
    "* `n`: Int - the number of blurred examples of each terrain type to return.\n",
    "\n",
    "returns\n",
    "\n",
    "* List[List[Any]] - a List of Lists. Each individual List is a blurred example of a terrain type, generated from the prototype."
   ]
  },
  {
   "cell_type": "code",
   "execution_count": 16,
   "metadata": {
    "tags": []
   },
   "outputs": [],
   "source": [
    "def generate_data(data, n):\n",
    "    labels = set(clean_data.keys())\n",
    "    data = []\n",
    "    label_vec = {\"hills\": np.array([1,0,0,0], dtype = int),\n",
    "                 \"swamp\": np.array([0,1,0,0], dtype = int),\n",
    "                 \"forest\":np.array([0,0,1,0], dtype = int),\n",
    "                 \"plains\":np.array([0,0,0,1], dtype = int)}\n",
    "    \n",
    "    for label in labels:\n",
    "        for _ in range(n):\n",
    "            datum = blur(random.choice(clean_data[label]))\n",
    "            datum[-1] = label_vec[label]\n",
    "            data += [datum]\n",
    "    random.shuffle(data)\n",
    "    return np.array(data)"
   ]
  },
  {
   "cell_type": "markdown",
   "metadata": {
    "tags": []
   },
   "source": [
    "### learn_model\n",
    "The `learn_modellearn_model` calculates the accuracy of the model.\n",
    "* **data**: a `list of lists` of data we want to train the neural network with\n",
    "* **hidden_node**: The number of nodes NN should have in the hidden layers.\n",
    "* **iterations**: The number of iterations we want the NN to train the mode.\n",
    "* **verbose**: It indicates if we want to print errors\n",
    "* **alpha** : It is the learning rate of the neural network. It is set to 0.01 by default.\n",
    "\n",
    "returns<br>\n",
    "`tuple` of trained thetas."
   ]
  },
  {
   "cell_type": "code",
   "execution_count": 17,
   "metadata": {
    "tags": []
   },
   "outputs": [],
   "source": [
    "def learn_model( data, hidden_nodes, iterations= 5000, verbose=False, alpha = 0.01):\n",
    "    theta_in = np.random.rand(hidden_nodes, data.shape[1])\n",
    "    theta_out = np.random.rand(4, hidden_nodes+1)\n",
    "    count = 0\n",
    "    \n",
    "    for count in range(1, iterations):\n",
    "        hidden_l, out_l = forward_pass(data[:,:-1], theta_in, theta_out)\n",
    "        delta_o, delta_h = calculate_delta(data, hidden_l, out_l, theta_out)\n",
    "        hidden_l = np.hstack((np.ones((len(hidden_l),1)), hidden_l))    # add Xo = 1\n",
    "        theta_in, theta_out = back_propogate(data, theta_in, theta_out, hidden_l, alpha, delta_o, delta_h)\n",
    "        print(f\"iteration:{count}, Error:{abs(np.mean(delta_o) + np.mean(delta_h))}\")if verbose and count%1000== 0 else None\n",
    "    model = (theta_in, theta_out)\n",
    "    return model"
   ]
  },
  {
   "cell_type": "markdown",
   "metadata": {},
   "source": [
    "### apply_model\n",
    "It uses the trained model to predict values for the test data.\n",
    "\n",
    "* **model**: a `tuple of thetas`.\n",
    "* **test_data**: `List of Lists` of data we want to test the model with.\n",
    "* **labeled**: It indicates if the test data has labels or not. By default it is set to False.\n",
    "\n",
    "returns<br>\n",
    "If the data is labeled, you will return a `List of List of Tuples` of the actual value (0 or 1) and the predicted value (0 or 1).If the data is labeled, you will return a List of List of Tuples of the actual value (0 or 1) and the predicted value (0 or 1)."
   ]
  },
  {
   "cell_type": "code",
   "execution_count": 18,
   "metadata": {
    "tags": []
   },
   "outputs": [],
   "source": [
    "def apply_model( model, test_data, labeled=False):\n",
    "    probs = []\n",
    "    decode = {0:[1,0,0,0] , 1:[0,1,0,0], 2:[0,0,1,0] , 3:[0,0,0,1]}\n",
    "    theta_in, theta_out = model\n",
    "    if labeled:\n",
    "        hidden_l, out_l = forward_pass(test_data[:,:-1], theta_in, theta_out)\n",
    "        for indx in range(len(test_data)):\n",
    "            probs += [list(zip(np.array(test_data[indx,-1].tolist()), decode[np.argmax(out_l[indx])]))]\n",
    "    else:\n",
    "        hidden_l, out_l = forward_pass(test_data[:,:-1], theta_in, theta_out)\n",
    "        for indx in range(len(out_l)):\n",
    "            probs += [list(zip(decode[np.argmax(out_l[indx])],out_l[indx]))]\n",
    "    return probs"
   ]
  },
  {
   "cell_type": "markdown",
   "metadata": {},
   "source": [
    "Test out generate_data:"
   ]
  },
  {
   "cell_type": "code",
   "execution_count": 19,
   "metadata": {},
   "outputs": [
    {
     "name": "stdout",
     "output_type": "stream",
     "text": [
      "[0.07611112174569426 0.1446667944285972 0.08350839546420175\n",
      " 0.13397158539096415 0.14620582341786756 0.1695493228818369\n",
      " 0.04754865848585447 0.109522349280596 0.7106934270686723\n",
      " 0.17515335556568581 0.8277675545041622 0.11626608923909311\n",
      " 0.9286683251370755 0.797099498310642 0.9275331505983125\n",
      " 0.8295782688451387 array([0, 1, 0, 0])]\n",
      "[0.0 0.043056806524432084 0.14617789461419817 0.09726291052748963\n",
      " 0.0398707642098864 0.13369533343775766 0.0 0.15747543702983446\n",
      " 0.10300302755337408 0.8662290972328955 0.152169538884254\n",
      " 0.8164071290076035 0.7698975269832377 1.0 0.9702127378505241\n",
      " 0.8705565670772331 array([0, 1, 0, 0])]\n",
      "[0.0 0.09377447439300667 0.054884631337114416 0.1622226268908221\n",
      " 0.02384232737910774 0.0656041951270808 0.14913442990558182\n",
      " 0.0689867638447237 0.05564258507249166 0.1967332060958121\n",
      " 0.10672231120021203 0.04000641984079026 0.9683120856425563\n",
      " 0.9888065817699689 1.0 0.8985649078144331 array([0, 0, 0, 1])]\n",
      "[0.07274030153880759 0.07766847032349047 0.11640198191505405\n",
      " 0.11598297211029134 0.1153758962125427 0.003882335045696156\n",
      " 0.7941878537379538 0.06705635113505126 0.13022921001203705\n",
      " 0.8322511270426791 0.8074984834847516 0.9028341682864021\n",
      " 0.9701525993248609 0.8511257089805812 0.761155985755431\n",
      " 0.9377804783847308 array([1, 0, 0, 0])]\n",
      "[1.0 0.1454226046295712 0.11889887289480604 0.062394130194847915\n",
      " 0.9054803709876469 0.8140264436520918 0.0958017755313914\n",
      " 0.11030510753202565 0.8797249444787264 0.7875909232911611\n",
      " 0.9446970070568574 0.1338190281180378 0.9693351248977178\n",
      " 0.12945919670331515 0.13636322475774476 0.1438609963276475\n",
      " array([0, 0, 1, 0])]\n",
      "[0.11834654061066568 0.04581695903296499 0.07497921845635862\n",
      " 0.08155873937782367 1.0 0.06312073763413797 0.13066125795094938\n",
      " 0.09962792748490136 1.0 0.8750072558355275 0.0 0.057763120457906124\n",
      " 0.7708899590195623 0.7901687237488879 1.0 0.13325340242336192\n",
      " array([1, 0, 0, 0])]\n",
      "[0.11153483728361815 0.12309730842425567 0.007323867051535288\n",
      " 0.14285809629423735 0.2480885901622945 0.1198086654312232\n",
      " 0.18242024804625584 0.1742094369772622 0.0807250698939744\n",
      " 0.08336299285361945 0.11844436280148656 0.04840652221114305 1.0\n",
      " 0.8441417067214981 0.8927832726009524 0.8802469150362923\n",
      " array([0, 0, 0, 1])]\n",
      "[0.0997106257973513 0.9162462327036064 0.06967234535889644\n",
      " 0.11991207636953075 0.9478750147845747 0.8758216513270894\n",
      " 0.7125686147555336 0.06165100664238497 0.8666338196671572\n",
      " 0.8249450205942033 0.9038812914927274 0.8509585682803723\n",
      " 0.06880453863152323 0.7770215359403366 0.17512547238517995\n",
      " 0.062353402909187707 array([0, 0, 1, 0])]\n",
      "[0.1255048728930351 0.9443945858803592 0.16784833731249527\n",
      " 0.14237594184290064 0.8852212053171582 0.9036942851921147\n",
      " 0.8794887589549766 0.18004773248469708 0.9304426941564685\n",
      " 0.8196944668371883 1.0 1.0 0.07127768971583863 0.7433380689002139\n",
      " 0.15969464221203927 0.19991162556215802 array([0, 0, 1, 0])]\n",
      "[0.16225127141523263 0.13182317036772861 0.7736873391588681\n",
      " 0.14291356528610788 0.08328999765441542 0.7753640271116194\n",
      " 0.9116114893757047 0.7776608853010091 1.0 0.7693761327559502\n",
      " 0.9583224094382844 0.8395833988961856 0.07303722947784433\n",
      " 0.08630607585156783 0.9795992627959853 0.09711457227130253\n",
      " array([0, 0, 1, 0])]\n",
      "[0.9165323327238524 0.011281806886671616 0.11479136967475133 0.0\n",
      " 0.927220858971261 0.9699530834131347 0.13634185812037308\n",
      " 0.026204620465715783 0.876250267664808 0.9506168557697376 1.0\n",
      " 0.10645222146395605 0.9434967004635257 0.053810310059358074\n",
      " 0.10479041638306524 0.10764746341818171 array([0, 0, 1, 0])]\n",
      "[0.04105222504304512 0.08700569325093231 0.12324765174328745\n",
      " 0.10341280534920644 0.16447430188425208 0.04878410663755361\n",
      " 0.16883168963753015 0.10801453851215548 1.0 0.08334445779545216\n",
      " 0.8653201787343141 0.07693408582201788 0.7815328331362367\n",
      " 0.9405585467723179 0.7954493210067035 1.0 array([0, 1, 0, 0])]\n",
      "[0.10214516464028844 0.12540742964660231 0.02862495913024375\n",
      " 0.09275583474550832 0.13647910300750415 0.019127763222819977\n",
      " 0.13373470634549958 0.14021935646226116 1.0 0.00017145630636469789\n",
      " 0.9578832528659162 0.10062247134326416 0.8945894223979288\n",
      " 0.8156394576883743 0.6991631907713824 0.7873406212088344\n",
      " array([0, 1, 0, 0])]\n",
      "[0.10994539254115088 0.14538785571379065 0.002004416474275017\n",
      " 0.15587482024988522 0.15183465945911526 0.7971890376138726\n",
      " 0.09477674524891375 0.038038983164784615 0.9312201524564603\n",
      " 0.8362947560600573 0.9232623749472192 0.08197018066754565\n",
      " 0.8691019548041289 0.796853208468151 1.0 0.9034146153520839\n",
      " array([1, 0, 0, 0])]\n",
      "[0.16754265660507392 0.1396793736425092 0.14601473743547552\n",
      " 0.08669919111134333 0.08651519519688661 0.17132255958817927\n",
      " 0.8410260952858366 0.22820150395501557 0.10656823698524338\n",
      " 0.807801558653636 0.702763824733471 0.956764201088513 0.9423709595447229\n",
      " 1.0 0.9101831693181484 0.7837899987149659 array([1, 0, 0, 0])]\n",
      "[0.15984467419349502 0.10509533032809988 0.07268328509738445\n",
      " 0.07430103877297584 0.06601969188845638 0.19305634629615404\n",
      " 0.1816618655565691 0.030409501978962722 0.13341061659181813\n",
      " 0.8484706191772676 0.17581192986258148 0.9009619521295127\n",
      " 0.996296708220627 0.74546042745037 0.7658932056424899 0.859027313596813\n",
      " array([0, 1, 0, 0])]\n",
      "[0.08301329142674554 0.05317107072474864 0.12207301889262792\n",
      " 0.06739471068489816 0.15826519249370752 0.13353284430037382\n",
      " 0.11012332093916827 0.9273935672353696 0.05722343555170287\n",
      " 0.12863935260040954 0.9265759280587947 1.0 0.09748539731390284\n",
      " 0.7204239825593006 1.0 1.0 array([1, 0, 0, 0])]\n",
      "[0.059177703832434134 0.07964077492299934 0.007571020010734841\n",
      " 0.02195681678454521 0.09100572141183985 0.1133402229408158\n",
      " 0.138750701511523 0.05535068065093409 0.11160263961694046\n",
      " 0.1551257216160567 0.15816049328646142 0.13979361459441955\n",
      " 0.9212257189059381 0.9012565225441654 0.8663177628422107\n",
      " 0.9528635957681747 array([0, 0, 0, 1])]\n",
      "[0.16991080604826703 0.07711994371222325 0.09962458342604691\n",
      " 0.008013462455559561 0.07382810754375489 0.09466734016142114\n",
      " 0.08011189027653218 0.05365492146596184 1.0 0.15568750173636464\n",
      " 0.8952287553879884 0.12997624029355045 0.9405575424122368\n",
      " 0.9983233695341217 0.9636516972384694 0.9197086348315677\n",
      " array([0, 1, 0, 0])]\n",
      "[0.14011275437055287 0.09583517200600361 0.0930363790097162\n",
      " 0.051101916499312276 0.1191542085344912 0.11276819374134008\n",
      " 0.1496606184376804 0.05251734969281285 0.096918158702307\n",
      " 0.157191163589823 0.12030242713152775 0.07999838364239423\n",
      " 0.8305869094004694 0.8321494368410526 0.9831716663727907\n",
      " 0.6065608664651663 array([0, 0, 0, 1])]\n",
      "[0.07782773058922325 0.22124733203677993 0.09206313473878097\n",
      " 0.14249916000323537 0.17208384451026648 0.9402670805803117 0.0\n",
      " 0.09197550290145456 0.8037611961260404 0.9352694420145902 1.0\n",
      " 0.12611643070008316 0.9368589695830501 0.9220112163744583\n",
      " 0.7489307324190811 0.9394736045669924 array([1, 0, 0, 0])]\n",
      "[0.10726796446583241 0.14471108975959357 0.1064126162305614\n",
      " 0.10949194840664352 0.047141208155282735 0.10466773485268702\n",
      " 0.07560745945331736 0.07717238761062736 0.06609227674748466\n",
      " 0.07293004144012497 0.07650563100320393 0.07050865328001944 1.0\n",
      " 0.8295770279146804 0.8169708301743818 0.960773491928824\n",
      " array([0, 0, 0, 1])]\n",
      "[0.07798957924174293 0.02552315917397059 0.12194282329396869\n",
      " 0.12181759146039368 0.17724756545372658 0.06052749953661258\n",
      " 0.9680053278228073 0.09431408733758659 0.1019078597070185\n",
      " 0.8336137440098198 0.8150299260443193 0.7284094546729138\n",
      " 0.9866161535543887 1.0 0.8088509569869087 1.0 array([1, 0, 0, 0])]\n",
      "[0.006757761968192055 0.07931617300684243 0.12692590426030928 0.0\n",
      " 0.1040925397781913 0.07642082365334772 0.026633427054548395\n",
      " 0.020691704116348214 0.13743564312057382 0.07060231435353868\n",
      " 0.08432684527981296 0.06657860124992912 0.9338536240099563 1.0 1.0\n",
      " 0.9210680573979669 array([0, 0, 0, 1])]\n",
      "[0.10410304626240194 0.09462751848045436 0.11649201760849262\n",
      " 0.15119029962479852 0.17685346405506677 0.13584143419113798\n",
      " 0.1613758214590094 0.0882219486628723 0.05990601702756907\n",
      " 0.10766208944475794 0.13728626895362359 0.1552633586693383 1.0\n",
      " 0.8633268822455014 0.8865144481250995 0.888965622629204\n",
      " array([0, 0, 0, 1])]\n",
      "[0.1278895641242759 0.10274296479892513 0.1423299836919225\n",
      " 0.003997470718178547 0.13977126508428195 0.16278138712145182\n",
      " 0.0165808991586244 0.1612030581213333 0.14575257814913245\n",
      " 0.09049719306191606 0.19388804659053305 0.034748237845997273 1.0\n",
      " 0.6839895147326374 0.7192725430303291 1.0 array([0, 0, 0, 1])]\n",
      "[0.138526287157857 0.13963634057345095 0.07084442283620186\n",
      " 0.8777377631926068 0.16940010757363172 0.16265257072457173\n",
      " 0.8996905033559428 0.9155419367020229 0.14398903267231816\n",
      " 0.8071953423609911 0.8577557024864808 0.9210241255055777\n",
      " 0.1303947901639506 0.12044980405028999 0.20841235211028636\n",
      " 0.7608087355201957 array([0, 0, 1, 0])]\n",
      "[0.03321883078399644 0.06871306415736614 0.09709984391205456\n",
      " 0.09300777525144653 0.06325770318138252 0.04519879317531594\n",
      " 0.1857744111771505 0.15041373979791445 0.1780206240335486\n",
      " 0.9722278175527937 0.037379871362972925 0.9920829397054878\n",
      " 0.9864308633391015 0.9722306622639474 0.8702614713134442\n",
      " 0.8848326107811969 array([0, 1, 0, 0])]\n",
      "[0.0805727990158239 0.10676814736249941 0.17553052761812898\n",
      " 0.07585676760966953 0.15021973738864317 0.07525207023951921\n",
      " 0.0794778009482496 0.11569984493452848 0.8679822972639946\n",
      " 0.05519135254673671 0.815191087022574 0.08563806324288842\n",
      " 0.9419385147846658 0.8882410822742948 0.731703362143966\n",
      " 0.9720164559597503 array([0, 1, 0, 0])]\n",
      "[0.0628351111624958 0.12910709766238665 0.7813296859155809\n",
      " 0.09311208288827486 0.16536358747144786 0.8989931384985232\n",
      " 0.8096743007820267 1.0 0.8106435500342157 1.0 0.8783186017373318\n",
      " 0.9071424213397677 0.03132411237083174 0.11608190867586995\n",
      " 0.9143618634991435 0.09573687023030279 array([0, 0, 1, 0])]\n",
      "[0.10943695438977583 0.1596013241709675 0.0488976547260098\n",
      " 0.04278820147085434 0.07267511082568164 0.12326485013620052\n",
      " 0.04715702118585929 0.06289581591287158 0.06789618008294546\n",
      " 0.1263537433452555 0.11925768860167862 0.13838481827297885\n",
      " 0.9605565419510818 0.9920270705154282 0.7490078280773369\n",
      " 0.8924381503299791 array([0, 0, 0, 1])]\n",
      "[0.03291906076272354 0.18143381038227815 0.08343772294061155\n",
      " 0.0971192780539384 0.1003972499973029 0.1261006901781546\n",
      " 0.14571290922044244 0.09615440411445803 0.05174472784682735\n",
      " 0.770923265787198 0.14161060268075026 0.8275726359232228\n",
      " 0.8660714625948226 0.9634065934776007 0.8847540347664767\n",
      " 0.8787844803762085 array([0, 1, 0, 0])]\n",
      "[0.06981130048250214 0.08034058001818689 0.07016074496369584\n",
      " 0.07819759692318039 0.10305624967316744 0.04040108570080925\n",
      " 0.14268683342676014 0.0 0.11295146956774413 0.8066257199875839\n",
      " 0.14784848058041772 0.9809820997620877 0.9071802973177128\n",
      " 0.848067250308066 1.0 0.850810390188939 array([0, 1, 0, 0])]\n",
      "[0.10099712922428476 0.015365917883460617 0.9742472601859389\n",
      " 0.16755312449533763 0.13913349193078575 1.0 0.8576117710493336\n",
      " 0.9646392344573794 1.0 0.856761470845656 0.9222738916890951 1.0\n",
      " 0.023621974195525877 0.07701205346375392 0.9729069003172858\n",
      " 0.18877556869049147 array([0, 0, 1, 0])]\n",
      "[0.12159173090564562 0.10839338363542649 0.12969019769576812\n",
      " 0.1255837225312475 0.16844980086928668 0.09461052573213687\n",
      " 0.10882750410489214 0.8619426865554013 0.15060804218136434\n",
      " 0.0887974343428418 0.8279302037154121 0.968982512466372\n",
      " 0.1490029152534721 0.9152693112701806 0.8609066101866666\n",
      " 0.7563877345371983 array([1, 0, 0, 0])]\n",
      "[0.07349419623132226 0.14697712156562662 0.19302790653664764\n",
      " 0.05492141759150709 0.8399312879758782 0.12457510109837075\n",
      " 0.04183258634808762 0.09566579239733305 0.8457128917012096\n",
      " 0.9070202888864362 0.04890185631989089 0.04715248044952722\n",
      " 0.8659606576346586 0.8081755634850816 1.0 0.17814595839135655\n",
      " array([1, 0, 0, 0])]\n",
      "[0.07736971672875581 0.27917355887870393 0.23660017422919905\n",
      " 0.1058398420723051 0.006543485816203787 0.08353442100112576\n",
      " 0.04492724996657002 0.060663476895502055 0.15328446063233328\n",
      " 0.12508205210496204 0.05383281918067047 0.15090323501879566\n",
      " 0.7404483137936638 0.9406517489358195 0.9729691973403897\n",
      " 0.9424628897700316 array([0, 0, 0, 1])]\n",
      "[0.05925667571682279 1.0 0.10638202334312434 0.04627130122611996\n",
      " 0.8615020032333641 0.9519056771030087 0.8124636896737752\n",
      " 0.1710615883414633 0.789390491461436 0.957988414227419 0.7564959548610376\n",
      " 0.8439717364512708 0.06424849323710016 0.8509889919427531\n",
      " 0.1127982378772076 0.03672586361658765 array([0, 0, 1, 0])]\n",
      "[0.8934340754834764 0.08566831392205654 0.13827964238247256\n",
      " 0.13700552102402624 0.8139769266896526 1.0 0.09493723064851181\n",
      " 0.08899485500433452 1.0 0.9078407642987444 0.9721370777507677\n",
      " 0.07021767534280188 0.822530627012811 0.12842902197317013\n",
      " 0.13422030040274857 0.0013783279221054323 array([0, 0, 1, 0])]\n",
      "[0.07571340133772576 0.09299043278611795 0.18619687988750236\n",
      " 0.09896618913749254 0.16851141164007755 0.9605053719772694\n",
      " 0.10738246922793032 0.06165153511857352 0.955926859121564\n",
      " 0.9610924638511958 0.85635866670952 0.10816563168032754 1.0\n",
      " 0.7555313833896459 0.8881830429414915 0.8794242595827781\n",
      " array([1, 0, 0, 0])]\n"
     ]
    }
   ],
   "source": [
    "results = generate_data( clean_data, 10)\n",
    "for result in results:\n",
    "    print( result)"
   ]
  },
  {
   "cell_type": "markdown",
   "metadata": {},
   "source": [
    "Use `generate_data` to generate 100 blurred examples of each type (all four terrains)."
   ]
  },
  {
   "cell_type": "code",
   "execution_count": 20,
   "metadata": {},
   "outputs": [],
   "source": [
    "train_data = generate_data( clean_data, 100)"
   ]
  },
  {
   "cell_type": "markdown",
   "metadata": {},
   "source": [
    "Use `learn_model` to learn a ANN model for classifying sensor images as hills, swamps, plains or forest. **Set Verbose to True**"
   ]
  },
  {
   "cell_type": "code",
   "execution_count": 21,
   "metadata": {},
   "outputs": [
    {
     "name": "stdout",
     "output_type": "stream",
     "text": [
      "iteration:1000, Error:1.997144140979119e-05\n",
      "iteration:2000, Error:7.515215177033066e-06\n",
      "iteration:3000, Error:4.520140324484738e-06\n",
      "iteration:4000, Error:3.2029892132552155e-06\n"
     ]
    }
   ],
   "source": [
    "model = learn_model(train_data, 8, iterations = 4001, verbose = True, alpha = 0.01)"
   ]
  },
  {
   "cell_type": "markdown",
   "metadata": {},
   "source": [
    "Use `generate_data` to generate 100 blurred examples of each terrain and use this as your test data."
   ]
  },
  {
   "cell_type": "code",
   "execution_count": 22,
   "metadata": {
    "tags": []
   },
   "outputs": [],
   "source": [
    "test_data = generate_data( clean_data, 100)"
   ]
  },
  {
   "cell_type": "markdown",
   "metadata": {},
   "source": [
    "Apply the model and evaluate the results."
   ]
  },
  {
   "cell_type": "code",
   "execution_count": 23,
   "metadata": {},
   "outputs": [
    {
     "data": {
      "text/plain": [
       "0.0"
      ]
     },
     "execution_count": 23,
     "metadata": {},
     "output_type": "execute_result"
    }
   ],
   "source": [
    "results = apply_model( model, test_data, labeled=True)\n",
    "evaluate(results)*100"
   ]
  },
  {
   "cell_type": "markdown",
   "metadata": {},
   "source": [
    "print( results)"
   ]
  },
  {
   "cell_type": "markdown",
   "metadata": {},
   "source": [
    "Now that you're pretty sure your algorithm works (the error rate during training is going down, and you can evaluate `apply_model` results for its error rate), you need to determine what the best number of hidden nodes is.\n",
    "\n",
    "Try 2, 4, or 8 hidden nodes and indicate the best one. Follow the outline above under \"Simple Evaluation\".\n",
    "In the \"real world\", you could 10 fold cross validation and validation curves to determine the number of hidden nodes and possibly if you needed one or two hidden layers."
   ]
  },
  {
   "cell_type": "code",
   "execution_count": 24,
   "metadata": {},
   "outputs": [
    {
     "name": "stdout",
     "output_type": "stream",
     "text": [
      "Hidden Nodes:2, error_rate:0.0%\n",
      "Hidden Nodes:4, error_rate:0.0%\n",
      "Hidden Nodes:8, error_rate:0.0%\n"
     ]
    }
   ],
   "source": [
    "hidden_nodes = [2,4,8]\n",
    "train = generate_data( clean_data, 300) \n",
    "test = generate_data( clean_data, 300) \n",
    "\n",
    "for h_nodes in hidden_nodes:\n",
    "    t_model = learn_model(train, h_nodes, iterations=4501, alpha=0.01)\n",
    "    t_result = apply_model(t_model, test, labeled=True)\n",
    "    error_rate = evaluate(t_result)\n",
    "    print(f\"Hidden Nodes:{h_nodes}, error_rate:{error_rate*100}%\")"
   ]
  },
  {
   "cell_type": "markdown",
   "metadata": {},
   "source": [
    "which number of hidden nodes is best? __8__<br>\n",
    "I found that there was one best node number that gave the best result considering only the accuracy as it can be seen above. I think the best result out the 3 option would be 8 hidden nodes in the hidden layer. I think that because more hidden nodes help make a higher order decision boundry."
   ]
  },
  {
   "cell_type": "markdown",
   "metadata": {},
   "source": [
    "## Before You Submit...\n",
    "\n",
    "1. Did you provide output exactly as requested?\n",
    "2. Did you re-execute the entire notebook? (\"Restart Kernel and Rull All Cells...\")\n",
    "3. If you did not complete the assignment or had difficulty please explain what gave you the most difficulty in the Markdown cell below.\n",
    "4. Did you change the name of the file to `jhed_id.ipynb`?\n",
    "\n",
    "Do not submit any other files."
   ]
  },
  {
   "cell_type": "markdown",
   "metadata": {},
   "source": []
  }
 ],
 "metadata": {
  "kernelspec": {
   "display_name": "Python (en605645)",
   "language": "python",
   "name": "en605645"
  },
  "language_info": {
   "codemirror_mode": {
    "name": "ipython",
    "version": 3
   },
   "file_extension": ".py",
   "mimetype": "text/x-python",
   "name": "python",
   "nbconvert_exporter": "python",
   "pygments_lexer": "ipython3",
   "version": "3.7.10"
  },
  "toc": {
   "colors": {
    "hover_highlight": "#DAA520",
    "navigate_num": "#000000",
    "navigate_text": "#333333",
    "running_highlight": "#FF0000",
    "selected_highlight": "#FFD700",
    "sidebar_border": "#EEEEEE",
    "wrapper_background": "#FFFFFF"
   },
   "moveMenuLeft": true,
   "nav_menu": {
    "height": "207px",
    "width": "252px"
   },
   "navigate_menu": true,
   "number_sections": true,
   "sideBar": true,
   "threshold": 4,
   "toc_cell": false,
   "toc_section_display": "block",
   "toc_window_display": false,
   "widenNotebook": false
  }
 },
 "nbformat": 4,
 "nbformat_minor": 4
}
