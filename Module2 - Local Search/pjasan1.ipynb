{
 "cells": [
  {
   "cell_type": "markdown",
   "metadata": {},
   "source": [
    "# Module 1 - Programming Assignment\n",
    "\n",
    "## Directions\n",
    "\n",
    "1. Change the name of this file to be your JHED id as in `jsmith299.ipynb`. Because sure you use your JHED ID (it's made out of your name and not your student id which is just letters and numbers).\n",
    "2. Make sure the notebook you submit is cleanly and fully executed. I do not grade unexecuted notebooks.\n",
    "3. Submit your notebook back in Blackboard where you downloaded this file.\n",
    "\n",
    "*Provide the output **exactly** as requested*"
   ]
  },
  {
   "cell_type": "code",
   "execution_count": 1,
   "metadata": {},
   "outputs": [],
   "source": [
    "from pprint import pprint\n",
    "from copy import deepcopy\n",
    "import random"
   ]
  },
  {
   "cell_type": "markdown",
   "metadata": {},
   "source": [
    "## Local Search - Genetic Algorithm\n",
    "\n",
    "For this assignment we're going to use the Genetic Algorithm to find the solution to a shifted Sphere Function in 10 dimensions, $x$, where the range of $x_i$ in each dimension is (-5.12 to 5.12). Here a \"solution\" means the vector $x$ that minimizes the function. The Sphere Function is:\n",
    "\n",
    "$$f(x)=\\sum x^2_i$$\n",
    "\n",
    "We are going to shift it over 0.5 in every dimension:\n",
    "\n",
    "$$f(x) = \\sum (x_i - 0.5)^2$$\n",
    "\n",
    "where $n = 10$.\n",
    "\n",
    "As this *is* a minimization problem you'll need to use the trick described in the lecture to turn the shifted Sphere Function into an appropriate fitness function (which is always looking for a *maximum* value).\n",
    "\n",
    "<div style=\"background: palegreen; margin:20px; padding: 20px;\">\n",
    "    <strong>Question</strong>\n",
    "    <p>\n",
    "<strong>This is not supposed to be a hard problem but an illustrative one.</strong> If the minimizing vector for the regular sphere function is all 0.0, what is the minimizing vector of values for this shifted shifted sphere function in 10 dimensions?\n",
    "</p>\n",
    "</div>"
   ]
  },
  {
   "cell_type": "markdown",
   "metadata": {},
   "source": [
    "answer here."
   ]
  },
  {
   "cell_type": "markdown",
   "metadata": {},
   "source": [
    "GA can be used solve problems like these in multiple dimensions (the 2d version is shown):\n",
    "\n",
    "![Eggholder](http://www.sfu.ca/~ssurjano/egg.png)"
   ]
  },
  {
   "cell_type": "markdown",
   "metadata": {},
   "source": [
    "## Canonical (\"Binary\") Genetic Algorithm\n",
    "\n",
    "You are going to solve the problem two different ways. First, using the traditional (or \"Canonical\") Genetic Algorithm that encodes numeric values as binary strings (you don't have to represent them literally as strings but they are general lists or strings of only 0 or 1).\n",
    "\n",
    "There are many different ways to make this encoding. For this assignment, use a 10 bit binary encoding for each $x_i$. We can then *decode* each $x_i$ a to an integer value of 0 to 1024 and then *approximately* map that to (-5.12, 5.12) by subtracting 512 and dividing by 100. If the boundaries mattered for your problem, you would need to improve your encoding!\n",
    "\n",
    "All the GA operators (crossover, mutation) should be as described in the lecture and pseudocode.\n",
    "\n",
    "\n",
    "<div style=\"background: lemonchiffon; margin:20px; padding: 20px;\">\n",
    "    <strong>Important</strong>\n",
    "    <p>\n",
    "Please remember that there is a difference between the *genotype* and the *phenotype*. The Canonical GA operates on the *genotype* (the encoding) and does not respect the boundaries of the phenotype (the decoding). So, for example, do <strong>not</strong> use a List of Lists to represent an individual. It should be a <strong>single</strong> List of bits. How many bits depends on the encoding and the number of variables encoded. In general, crossover and mutation have no idea what those bits represent so boundaries between variables are not respected in any way.</p>\n",
    "    <p>Also remember...\n",
    "        <ul>\n",
    "            <li>Every individual is a complete solution all by itself. If the problem has 5 variables, each individual has 5 variables encoded in it.</li>\n",
    "            <li>A population is a collection of individuals, that is, potential solutions.</li>\n",
    "            <li>Population size and generations are somewhat fungible...you can have a \"smaller\" population and have it run more generations or vice versa but the substitution is not exact. Experiment</li>\n",
    "    </ul>\n",
    "</div>"
   ]
  },
  {
   "cell_type": "markdown",
   "metadata": {},
   "source": [
    "## Real Valued GA\n",
    "\n",
    "For the real valued GA, you can represent each $x_i$ as a float in the range (-5.12, 5.12) but you will need to create a new mutation operator that applies gaussian noise. Python's random number generator for the normal distribution is called `gauss` and is found in the random module:\n",
    "\n",
    "```\n",
    "from random import gauss, random\n",
    "```\n",
    "\n",
    "You may need to experiment a bit with the standard deviation of the noise but the mean will be 0.0."
   ]
  },
  {
   "cell_type": "markdown",
   "metadata": {},
   "source": [
    "## GA\n",
    "\n",
    "The GA has a lot of parameters: mutation rate, crossover rate, population size, dimensions (given for this problem), number of generations.  You can put all of those and your fitness function in a `Dict` in which case you need to implement:\n",
    "\n",
    "```python\n",
    "def binary_ga( parameters, debug=False):\n",
    "  pass\n",
    "```\n",
    "\n",
    "and\n",
    "\n",
    "```python\n",
    "def real_ga( parameters, debug=False):\n",
    "  pass\n",
    "```\n",
    "\n",
    "Remember that you need to transform the sphere function (minimization) into a legit fitness function (maximization). Since you also need the sphere function, I would suggest that your parameters Dict includes something like:\n",
    "\n",
    "```python\n",
    "parameters = {\n",
    "   \"f\": lambda xs: sphere( 0.5, xs),\n",
    "   \"minimization\": True\n",
    "   # put other parameters in here.\n",
    "}\n",
    "```\n",
    "\n",
    "and then have your code check for \"minimization\" and create an entry for \"fitness\" that is appropriate.\n",
    "\n",
    "Each algorithm may require different values for the parameters. You will need to find a good population size but it is often in the 100s. The number of generations required is also in the 100s. Not 10, not 5.\n",
    "\n",
    "The Genetic Algorithm itself will have the same basic structure in each case: create a population, evaluate it, select parents, apply crossover and mutation, repeat until the number of desired generations have been generated. The easiest way to accomplish this in \"Functional\" Python would be to use Higher Order Functions. If you do it this way, you'd have a `general_ga` that the functions above might call along with specialization functions. If you have no idea what I'm taking about...don't do it! It's not required.\n",
    "\n",
    "One more important thing...because most data structures are pass by reference, be careful of accidentally modifying \"in place\".\n",
    "\n",
    "```\n",
    "    > a = [1, 2, 3]\n",
    "    > b = a\n",
    "    > c = a\n",
    "    > a[0] = 2 # modifies every reference to list, ie, b and c as well.\n",
    "    \n",
    "    def modify(a, k):\n",
    "       a[0] = k\n",
    "       return a\n",
    "        \n",
    "    > modify(a, 2) # also modifies everything reference everywhere.\n",
    "```\n",
    "\"slicing\" returns copies not \"views\":\n",
    "\n",
    "```    \n",
    "    > b = a[0:1]\n",
    "    > b\n",
    "    [1]\n",
    "    > b[0] = 2\n",
    "    > b\n",
    "    [2]\n",
    "    > a\n",
    "    [1, 2, 3]\n",
    "```    \n",
    "in the worst case, use deepcopy:\n",
    "```    \n",
    "    > from copy import deepcopy\n",
    "    \n",
    "    > a = [1, 2, 3]\n",
    "    > b = deepcopy(a)\n",
    "    > b[0] = 2\n",
    "    > a\n",
    "    [1, 2, 3]\n",
    "    > b\n",
    "    [2, 2, 3]\n",
    "```\n",
    "\n",
    "## Requirements\n",
    "\n",
    "The Binary GA should return the following Dict:\n",
    "\n",
    "```\n",
    "{\n",
    "    \"genotype\": [0, 1, ....],\n",
    "    \"solution\": [0.59, 0.47, 0.5,....],\n",
    "    \"fitness\": 0.997,\n",
    "    \"f\": 0.001\n",
    "}\n",
    "```\n",
    "\n",
    "The values are representative.\n",
    "\n",
    "The Real Valued GA should return a similar Dict except there is no \"phenotype\":\n",
    "```\n",
    "{\n",
    "    \"solution\": [0.59, 0.47, 0.5,....],\n",
    "    \"fitness\": 0.997,\n",
    "    \"f\": 0.001\n",
    "}\n",
    "```\n",
    "\n",
    "Since the phenotype and the genotype are the same, we don't need to show them separately.\n",
    "\n",
    "Use `pprint` on the returned value.\n",
    "\n",
    "**Additionally**, if the formal argument `debug` is set to true, you should print the current best individual of every N generations. Print out the same information as above plus the generation number. N should be about your generations/20 (so there are 20 debug outputs)."
   ]
  },
  {
   "cell_type": "markdown",
   "metadata": {},
   "source": [
    "**sphere**\n",
    "\n",
    "The `sphere` function returns $\\sum_{x=1}^n (x-0.5)^2$.\n",
    "\n",
    "Parameters:\n",
    "* **shift** is the value we want the function to be shifted by\n",
    "* **sx** a list of x values.\n",
    "\n",
    "For example, if shift is 0.5 and list of x vales is [1.0, 2.0, -3.4, 5.0, -1.2, 3.23, 2.87, -4.23, 3.82, -4.61]\n",
    "\n",
    "it would return:\n",
    "\n",
    "`113.42720000000001`"
   ]
  },
  {
   "cell_type": "code",
   "execution_count": 2,
   "metadata": {},
   "outputs": [],
   "source": [
    "def sphere( shift, xs):\n",
    "    return sum( [(x - shift)**2 for x in xs])"
   ]
  },
  {
   "cell_type": "code",
   "execution_count": 3,
   "metadata": {},
   "outputs": [
    {
     "data": {
      "text/plain": [
       "113.42720000000001"
      ]
     },
     "execution_count": 3,
     "metadata": {},
     "output_type": "execute_result"
    }
   ],
   "source": [
    "sphere( 0.5, [1.0, 2.0, -3.4, 5.0, -1.2, 3.23, 2.87, -4.23, 3.82, -4.61])"
   ]
  },
  {
   "cell_type": "markdown",
   "metadata": {},
   "source": [
    "-----\n",
    "\n",
    "Put your code in cells here (not all in one cell! One cell per function. Make additional cells (code and Markdown) as needed."
   ]
  },
  {
   "cell_type": "markdown",
   "metadata": {},
   "source": [
    "**decode**\n",
    "\n",
    "The `decode` is a helper function for `binary_ga` that converts a binary string to a list of 10 integer values. The function takes a string list and splits it into 10 equal parts and converts them to decimal value.\n",
    "\n",
    "Parameters:\n",
    "* **binary** is the binary string we want to convert\n",
    "\n",
    "retuns:<br>\n",
    "it returns a list of 10 integers"
   ]
  },
  {
   "cell_type": "code",
   "execution_count": 4,
   "metadata": {},
   "outputs": [],
   "source": [
    "def decode(binary):\n",
    "    var_list = [binary[10*i:10+(10*i)] for i in range(10)]  # split into equal parts\n",
    "    decoded = [int(var,2) for var in var_list]              # convert to decimal\n",
    "    return decoded"
   ]
  },
  {
   "cell_type": "markdown",
   "metadata": {},
   "source": [
    "**gen_binary_genome**\n",
    "\n",
    "The `gen_binary_genome` is a helper a function for `binary_ga` that generates a binary string of length genome_length by randomly choosing 1's and 0's\n",
    "\n",
    "Parameters:\n",
    "* **genome_length** is the length of the binary string we want to generate.\n",
    "\n",
    "retuns:<br>\n",
    "it returns a randomly generated binary string of length `genome_length`"
   ]
  },
  {
   "cell_type": "code",
   "execution_count": 5,
   "metadata": {},
   "outputs": [],
   "source": [
    "def gen_binary_genome(genome_length):\n",
    "    genome_lst = random.choices([0,1], k=genome_length)\n",
    "    genome = \"\".join(str(bit) for bit in genome_lst)\n",
    "    return genome"
   ]
  },
  {
   "cell_type": "markdown",
   "metadata": {},
   "source": [
    "**gen_real_genome**\n",
    "\n",
    "The `gen_real_genome` is a helper a function for `real_ga` that generates a list of float values in range(-5.12, 5.12).\n",
    "\n",
    "Parameters:\n",
    "* **genome_length** is the length of the list of 10 float values,\n",
    "\n",
    "retuns:<br>\n",
    "it returns a list 10 float values of length `genome_length`"
   ]
  },
  {
   "cell_type": "code",
   "execution_count": 6,
   "metadata": {},
   "outputs": [],
   "source": [
    "def gen_real_genome(ind_length):\n",
    "    individual = [round(random.uniform(-5.12, 5.12), 3) for _ in range(ind_length)]\n",
    "    return individual"
   ]
  },
  {
   "cell_type": "markdown",
   "metadata": {},
   "source": [
    "**fit_in_bounrdy**\n",
    "\n",
    "The `fit_in_boundry` is a helper a function for `binary_ga` that maps a list of float values in range(-5.12, 5.12).\n",
    "\n",
    "Parameters:\n",
    "* **lst** is the list of values we want to fit in the boundry\n",
    "\n",
    "retuns:<br>\n",
    "it returns a list of 10 float values which will be in range (-5.12, 5.12)"
   ]
  },
  {
   "cell_type": "code",
   "execution_count": 7,
   "metadata": {},
   "outputs": [],
   "source": [
    "def fit_in_boundry(lst):\n",
    "    fit_lst = [((val-512)/100) for val in lst]\n",
    "    return fit_lst"
   ]
  },
  {
   "cell_type": "markdown",
   "metadata": {},
   "source": [
    "**fitness**\n",
    "\n",
    "The `fitness` is a helper a function for `real_ga` and `binary_ga` that calculates $ \\frac{1} {1+ \\sum_{x=1}^n (x-0.5)^2}$ for an individual.\n",
    "\n",
    "Parameters:\n",
    "* **individual** is the list of values we want to calculate the fitness score for.\n",
    "* **fx** is the function we use to evaluate the fitness. By default it is set to sphere function shifted by(0.5)\n",
    "\n",
    "retuns:<br>\n",
    "it returns a number after evaluating $ \\frac{1} {1+ \\sum_{x=1}^n (x-0.5)^2}$"
   ]
  },
  {
   "cell_type": "code",
   "execution_count": 8,
   "metadata": {},
   "outputs": [],
   "source": [
    "def fitness(individual, fx = lambda xs: sphere( 0.5, xs)):\n",
    "    ind_var = deepcopy(individual)\n",
    "    fitness = 1/(1 + fx(ind_var))\n",
    "    return fitness"
   ]
  },
  {
   "cell_type": "markdown",
   "metadata": {},
   "source": [
    "**selection**\n",
    "\n",
    "The `selection` is a helper a function for `real_ga` and `binary_ga` that uses tournament selection.\n",
    "It chooses 7 random individual from the population find the 2 strongest individual using fitness score out of the chosen 7.\n",
    "\n",
    "Parameters:\n",
    "* **population** is the list of binary strings. \n",
    "* **dec** is the boolean used to indicate if we need to apply decoding to the individuals in the population while calculating fitness score. It is set to False by default.\n",
    "\n",
    "retuns:<br>\n",
    "it returns 2 strongest individuals out of 7 randomly chosen individuals. "
   ]
  },
  {
   "cell_type": "code",
   "execution_count": 9,
   "metadata": {},
   "outputs": [],
   "source": [
    "def selection(population, dec = False):\n",
    "    # tournament selection\n",
    "    random_seven = random.choices(population, k = 7)  #randomly choose 7\n",
    "    \n",
    "    if dec == True:\n",
    "        random_seven.sort(reverse = True, key = lambda ind:fitness(fit_in_boundry(decode(ind))))  # sort them by firness score\n",
    "    else:\n",
    "        random_seven.sort(reverse = True, key = lambda ind:fitness(ind))# sort them by firness score\n",
    "    parent_a = random_seven[0]\n",
    "    parent_b = random_seven[1]\n",
    "\n",
    "    return parent_a, parent_b"
   ]
  },
  {
   "cell_type": "markdown",
   "metadata": {},
   "source": [
    "**crossover**\n",
    "\n",
    "The `crossover` is a helper a function for `real_ga` and `binary_ga` that genrates a random index. It then spits parent_a and parent_b at the indx. It then concatenates left half of parent_a with right half of parent_b and vice versa.\n",
    "\n",
    "Parameters:\n",
    "* **parent_a** is a list or string we want to generate a child from.\n",
    "* **parent_b** is a list or string we want to generate a child from.\n",
    "* **crossover_rate** is the crossover rate.\n",
    "\n",
    "retuns:<br>\n",
    "it returns `child_a` and `child_b` after crossover of `parent_a` and `parent_b` if it passes the crossover test. It returns original parents if it fails crossover rate.\n",
    "\n",
    "For Example, if parent_a = [1,2,3,4,5,6], parent_b = [9,8,7,6,5,4], and randomly generated indx is 3 and it passes crossover rate test.<br>\n",
    "```\n",
    "parent_a = [1,2,3|,4,5,6]\n",
    "parebt_b = [9,8,7|,6,5,4]\n",
    "         \n",
    "child_a = [1,2,3,|6,5,4]        \n",
    "child_b = [9,8,7,|4,5,6]\n",
    "\n",
    "```\n"
   ]
  },
  {
   "cell_type": "code",
   "execution_count": 10,
   "metadata": {
    "tags": []
   },
   "outputs": [],
   "source": [
    "def crossover(parent_a, parent_b, crossover_rate):\n",
    "    if random.uniform(0,1) < crossover_rate: \n",
    "        indx = random.randint(1, len(parent_a)-1)   #random index for crossover\n",
    "        child_a = parent_a[:indx] + parent_b[indx:]\n",
    "        child_b = parent_b[:indx] + parent_a[indx:]\n",
    "        return child_a, child_b\n",
    "    else:\n",
    "        return parent_a, parent_b"
   ]
  },
  {
   "cell_type": "markdown",
   "metadata": {},
   "source": [
    "**mutation_real**\n",
    "\n",
    "The `mutation_real` is a helper a function for `real_ga` check if the mutation needs to be applied on genome. The function generates a random float value between 0 and 1. If the value is $<$ mutation rate then gaussian noice is applied, otherwise it returns orignial list.\n",
    "\n",
    "Parameters:\n",
    "* **gnome** is a list of floats that we want to apply mutation to.\n",
    "* **mutation_rate** is the muration rate\n",
    "\n",
    "retuns:<br>\n",
    "it returns a mutated list, by applying gaussian noice if it passes mutation test. If it fails the mutation test it returns the original list."
   ]
  },
  {
   "cell_type": "code",
   "execution_count": 11,
   "metadata": {
    "tags": []
   },
   "outputs": [],
   "source": [
    "def mutation_real(genome, mutation_rate):\n",
    "    if random.uniform(0,1) < mutation_rate:\n",
    "        indx = random.randint(1, len(genome)-1)  # generate random indx\n",
    "        gauss_noice = random.gauss(0, 2.5)\n",
    "        mutated_genome = deepcopy(genome)\n",
    "        mutated_genome[indx] = gauss_noice\n",
    "        return mutated_genome\n",
    "    else:\n",
    "        return genome"
   ]
  },
  {
   "cell_type": "markdown",
   "metadata": {},
   "source": [
    "**mutation_binary**\n",
    "\n",
    "The `mutation_binary` is a helper a function for `binary_ga` check if the mutation needs to be applied on genome. \n",
    "The function generates a random float value between 0 and 1. If the value is $<$ mutation rate then gaussian noice is applied, otherwise it returns orignial list. To apply the mutation it generates a random value and if the value is $<$ mutation/length of genome then it mutates that bit. It then check does the same thing with the rest of the bits.\n",
    "\n",
    "Parameters:\n",
    "* **genome** is a binary string that we want to apply mutation to.\n",
    "* **mutation_rate** is the muration rate\n",
    "\n",
    "retuns:<br>\n",
    "it returns a mutated string, by mutating bits if it passes mutation test. If it fails the mutation test it returns the binary string."
   ]
  },
  {
   "cell_type": "code",
   "execution_count": 12,
   "metadata": {
    "tags": []
   },
   "outputs": [],
   "source": [
    "def mutation_binary(genome, mutation_rate):\n",
    "    mutate_bit ={\"1\":0, \"0\":1}\n",
    "    if random.uniform(0,1) < mutation_rate:\n",
    "        mutated_genome = deepcopy(genome)\n",
    "        for indx in range(len(genome)):\n",
    "            if random.uniform(0,1) < mutation_rate/len(genome):\n",
    "                mutated_genome = mutated_genome[:indx] + str(mutate_bit[genome[indx]]) + mutated_genome[indx+1:]\n",
    "        return mutated_genome\n",
    "    else:\n",
    "        return genome"
   ]
  },
  {
   "cell_type": "markdown",
   "metadata": {},
   "source": [
    "**binary_ga**\n",
    "\n",
    "The `binary_ga` uses genetic algorithm that uses evolution as an inspiration for searching for better solution. It expreses solutions in a \"genetic\" code. It encodes numeric values as binary strings. We use Genetic Algorithm to find the solution to a shifted Sphere Function in 10 dimensions, where the range of $x_i$ in each dimension is (-5.12 to 5.12). It is a minimization problem. The shifte spere function is\n",
    "$$f(x) = \\sum (x_i - 0.5)^2$$\n",
    "\n",
    "Parameters:\n",
    "* **parameters** is dictionary of parameters. It contains below parameters.\n",
    "   * **f** is the sphere function shifted by 0.5\n",
    "   * **dimentions** is the number of variables each individual has to have.\n",
    "   * **bits_per_var** is the number of bits we want to represent each variable in the individual with.\n",
    "   * **populatin_count** is the number of toal population.\n",
    "   * **lim_generation** is the limit for the total number of generations we want the algorithm to run\n",
    "   * **crossover_rate** is the rate to determine if crossover needs to be applied.\n",
    "   * **mutation_rate** is the rate to determine if mutation ndds to be applied.\n",
    "   * **f_limit** is the limit we set for algorithm to stop if `lim_generation` has not been reached                         \n",
    "* **debug** is boolean used to indicate if we want to print the debug steps.\n",
    "\n",
    "retuns:<br>\n",
    "It returns a dictionary containing the solution and more information regarding that. It returns \"solution\", \"fitness\", \"genotype\" and \"f\"  which is the evalauted value solution in shifted sphere functio which is the evalauted value solution in shifted sphere function."
   ]
  },
  {
   "cell_type": "code",
   "execution_count": 13,
   "metadata": {
    "tags": []
   },
   "outputs": [],
   "source": [
    "def binary_ga(parameters, debug=False):\n",
    "    result_dict = {}\n",
    "    \n",
    "    # generate population\n",
    "    current_generation = [gen_binary_genome(parameters[\"dimentions\"]*parameters[\"bits_per_var\"]) for _ in range(parameters[\"population_count\"])]\n",
    "    best = current_generation[0]\n",
    "    \n",
    "    for gen_num in range(parameters[\"lim_generations\"]):\n",
    "        next_generation  = []\n",
    "        \n",
    "        if debug == True and gen_num%int(parameters[\"lim_generations\"] /20) == 0:\n",
    "            print(f\"Generation # {gen_num}\")\n",
    "            result_dict[\"genotype\"] = best\n",
    "            result_dict[\"solution\"] = [round(val,2) for val in fit_in_boundry(decode(best))]\n",
    "            result_dict[\"fitness\"] = round(fitness(fit_in_boundry((decode(best)))),3)\n",
    "            result_dict[\"f\"] = round(parameters['f'](result_dict[\"solution\"]),3)\n",
    "            pprint(result_dict)\n",
    "            print(\"\")\n",
    "            \n",
    "        if fitness(fit_in_boundry(decode(best))) >= parameters[\"f_limit\"]:\n",
    "            break\n",
    "        \n",
    "        for i in range(int(parameters[\"population_count\"]/2)):\n",
    "            parent_a, parent_b = selection(current_generation, dec = True)\n",
    "            child_a, child_b = crossover(parent_a, parent_b, parameters[\"crossover_rate\"])\n",
    "            child_a = mutation_binary(child_a, parameters[\"mutation_rate\"])\n",
    "            child_b = mutation_binary(child_b, parameters[\"mutation_rate\"])\n",
    "            next_generation += [child_a]\n",
    "            next_generation += [child_b]\n",
    "        current_generation = deepcopy(next_generation)  \n",
    "        \n",
    "        # sort current_generation by fitness score (inplace)\n",
    "        current_generation.sort(reverse= True, key =lambda individual: fitness(fit_in_boundry((decode(individual)))))\n",
    "        \n",
    "        if fitness(fit_in_boundry(decode(best))) < fitness(fit_in_boundry((decode(current_generation[0])))):\n",
    "            best = current_generation[0] \n",
    "        \n",
    "    result_dict[\"genotype\"] = best\n",
    "    result_dict[\"solution\"] = [round(val,2) for val in fit_in_boundry(decode(best))]\n",
    "    result_dict[\"fitness\"] = round(fitness(fit_in_boundry(decode(best))),3)\n",
    "    result_dict[\"f\"] = round(parameters['f'](result_dict[\"solution\"]),3)\n",
    "    return result_dict"
   ]
  },
  {
   "cell_type": "markdown",
   "metadata": {},
   "source": [
    "**real_ga**\n",
    "\n",
    "The `real_ga` uses genetic algorithm that uses evolution as an inspiration for searching for better solution. It uses a mutation operator that applies gaussian noise using `random.gauss()`. We use Genetic Algorithm to find the solution to a shifted Sphere Function in 10 dimensions, where the range of $x_i$ in each dimension is (-5.12 to 5.12). It is a minimization problem. The shifte spere function is\n",
    "$$f(x) = \\sum (x_i - 0.5)^2$$\n",
    "\n",
    "Parameters:\n",
    "* **parameters** is dictionary of parameters. It contains below parameters.\n",
    "   * **f** is the sphere function shifted by 0.5\n",
    "   * **dimentions** is the number of variables each individual has to have.\n",
    "   * **populatin_count** is the number of toal population.\n",
    "   * **lim_generation** is the limit for the total number of generations we want the algorithm to run\n",
    "   * **crossover_rate** is the rate to determine if crossover needs to be applied.\n",
    "   * **mutation_rate** is the rate to determine if mutation ndds to be applied.\n",
    "   * **f_limit** is the limit we set for algorithm to stop if `lim_generation` has not been reached                         \n",
    "* **debug** is boolean used to indicate if we want to print the debug steps.\n",
    "\n",
    "retuns:<br>\n",
    "It returns a dictionary containing the solution and more information regarding that. It returns \"solution\", \"fitness\" and \"f\" which is the evalauted value of solution in shifted sphere function."
   ]
  },
  {
   "cell_type": "code",
   "execution_count": 14,
   "metadata": {
    "tags": []
   },
   "outputs": [],
   "source": [
    "def real_ga(parameters, debug=False):\n",
    "    result_dict = {}\n",
    "    \n",
    "    current_generation = [gen_real_genome(parameters[\"dimentions\"]) for _ in range(parameters[\"population_count\"])]\n",
    "    best = current_generation[0]\n",
    "    \n",
    "    for gen_num in range(parameters[\"lim_generations\"]):\n",
    "        next_generation = []\n",
    "        \n",
    "        if debug == True and gen_num%20 == 0:\n",
    "            print(f\"Generation # {gen_num}\")\n",
    "            result_dict[\"solution\"] = [round(val,2) for val in best]\n",
    "            result_dict[\"fitness\"] = round(fitness(best),3)\n",
    "            result_dict[\"f\"] = round(parameters['f'](result_dict[\"solution\"]),3)\n",
    "            pprint(result_dict)\n",
    "            print(\"\")\n",
    "            \n",
    "        if fitness(best) >= parameters[\"f_limit\"]:\n",
    "            break\n",
    "                   \n",
    "        for i in range(int(parameters[\"population_count\"]/2)):\n",
    "            parent_a, parent_b = selection(current_generation)\n",
    "            child_a, child_b = crossover(parent_a, parent_b, parameters[\"crossover_rate\"])\n",
    "            child_a = mutation_real(child_a, parameters[\"mutation_rate\"])\n",
    "            child_b = mutation_real(child_b, parameters[\"mutation_rate\"])\n",
    "            next_generation += [child_a]\n",
    "            next_generation += [child_b]\n",
    "        current_generation = deepcopy(next_generation)\n",
    "        \n",
    "        # sort current_generation by fitness score\n",
    "        current_generation.sort(reverse= True, key= lambda individual: fitness(individual))\n",
    "        best = current_generation[0] if fitness(best) < fitness(current_generation[0]) else best\n",
    "            \n",
    "    \n",
    "    result_dict[\"solution\"] = [round(val, 2) for val in best]\n",
    "    result_dict[\"fitness\"] = round(fitness(best),3)\n",
    "    result_dict[\"f\"] = round(parameters['f'](result_dict[\"solution\"]), 3)\n",
    "    return result_dict"
   ]
  },
  {
   "cell_type": "markdown",
   "metadata": {
    "tags": []
   },
   "source": [
    "### Canonical GA"
   ]
  },
  {
   "cell_type": "code",
   "execution_count": 15,
   "metadata": {
    "tags": []
   },
   "outputs": [
    {
     "name": "stdout",
     "output_type": "stream",
     "text": [
      "Generation # 0\n",
      "{'f': 49.707,\n",
      " 'fitness': 0.02,\n",
      " 'genotype': '1101010010010000111010000011001011110001100111001011011011101010001001001011111010111000010111001100',\n",
      " 'solution': [3.38, -2.42, 0.12, 2.41, 1.14, 3.66, 1.37, -3.22, 2.25, -0.52]}\n",
      "\n",
      "Generation # 10\n",
      "{'f': 0.684,\n",
      " 'fitness': 0.594,\n",
      " 'genotype': '1000011110100001111010000100101000100001100100110110001101111000111111100100000010001100000111110110',\n",
      " 'solution': [0.3, 0.3, 0.18, 0.33, 0.77, 0.55, 0.63, 0.64, 0.48, -0.1]}\n",
      "\n",
      "Generation # 20\n",
      "{'f': 0.156,\n",
      " 'fitness': 0.865,\n",
      " 'genotype': '1000111110100010111010001000101000100111100100011110001101111000111111100100000010001001001000110010',\n",
      " 'solution': [0.62, 0.46, 0.34, 0.39, 0.71, 0.55, 0.63, 0.64, 0.36, 0.5]}\n",
      "\n",
      "Generation # 30\n",
      "{'f': 0.062,\n",
      " 'fitness': 0.942,\n",
      " 'genotype': '1000111110100010111010001100101000110011100100010110001101111000111010100011001010001100001000110000',\n",
      " 'solution': [0.62, 0.46, 0.5, 0.51, 0.69, 0.55, 0.58, 0.5, 0.48, 0.48]}\n",
      "\n",
      "Generation # 40\n",
      "{'f': 0.027,\n",
      " 'fitness': 0.973,\n",
      " 'genotype': '1000101110100010111010001100101000110011100100000010001101111000101110100011001010001100001000110010',\n",
      " 'solution': [0.46, 0.46, 0.5, 0.51, 0.64, 0.55, 0.46, 0.5, 0.48, 0.5]}\n",
      "\n",
      "Generation # 50\n",
      "{'f': 0.025,\n",
      " 'fitness': 0.976,\n",
      " 'genotype': '1000101111100010111010001100101000110011100100000010001101011000101110100011001010001100001000110010',\n",
      " 'solution': [0.47, 0.46, 0.5, 0.51, 0.64, 0.53, 0.46, 0.5, 0.48, 0.5]}\n",
      "\n",
      "Generation # 60\n",
      "{'f': 0.024,\n",
      " 'fitness': 0.977,\n",
      " 'genotype': '1000101111100010111110001100101000110010100100000010001101011000101111100011001010001101001000110010',\n",
      " 'solution': [0.47, 0.47, 0.5, 0.5, 0.64, 0.53, 0.47, 0.5, 0.52, 0.5]}\n",
      "\n",
      "Generation # 70\n",
      "{'f': 0.024,\n",
      " 'fitness': 0.977,\n",
      " 'genotype': '1000101111100010111110001100101000110010100100000010001101011000101111100011001010001101001000110010',\n",
      " 'solution': [0.47, 0.47, 0.5, 0.5, 0.64, 0.53, 0.47, 0.5, 0.52, 0.5]}\n",
      "\n",
      "Generation # 80\n",
      "{'f': 0.022,\n",
      " 'fitness': 0.978,\n",
      " 'genotype': '1000101111100010111110001100101000110010100100000010001100011000101111100011001010001100101000110010',\n",
      " 'solution': [0.47, 0.47, 0.5, 0.5, 0.64, 0.49, 0.47, 0.5, 0.5, 0.5]}\n",
      "\n",
      "Generation # 90\n",
      "{'f': 0.022,\n",
      " 'fitness': 0.978,\n",
      " 'genotype': '1000101111100010111110001100101000110010100100000010001100011000101111100011001010001100101000110010',\n",
      " 'solution': [0.47, 0.47, 0.5, 0.5, 0.64, 0.49, 0.47, 0.5, 0.5, 0.5]}\n",
      "\n",
      "Generation # 100\n",
      "{'f': 0.022,\n",
      " 'fitness': 0.978,\n",
      " 'genotype': '1000101111100010111110001100101000110010100100000010001100011000101111100011001010001100101000110010',\n",
      " 'solution': [0.47, 0.47, 0.5, 0.5, 0.64, 0.49, 0.47, 0.5, 0.5, 0.5]}\n",
      "\n",
      "Generation # 110\n",
      "{'f': 0.022,\n",
      " 'fitness': 0.978,\n",
      " 'genotype': '1000101111100010111110001100101000110010100100000010001100011000101111100011001010001100101000110010',\n",
      " 'solution': [0.47, 0.47, 0.5, 0.5, 0.64, 0.49, 0.47, 0.5, 0.5, 0.5]}\n",
      "\n",
      "Generation # 120\n",
      "{'f': 0.022,\n",
      " 'fitness': 0.978,\n",
      " 'genotype': '1000101111100010111110001100101000110010100100000010001100011000101111100011001010001100101000110010',\n",
      " 'solution': [0.47, 0.47, 0.5, 0.5, 0.64, 0.49, 0.47, 0.5, 0.5, 0.5]}\n",
      "\n",
      "Generation # 130\n",
      "{'f': 0.022,\n",
      " 'fitness': 0.978,\n",
      " 'genotype': '1000101111100010111110001100101000110010100100000010001100011000101111100011001010001100101000110010',\n",
      " 'solution': [0.47, 0.47, 0.5, 0.5, 0.64, 0.49, 0.47, 0.5, 0.5, 0.5]}\n",
      "\n",
      "Generation # 140\n",
      "{'f': 0.022,\n",
      " 'fitness': 0.978,\n",
      " 'genotype': '1000101111100010111110001100101000110010100100000010001100011000101111100011001010001100101000110010',\n",
      " 'solution': [0.47, 0.47, 0.5, 0.5, 0.64, 0.49, 0.47, 0.5, 0.5, 0.5]}\n",
      "\n",
      "Generation # 150\n",
      "{'f': 0.022,\n",
      " 'fitness': 0.978,\n",
      " 'genotype': '1000101111100010111110001100101000110010100100000010001100011000101111100011001010001100101000110010',\n",
      " 'solution': [0.47, 0.47, 0.5, 0.5, 0.64, 0.49, 0.47, 0.5, 0.5, 0.5]}\n",
      "\n",
      "Generation # 160\n",
      "{'f': 0.022,\n",
      " 'fitness': 0.978,\n",
      " 'genotype': '1000101111100010111110001100101000110010100100000010001100011000101111100011001010001100101000110010',\n",
      " 'solution': [0.47, 0.47, 0.5, 0.5, 0.64, 0.49, 0.47, 0.5, 0.5, 0.5]}\n",
      "\n",
      "Generation # 170\n",
      "{'f': 0.022,\n",
      " 'fitness': 0.978,\n",
      " 'genotype': '1000101111100010111110001100101000110010100100000010001100011000101111100011001010001100101000110010',\n",
      " 'solution': [0.47, 0.47, 0.5, 0.5, 0.64, 0.49, 0.47, 0.5, 0.5, 0.5]}\n",
      "\n",
      "Generation # 180\n",
      "{'f': 0.022,\n",
      " 'fitness': 0.978,\n",
      " 'genotype': '1000101111100010111110001100101000110010100100000010001100011000101111100011001010001100101000110010',\n",
      " 'solution': [0.47, 0.47, 0.5, 0.5, 0.64, 0.49, 0.47, 0.5, 0.5, 0.5]}\n",
      "\n",
      "Generation # 190\n",
      "{'f': 0.022,\n",
      " 'fitness': 0.978,\n",
      " 'genotype': '1000101111100010111110001100101000110010100100000010001100011000101111100011001010001100101000110010',\n",
      " 'solution': [0.47, 0.47, 0.5, 0.5, 0.64, 0.49, 0.47, 0.5, 0.5, 0.5]}\n",
      "\n",
      "{'f': 0.022,\n",
      " 'fitness': 0.978,\n",
      " 'genotype': '1000101111100010111110001100101000110010100100000010001100011000101111100011001010001100101000110010',\n",
      " 'solution': [0.47, 0.47, 0.5, 0.5, 0.64, 0.49, 0.47, 0.5, 0.5, 0.5]}\n"
     ]
    }
   ],
   "source": [
    "parameters1 = {\"f\":lambda xs: sphere( 0.5, xs),\n",
    "               \"dimentions\":10,\n",
    "               \"bits_per_var\": 10,\n",
    "               \"population_count\":700,\n",
    "               \"lim_generations\":200,\n",
    "               \"crossover_rate\":0.90,\n",
    "               \"mutation_rate\": 0.1,\n",
    "               \"f_limit\": 0.997\n",
    "}\n",
    "result1 = binary_ga(parameters1, debug=True)\n",
    "pprint(result1)"
   ]
  },
  {
   "cell_type": "markdown",
   "metadata": {
    "tags": []
   },
   "source": [
    "### Real Valued GA"
   ]
  },
  {
   "cell_type": "code",
   "execution_count": 16,
   "metadata": {
    "scrolled": true,
    "tags": []
   },
   "outputs": [
    {
     "name": "stdout",
     "output_type": "stream",
     "text": [
      "{'f': 0.004,\n",
      " 'fitness': 0.996,\n",
      " 'solution': [0.56, 0.5, 0.5, 0.5, 0.5, 0.5, 0.5, 0.5, 0.5, 0.5]}\n"
     ]
    }
   ],
   "source": [
    "parameters2 = {\"f\":lambda xs: sphere( 0.5, xs),\n",
    "               \"dimentions\":10,\n",
    "               \"population_count\":600,\n",
    "               \"lim_generations\":300,\n",
    "               \"crossover_rate\":0.90,\n",
    "               \"mutation_rate\": 0.1,\n",
    "               \"f_limit\": 0.997\n",
    "}\n",
    "result2 = real_ga(parameters2)\n",
    "pprint(result2)"
   ]
  },
  {
   "cell_type": "markdown",
   "metadata": {},
   "source": [
    "## Before You Submit...\n",
    "\n",
    "1. Did you provide output exactly as requested?\n",
    "2. Did you re-execute the entire notebook? (\"Restart Kernel and Rull All Cells...\")\n",
    "3. If you did not complete the assignment or had difficulty please explain what gave you the most difficulty in the Markdown cell below.\n",
    "4. Did you change the name of the file to `jhed_id.ipynb`?\n",
    "\n",
    "Do not submit any other files."
   ]
  },
  {
   "cell_type": "markdown",
   "metadata": {},
   "source": []
  },
  {
   "cell_type": "code",
   "execution_count": null,
   "metadata": {},
   "outputs": [],
   "source": []
  }
 ],
 "metadata": {
  "kernelspec": {
   "display_name": "Python (en605645)",
   "language": "python",
   "name": "en605645"
  },
  "language_info": {
   "codemirror_mode": {
    "name": "ipython",
    "version": 3
   },
   "file_extension": ".py",
   "mimetype": "text/x-python",
   "name": "python",
   "nbconvert_exporter": "python",
   "pygments_lexer": "ipython3",
   "version": "3.7.10"
  },
  "toc": {
   "colors": {
    "hover_highlight": "#DAA520",
    "navigate_num": "#000000",
    "navigate_text": "#333333",
    "running_highlight": "#FF0000",
    "selected_highlight": "#FFD700",
    "sidebar_border": "#EEEEEE",
    "wrapper_background": "#FFFFFF"
   },
   "moveMenuLeft": true,
   "nav_menu": {
    "height": "120px",
    "width": "252px"
   },
   "navigate_menu": true,
   "number_sections": true,
   "sideBar": true,
   "threshold": 4,
   "toc_cell": false,
   "toc_section_display": "block",
   "toc_window_display": false,
   "widenNotebook": false
  }
 },
 "nbformat": 4,
 "nbformat_minor": 4
}
