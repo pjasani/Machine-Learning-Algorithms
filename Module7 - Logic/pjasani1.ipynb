{
 "cells": [
  {
   "cell_type": "markdown",
   "metadata": {},
   "source": [
    "# Module 7 - Programming Assignment\n",
    "\n",
    "## Directions\n",
    "\n",
    "1. Change the name of this file to be your JHED id as in `jsmith299.ipynb`. Because sure you use your JHED ID (it's made out of your name and not your student id which is just letters and numbers).\n",
    "2. Make sure the notebook you submit is cleanly and fully executed. I do not grade unexecuted notebooks.\n",
    "3. Submit your notebook back in Blackboard where you downloaded this file.\n",
    "\n",
    "*Provide the output **exactly** as requested*"
   ]
  },
  {
   "cell_type": "markdown",
   "metadata": {},
   "source": [
    "# Unification\n",
    "\n",
    "This is actually Part I of a two part assignment. In a later module, you'll implement a Forward Planner. In order to do that, however, you need to have a unifier. It is important to note that you *only* need to implement a unifier. Although the module talked about resolution, you do not need to implement anything like \"standardizing apart\". From the unifier's point of view, that should already have been done.\n",
    "\n",
    "Unification is simply the *syntactic* balancing of expressions. There are only 3 kinds of expressions: constants, lists and (logic) variables. Constants and lists are only equal to each other if they're exactly the same thing or can be made to be the same thing by *binding* a value to a variable.\n",
    "\n",
    "It really is that simple...expressions must be literally the same (identical) except if one or the other (or both) has a variable in that \"spot\".\n",
    "\n",
    "## S-Expressions\n",
    "\n",
    "With that out of the way, we need a language with which to express our constants, variables and predicates and that language will be based on s-expressions.\n",
    "\n",
    "**constants** - There are two types of constants, values and predicates. Values should start with an uppercase letter. Fred is a constant value, so is Barney and Food. Predicates are named using lowercase letters. loves is a predicate and so is hates. This is only a convention. Secret: your code does not need to treat these two types of constants differently.\n",
    "\n",
    "**variables** - these are named using lowercase letters but always start with a question mark. ?x is a variable and so is ?yum. This is not a convention.\n",
    "\n",
    "**expressions (lists)** - these use the S-expression syntax a la LISP. (loves Fred Wilma) is an expression as is (friend-of Barney Fred) and (loves ?x ?y).\n",
    "\n",
    "## Parsing\n",
    "\n",
    "These functions are already included in the starter .py file."
   ]
  },
  {
   "cell_type": "code",
   "execution_count": 1,
   "metadata": {},
   "outputs": [],
   "source": [
    "import tokenize\n",
    "from io import StringIO"
   ]
  },
  {
   "cell_type": "markdown",
   "metadata": {},
   "source": [
    "This uses the above libraries to build a Lisp structure based on atoms. It is adapted from [simple iterator parser](http://effbot.org/zone/simple-iterator-parser.htm). The first function is the `atom` function."
   ]
  },
  {
   "cell_type": "code",
   "execution_count": 2,
   "metadata": {},
   "outputs": [],
   "source": [
    "def atom( next, token):\n",
    "    if token[ 1] == '(':\n",
    "        out = []\n",
    "        token = next()\n",
    "        while token[ 1] != ')':\n",
    "            out.append( atom( next, token))\n",
    "            token = next()\n",
    "            if token[ 1] == ' ':\n",
    "                token = next()\n",
    "        return out\n",
    "    elif token[ 1] == '?':\n",
    "        token = next()\n",
    "        return \"?\" + token[ 1]\n",
    "    else:\n",
    "        return token[ 1]"
   ]
  },
  {
   "cell_type": "markdown",
   "metadata": {},
   "source": [
    "The next function is the actual `parse` function:"
   ]
  },
  {
   "cell_type": "code",
   "execution_count": 3,
   "metadata": {},
   "outputs": [],
   "source": [
    "def parse(exp):\n",
    "    src = StringIO(exp).readline\n",
    "    tokens = tokenize.generate_tokens(src)\n",
    "    return atom(tokens.__next__, tokens.__next__())"
   ]
  },
  {
   "cell_type": "markdown",
   "metadata": {},
   "source": [
    "**Note** there was a change between 2.7 and 3.0 that \"hid\" the next() function in the tokenizer."
   ]
  },
  {
   "cell_type": "markdown",
   "metadata": {},
   "source": [
    "From a Python perspective, we want to turn something like \"(loves Fred ?x)\" to [\"loves\" \"Fred\" \"?x\"] and then work with the second representation as a list of strings. The strings then have the syntactic meaning we gave them previously."
   ]
  },
  {
   "cell_type": "code",
   "execution_count": 4,
   "metadata": {},
   "outputs": [
    {
     "data": {
      "text/plain": [
       "'Fred'"
      ]
     },
     "execution_count": 4,
     "metadata": {},
     "output_type": "execute_result"
    }
   ],
   "source": [
    "parse(\"Fred\")"
   ]
  },
  {
   "cell_type": "code",
   "execution_count": 5,
   "metadata": {},
   "outputs": [
    {
     "data": {
      "text/plain": [
       "'?x'"
      ]
     },
     "execution_count": 5,
     "metadata": {},
     "output_type": "execute_result"
    }
   ],
   "source": [
    "parse( \"?x\")"
   ]
  },
  {
   "cell_type": "code",
   "execution_count": 6,
   "metadata": {},
   "outputs": [
    {
     "data": {
      "text/plain": [
       "['loves', 'Fred', '?x']"
      ]
     },
     "execution_count": 6,
     "metadata": {},
     "output_type": "execute_result"
    }
   ],
   "source": [
    "parse( \"(loves Fred ?x)\")"
   ]
  },
  {
   "cell_type": "code",
   "execution_count": 7,
   "metadata": {},
   "outputs": [
    {
     "data": {
      "text/plain": [
       "['father_of', 'Barney', ['son_of', 'Barney']]"
      ]
     },
     "execution_count": 7,
     "metadata": {},
     "output_type": "execute_result"
    }
   ],
   "source": [
    "parse( \"(father_of Barney (son_of Barney))\")"
   ]
  },
  {
   "cell_type": "markdown",
   "metadata": {},
   "source": [
    "## Unifier\n",
    "\n",
    "Now that that's out of the way, here is the imperative pseudocode for unification. This is a classic recursive program with a number of base cases. Students for some reason don't like it, try the algorithm in the book, can't get it to work and then come back to this pseudocode.\n",
    "\n",
    "Work through the algorithm by hand with your Self-Check examples if you need to but I'd suggest sticking with this implementation. It does work.\n",
    "\n",
    "Here is imperative pseudocode for the algorithm:\n",
    "\n",
    "```\n",
    "def unification( exp1, exp2):\n",
    "    # base cases\n",
    "    if exp1 and exp2 are constants or the empty list:\n",
    "        if exp1 = exp2 then return {}\n",
    "        else return FAIL\n",
    "    if exp1 is a variable:\n",
    "        if exp1 occurs in exp2 then return FAIL\n",
    "        else return {exp1/exp2}\n",
    "    if exp2 is a variable:\n",
    "        if exp2 occurs in exp1 then return FAIL\n",
    "        else return {exp2/exp1}\n",
    "\n",
    "    # inductive step\n",
    "    first1 = first element of exp1\n",
    "    first2 = first element of exp2\n",
    "    result1 = unification( first1, first2)\n",
    "    if result1 = FAIL then return FAIL\n",
    "    apply result1 to rest of exp1 and exp2\n",
    "    result2 = unification( rest of exp1, rest of exp2)\n",
    "    if result2 = FAIL then return FAIL\n",
    "    return composition of result1 and result2\n",
    "```\n",
    "\n",
    "`unification` can return...\n",
    "\n",
    "1. `None` (if unification completely fails)\n",
    "2. `{}` (the empty substitution list) or \n",
    "3. a substitution list that has variables as keys and substituted values as values, like {\"?x\": \"Fred\"}. \n",
    "\n",
    "Note that the middle case sometimes confuses people...\"Sam\" unifying with \"Sam\" is not a failure so you return {} because there were no variables so there were no substitutions. You do not need to further resolve variables. If a variable resolves to an expression that contains a variable, you don't need to do the substition.\n",
    "\n",
    "If you think of a typical database table, there is a column, row and value. This Tuple is a *relation* and in some uses of unification, the \"thing\" in the first spot...\"love\" above is called the relation. If you have a table of users with user_id, username and the value then the relation is:\n",
    "\n",
    "`(login ?user_id ?username)`\n",
    "\n",
    "*most* of the time, the relation name is specified. But it's not impossible for the relation name to be represented by a variable:\n",
    "\n",
    "`(?relation 12345 \"smooth_operator\")`\n",
    "\n",
    "Your code should handle this case (the pseudocode does handle this case so all  you have to do is not futz with it).\n",
    "\n",
    "Our type system is very simple. We can get by with just a few boolean functions. The first tests to see if an expression is a variable."
   ]
  },
  {
   "cell_type": "code",
   "execution_count": 8,
   "metadata": {},
   "outputs": [],
   "source": [
    "def is_variable( exp):\n",
    "    return isinstance( exp, str) and exp[ 0] == \"?\""
   ]
  },
  {
   "cell_type": "code",
   "execution_count": 9,
   "metadata": {},
   "outputs": [
    {
     "data": {
      "text/plain": [
       "False"
      ]
     },
     "execution_count": 9,
     "metadata": {},
     "output_type": "execute_result"
    }
   ],
   "source": [
    "is_variable( \"Fred\")"
   ]
  },
  {
   "cell_type": "code",
   "execution_count": 10,
   "metadata": {},
   "outputs": [
    {
     "data": {
      "text/plain": [
       "True"
      ]
     },
     "execution_count": 10,
     "metadata": {},
     "output_type": "execute_result"
    }
   ],
   "source": [
    "is_variable( \"?fred\")"
   ]
  },
  {
   "cell_type": "markdown",
   "metadata": {},
   "source": [
    "The second tests to see if an expression is a constant:"
   ]
  },
  {
   "cell_type": "code",
   "execution_count": 11,
   "metadata": {},
   "outputs": [],
   "source": [
    "def is_constant( exp):\n",
    "    return isinstance( exp, str) and not is_variable( exp)"
   ]
  },
  {
   "cell_type": "code",
   "execution_count": 12,
   "metadata": {},
   "outputs": [
    {
     "data": {
      "text/plain": [
       "True"
      ]
     },
     "execution_count": 12,
     "metadata": {},
     "output_type": "execute_result"
    }
   ],
   "source": [
    "is_constant( \"Fred\")"
   ]
  },
  {
   "cell_type": "code",
   "execution_count": 13,
   "metadata": {},
   "outputs": [
    {
     "data": {
      "text/plain": [
       "False"
      ]
     },
     "execution_count": 13,
     "metadata": {},
     "output_type": "execute_result"
    }
   ],
   "source": [
    "is_constant( \"?fred\")"
   ]
  },
  {
   "cell_type": "code",
   "execution_count": 14,
   "metadata": {},
   "outputs": [
    {
     "data": {
      "text/plain": [
       "False"
      ]
     },
     "execution_count": 14,
     "metadata": {},
     "output_type": "execute_result"
    }
   ],
   "source": [
    "is_constant( [\"loves\", \"Fred\", \"?wife\"])"
   ]
  },
  {
   "cell_type": "markdown",
   "metadata": {},
   "source": [
    "It might also be useful to know that:\n",
    "\n",
    "<code>\n",
    "type( \"a\")\n",
    "&lt;type 'str'>\n",
    "type( \"a\") == str\n",
    "True\n",
    "type( \"a\") == list\n",
    "False\n",
    "type( [\"a\"]) == list\n",
    "True\n",
    "</code>\n",
    "\n",
    "\n",
    "You need to write the `unification` function described above. It should work with two expressions of the type returned by `parse`. See `unify` for how it will be called. It should return the result of unification for the two expressions as detailed above and in the book. It does not have to make all the necessary substitions (for example, if ?y is bound to ?x and 1 is bound to ?y, ?x doesn't have to be replaced everywhere with 1. It's enough to return {\"?x\":\"?y\", \"?y\":1}. You'll need to fix later.)\n",
    "\n",
    "-----"
   ]
  },
  {
   "cell_type": "markdown",
   "metadata": {},
   "source": [
    "**apply_result**<br>\n",
    "The `apply_result` is a herlper function for `unification`. It is a recursive function that makes the required substitutions in the expression.\n",
    "\n",
    "Parameters:\n",
    "* **result** is the dictionary that contains keys that need to be substituted in the expression.\n",
    "* **expr** is the list of strings we want to make substitutions to.\n",
    "\n",
    "retuns:<br>\n",
    "It does not return anything. It only updates the substitution in the `expr`"
   ]
  },
  {
   "cell_type": "code",
   "execution_count": 15,
   "metadata": {},
   "outputs": [],
   "source": [
    "def apply_result(result, expr):\n",
    "    for indx, value in enumerate(expr):\n",
    "        if type(value) == list:\n",
    "            apply_result(result, value)\n",
    "        else:\n",
    "            if value in result.keys():\n",
    "                expr[indx] = result[value]"
   ]
  },
  {
   "cell_type": "markdown",
   "metadata": {},
   "source": [
    "**occurs_check**<br>\n",
    "The `occurs_check` is a herlper function for `unification`. It check if expr1 can be found in expr2.\n",
    "\n",
    "Parameters:\n",
    "* **expr1** is the expression we want to look for in expression2.\n",
    "* **expr2** is the list we want to search expression 1 in.\n",
    "\n",
    "retuns:<br>\n",
    "It returns `True` if the expr1 is found in expr2 otherwise it returns `False`"
   ]
  },
  {
   "cell_type": "code",
   "execution_count": 16,
   "metadata": {},
   "outputs": [],
   "source": [
    "def occurs_check(expr1, expr2):\n",
    "    return True if expr1 in expr2 else False"
   ]
  },
  {
   "cell_type": "markdown",
   "metadata": {},
   "source": [
    "**unification**<br>\n",
    "The `unification` functions attempts to unify the two expression. Unification is simply the syntactic balancing of expressions. There are only 3 kinds of expressions: constants, lists and (logic) variables. Constants and lists are only equal to each other if they're exactly the same thing or can be made to be the same thing by binding a value to a variable.\n",
    "\n",
    "Parameters:\n",
    "* **list_expression1** is one of the two expressions we want to unify.\n",
    "* **list_expression2** is one of the two expressions we want to unify.\n",
    "\n",
    "retuns:<br>\n",
    "It returns a `dictionary` of variables and substitutions if it is possible to unify the two expressions otherwise `fail` is returned."
   ]
  },
  {
   "cell_type": "code",
   "execution_count": 17,
   "metadata": {},
   "outputs": [],
   "source": [
    "def unification( list_expression1, list_expression2):\n",
    "    if is_constant(list_expression1) == is_constant(list_expression2) == True or list_expression1 ==list_expression2 == []:  \n",
    "        if list_expression1 == list_expression2: return {}\n",
    "        else: return \"fail\"\n",
    "    if is_variable(list_expression1):\n",
    "        if occurs_check(list_expression1, list_expression2): return \"fail\"\n",
    "        else: return {list_expression1: list_expression2}\n",
    "    if is_variable(list_expression2):\n",
    "        if occurs_check(list_expression2, list_expression1): return \"fail\"\n",
    "        else: return {list_expression2: list_expression1}\n",
    "    \n",
    "    #inductive step\n",
    "    first1 = list_expression1[0]\n",
    "    first2 = list_expression2[0]\n",
    "    result1 = unification(first1, first2)\n",
    "    if result1 == \"fail\": return \"fail\"\n",
    "    apply_result(result1, list_expression1), apply_result(result1, list_expression2)  #apply result 1 to both expressions\n",
    "    result2 = unification(list_expression1[1:], list_expression2[1:])\n",
    "    if result2 == \"fail\": return \"fail\"\n",
    "    return {**result1, **result2}"
   ]
  },
  {
   "cell_type": "markdown",
   "metadata": {},
   "source": [
    "**unify**<br>\n",
    "The `unify` function makes the call to the `unification` function and parses both expressions.\n",
    "\n",
    "Parameters:\n",
    "* **list_expression1** is one of the two expressions we want to apply unification on.\n",
    "* **list_expression2** is one of the two expressions we want to apply unification on.\n",
    "\n",
    "retuns:<br>\n",
    "It returns a `dictionary` of variables and substitutions if it is possible to unify the two expressions otherwise `fail` is returned."
   ]
  },
  {
   "cell_type": "code",
   "execution_count": 18,
   "metadata": {},
   "outputs": [],
   "source": [
    "def unify( s_expression1, s_expression2):\n",
    "    return unification( parse( s_expression1), parse( s_expression2))"
   ]
  },
  {
   "cell_type": "markdown",
   "metadata": {},
   "source": [
    "## Test Cases\n",
    "\n",
    "Use the expressions from the Self Check as your test cases plus generate **five (5)** additional test cases of your own making.\n",
    "\n",
    "**Note** If you see the error,\n",
    "\n",
    "```\n",
    "tokenize.TokenError: ('EOF in multi-line statement', (2, 0))\n",
    "```\n",
    "You most likely have unbalanced parentheses in your s-expression."
   ]
  },
  {
   "cell_type": "code",
   "execution_count": 19,
   "metadata": {},
   "outputs": [
    {
     "name": "stdout",
     "output_type": "stream",
     "text": [
      "------------------------------------------------------------------------------------------\n",
      "Expr1                     | Expr2                     | Result                    \n",
      "------------------------------------------------------------------------------------------\n",
      "Fred                      | Barney                    | fail\n",
      "Pebbles                   | Pebbles                   | {}\n",
      "(quarry_worker Fred)      | (quarry_worker ?x)        | {'?x': 'Fred'}\n",
      "(son Barney ?x)           | (son ?y Bam_Bam)          | {'?y': 'Barney', '?x': 'Bam_Bam'}\n",
      "(married ?x ?y)           | (married Barney Wilma)    | {'?x': 'Barney', '?y': 'Wilma'}\n",
      "(son Barney ?x)           | (son ?y (son Barney))     | {'?y': 'Barney', '?x': ['son', 'Barney']}\n",
      "(son Barney ?x)           | (son ?y (son ?y))         | {'?y': 'Barney', '?x': ['son', 'Barney']}\n",
      "(son Barney Bam_Bam)      | (son ?y (son Barney))     | fail\n",
      "(loves Fred Fred)         | (loves ?x ?x)             | {'?x': 'Fred'}\n",
      "(future George Fred)      | (future ?y ?y)            | fail\n",
      "(Fred (son Pebbles))      | (?y (son ?z))             | {'?y': 'Fred', '?z': 'Pebbles'}\n",
      "(Fred (Wilma (loves)))    | (Fred (?y loves))         | fail\n",
      "(Fred Barney (George ?x)) | (?x ?y ?z)                | {'?x': 'Fred', '?y': 'Barney', '?z': ['George', 'Fred']}\n",
      "(?x Barney)               | (?x Barney)               | fail\n",
      "(?y Fred ?y (Bam_Bam))    | (Barney ?x ?y (?z))       | {'?y': 'Barney', '?x': 'Fred', '?z': 'Bam_Bam'}\n"
     ]
    }
   ],
   "source": [
    "test_cases = [[\"Fred\" ,\"Barney\", \"fail\"],    \n",
    "              [\"Pebbles\" ,\"Pebbles\", {}],\n",
    "              [\"(quarry_worker Fred)\" ,\"(quarry_worker ?x)\", {'?x': 'Fred'}],\n",
    "              [\"(son Barney ?x)\" ,\"(son ?y Bam_Bam)\", {'?y': 'Barney', '?x': 'Bam_Bam'}],\n",
    "              [\"(married ?x ?y)\" ,\"(married Barney Wilma)\",  {'?x': 'Barney', '?y': 'Wilma'}],\n",
    "              [\"(son Barney ?x)\" ,\"(son ?y (son Barney))\", {'?y': 'Barney', '?x': ['son', 'Barney']}],\n",
    "              [\"(son Barney ?x)\" ,\"(son ?y (son ?y))\", {'?y': 'Barney', '?x': ['son', 'Barney']}],\n",
    "              [\"(son Barney Bam_Bam)\" ,\"(son ?y (son Barney))\", \"fail\"],\n",
    "              [\"(loves Fred Fred) \" ,\"(loves ?x ?x)\", {'?x': 'Fred'}],\n",
    "              [\"(future George Fred)\" ,\"(future ?y ?y)\", \"fail\"],  \n",
    "            # My test casses\n",
    "              [\"(Fred (son Pebbles))\" ,\"(?y (son ?z))\", {'?y': 'Fred', '?z': 'Pebbles'}],\n",
    "              [\"(Fred (Wilma (loves)))\" ,\"(Fred (?y loves))\", \"fail\"],\n",
    "              [\"(Fred Barney (George ?x))\" ,\"(?x ?y ?z)\", {'?x': 'Fred', '?y': 'Barney', '?z': ['George', 'Fred']}],\n",
    "              [\"(?x Barney)\" ,\"(?x Barney)\", \"fail\"],\n",
    "              [\"(?y Fred ?y (Bam_Bam))\", \"(Barney ?x ?y (?z))\", {'?y': 'Barney', '?x': 'Fred', '?z': 'Bam_Bam'}]]\n",
    "\n",
    "col1, col2, col3 = \"Expr1\", \"Expr2\", \"Result\"\n",
    "print(f\"-\"*90 +\"\\n\"+f\"{col1:{25}} | {col2:{25}} | {col3:{25}}\",\"\\n\" + \"-\"*90)\n",
    "for case in test_cases:\n",
    "    exp1, exp2, expected = case\n",
    "    actual = unify(exp1, exp2)\n",
    "    print(f\"{exp1:<25} | {exp2:25} | {actual}\")\n",
    "    assert(actual == expected)"
   ]
  },
  {
   "cell_type": "markdown",
   "metadata": {},
   "source": [
    "## Before You Submit...\n",
    "\n",
    "1. Did you provide output exactly as requested?\n",
    "2. Did you re-execute the entire notebook? (\"Restart Kernel and Rull All Cells...\")\n",
    "3. If you did not complete the assignment or had difficulty please explain what gave you the most difficulty in the Markdown cell below.\n",
    "4. Did you change the name of the file to `jhed_id.ipynb`?\n",
    "\n",
    "Do not submit any other files."
   ]
  },
  {
   "cell_type": "markdown",
   "metadata": {},
   "source": []
  },
  {
   "cell_type": "code",
   "execution_count": null,
   "metadata": {},
   "outputs": [],
   "source": []
  }
 ],
 "metadata": {
  "kernelspec": {
   "display_name": "Python (en605645)",
   "language": "python",
   "name": "en605645"
  },
  "language_info": {
   "codemirror_mode": {
    "name": "ipython",
    "version": 3
   },
   "file_extension": ".py",
   "mimetype": "text/x-python",
   "name": "python",
   "nbconvert_exporter": "python",
   "pygments_lexer": "ipython3",
   "version": "3.7.10"
  },
  "toc": {
   "colors": {
    "hover_highlight": "#DAA520",
    "navigate_num": "#000000",
    "navigate_text": "#333333",
    "running_highlight": "#FF0000",
    "selected_highlight": "#FFD700",
    "sidebar_border": "#EEEEEE",
    "wrapper_background": "#FFFFFF"
   },
   "moveMenuLeft": true,
   "nav_menu": {
    "height": "120px",
    "width": "252px"
   },
   "navigate_menu": true,
   "number_sections": true,
   "sideBar": true,
   "threshold": 4,
   "toc_cell": false,
   "toc_section_display": "block",
   "toc_window_display": false,
   "widenNotebook": false
  }
 },
 "nbformat": 4,
 "nbformat_minor": 4
}
