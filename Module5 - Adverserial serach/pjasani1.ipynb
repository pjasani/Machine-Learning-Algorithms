{
 "cells": [
  {
   "cell_type": "markdown",
   "metadata": {},
   "source": [
    "# Module 5 - Programming Assignment\n",
    "\n",
    "## Directions\n",
    "\n",
    "1. Change the name of this file to be your JHED id as in `jsmith299.ipynb`. Because sure you use your JHED ID (it's made out of your name and not your student id which is just letters and numbers).\n",
    "2. Make sure the notebook you submit is cleanly and fully executed. I do not grade unexecuted notebooks.\n",
    "3. Submit your notebook back in Blackboard where you downloaded this file.\n",
    "\n",
    "*Provide the output **exactly** as requested*"
   ]
  },
  {
   "cell_type": "markdown",
   "metadata": {},
   "source": [
    "## Solving Normal Form Games\n",
    "\n",
    "Add whatever additional imports you require here. Stick with the standard libraries and those required by the class. The import gives you access to these functions: https://ipython.readthedocs.io/en/stable/api/generated/IPython.display.html (Copy this link) Which, among other things, will permit you to display HTML as the result of evaluated code (see HTML() or display_html())."
   ]
  },
  {
   "cell_type": "code",
   "execution_count": 1,
   "metadata": {},
   "outputs": [],
   "source": [
    "from IPython.core.display import *\n",
    "from typing import List, Tuple, Dict, Callable\n",
    "from itertools import combinations"
   ]
  },
  {
   "cell_type": "markdown",
   "metadata": {},
   "source": [
    "In the lecture we talked about the Prisoner's Dilemma game, shown here in Normal Form:\n",
    "\n",
    "Player 1 / Player 2  | Defect | Cooperate\n",
    "------------- | ------------- | -------------\n",
    "Defect  | -5, -5 | -1, -10\n",
    "Cooperate  | -10, -1 | -2, -2\n",
    "\n",
    "where the payoff to Player 1 is the left number and the payoff to Player 2 is the right number. We can represent each payoff cell as a Tuple: `(-5, -5)`, for example. We can represent each row as a List of Tuples: `[(-5, -5), (-1, -10)]` would be the first row and the entire table as a List of Lists:"
   ]
  },
  {
   "cell_type": "code",
   "execution_count": 2,
   "metadata": {},
   "outputs": [
    {
     "data": {
      "text/plain": [
       "[[(-5, -5), (-1, -10)], [(-10, -1), (-2, -2)]]"
      ]
     },
     "execution_count": 2,
     "metadata": {},
     "output_type": "execute_result"
    }
   ],
   "source": [
    "prisoners_dilemma = [\n",
    " [( -5, -5), (-1,-10)],\n",
    " [(-10, -1), (-2, -2)]]\n",
    "\n",
    "prisoners_dilemma"
   ]
  },
  {
   "cell_type": "markdown",
   "metadata": {},
   "source": [
    "in which case the strategies are represented by indices into the List of Lists. For example, `(Defect, Cooperate)` for the above game becomes `prisoners_dilemma[ 0][ 1]` and returns the payoff `(-1, -10)` because 0 is the first row of the table (\"Defect\" for Player 1) and 1 is the 2nd column of the row (\"Cooperate\" for Player 2).\n",
    "\n",
    "For this assignment, you are going write a function that uses Successive Elimination of Dominated Strategies (SEDS) to find the **pure strategy** Nash Equilibrium of a Normal Form Game. The function is called `solve_game`:\n",
    "\n",
    "```python\n",
    "def solve_game( game: List[List[Tuple]], weak=False) -> Tuple:\n",
    "    pass # returns strategy indices of Nash equilibrium or None.\n",
    "```\n",
    "\n",
    "and it takes two parameters: the game, in a format that we described earlier and an optional boolean flag that controls whether the algorithm considers only **strongly dominated strategies** (the default will be false) or whether it should consider **weakly dominated strategies** as well.\n",
    "\n",
    "It should work with game matrices of any size and it will return the **strategy indices** of the Nash Equilibrium. If there is no **pure strategy** equilibrium that can be found using SEDS, return `None`.\n",
    "\n",
    "\n",
    "<div style=\"background: mistyrose; color: firebrick; border: 2px solid darkred; padding: 5px; margin: 10px;\">\n",
    "Do not return the payoff. That's not useful. Return the strategy indices, any other output is incorrect.\n",
    "</div>\n",
    "\n",
    "As before, you must provide your implementation in the space below, one Markdown cell for documentation and one Code cell for implementation, one function and assertations per Codecell.\n",
    "\n",
    "\n",
    "---"
   ]
  },
  {
   "cell_type": "markdown",
   "metadata": {},
   "source": [
    "**player1**<br>\n",
    "The `player1` is a helper a function for `solve_game`. It attemps to find strongly/weekly dominated strategy and drop it.\n",
    "\n",
    "Parameters:\n",
    "* **game** is the game we want find and remove the dominated strategy from.\n",
    "* **ind_matrix** keeps track of which indices have been remove and which have not.\n",
    "* **weak** indicate whether we should consider weakly dominated strategy.\n",
    "\n",
    "retuns:<br>\n",
    "If the dominated strategy is found then it is dropped and `game` is returned."
   ]
  },
  {
   "cell_type": "code",
   "execution_count": 3,
   "metadata": {},
   "outputs": [],
   "source": [
    "def player1(game, indx_matrix, weak = False):\n",
    "    player_1_comb = list(combinations([*range(0,len(game), 1)],2))\n",
    "    \n",
    "    for row1,row2 in player_1_comb:\n",
    "        if weak == False:\n",
    "            check_row1 = all(game[row1][col][0] > game[row2][col][0] for col in range(len(game[0])))\n",
    "            check_row2 = all(game[row2][col][0] > game[row1][col][0] for col in range(len(game[0])))\n",
    "        else:\n",
    "            # are values are equal ?\n",
    "            check_equal_col = [game[row1][col][0] == game[row2][col][0] for col in range(len(game[0]))]\n",
    "            check_equal_col = True if check_equal_col.count(True) > 0 and check_equal_col.count(True) < len(check_equal_col) else False    \n",
    "\n",
    "            # make sure atleast one or more values are >\n",
    "            check_greater_col1 = all(game[row1][col][0] >= game[row2][col][0] for col in range(len(game[0])))\n",
    "            check_greater_col2 = all(game[row2][col][0] >= game[row1][col][0] for col in range(len(game[0])))\n",
    "            \n",
    "            check_row1 = check_greater_col1 & check_equal_col   # all valuea are >=\n",
    "            check_row2 = check_greater_col2 & check_equal_col   # all valuea are >=\n",
    "            \n",
    "        if check_row1 == True:   # drop row2 from game and indx_matrix\n",
    "            game.pop(row2), indx_matrix.pop(row2)\n",
    "            break\n",
    "        elif check_row2 == True: # drop row1 from game and indx_matrix\n",
    "            game.pop(row1), indx_matrix.pop(row1)\n",
    "            break\n",
    "    return game"
   ]
  },
  {
   "cell_type": "markdown",
   "metadata": {},
   "source": [
    "**player2**<br>\n",
    "The `player2` is a helper a function for `solve_game`. It attemps to find strongly/weekly dominated strategy and drop it.\n",
    "\n",
    "Parameters:\n",
    "* **game** is the game we want find and remove the dominated strategy from.\n",
    "* **ind_matrix** keeps track of which indices have been remove and which have not.\n",
    "* **weak** indicate whether we should consider weakly dominated strategy.\n",
    "\n",
    "retuns:<br>\n",
    "If the dominated strategy is found then it is dropped and `game` is returned."
   ]
  },
  {
   "cell_type": "code",
   "execution_count": 4,
   "metadata": {},
   "outputs": [],
   "source": [
    "def player2(game, indx_matrix, weak = False):\n",
    "    player_2_comb = list(combinations([*range(0,len(game[0]), 1)],2))\n",
    "\n",
    "    for col1,col2 in player_2_comb:\n",
    "        if weak == False:\n",
    "            check_col1 = all(game[row][col1][1] > game[row][col2][1] for row in range(len(game)))\n",
    "            check_col2 = all(game[row][col2][1] > game[row][col1][1] for row in range(len(game)))\n",
    "        else:\n",
    "            # make sure not all values are equal\n",
    "            check_equal_col = [game[row][col1][1] == game[row][col2][1] for row in range(len(game))]\n",
    "            check_equal_col = True if check_equal_col.count(True) > 0 and check_equal_col.count(True) < len(check_equal_col) else False    \n",
    "            \n",
    "            # make sure atleast one or more values are >\n",
    "            check_greater_col1 = all(game[row][col1][1] >= game[row][col2][1] for row in range(len(game)))\n",
    "            check_greater_col2 = all(game[row][col2][1] >= game[row][col1][1] for row in range(len(game)))\n",
    "            \n",
    "            check_col1 = check_greater_col1 & check_equal_col   # all valuea are != and are >=\n",
    "            check_col2 = check_greater_col2 & check_equal_col   # all valuea are != and are >=\n",
    "            \n",
    "        if check_col1 == True: # drop col2 from game and indx_matrix\n",
    "            [row.pop(col2) for row in game], [row.pop(col2) for row in indx_matrix]\n",
    "            break\n",
    "        elif check_col2 == True: # drop col1 from game and indx_matrix\n",
    "            [row.pop(col1) for row in game], [row.pop(col1) for row in indx_matrix]\n",
    "            break\n",
    "    return game"
   ]
  },
  {
   "cell_type": "markdown",
   "metadata": {},
   "source": [
    "\n",
    "---"
   ]
  },
  {
   "cell_type": "markdown",
   "metadata": {},
   "source": [
    "In order to test your function you must describe three (3) test cases, each of which is a 3x3 two player game. You must indicate the solution."
   ]
  },
  {
   "cell_type": "markdown",
   "metadata": {},
   "source": [
    "**solve_game1**<br>\n",
    "`solve game` uses Successive Elimination of Dominated Strategies (SEDS) to find the pure strategy Nash Equilibrium of a Normal Form Game. It can controls whether the algorithm considers only strongly dominated strategies or whether it should consider weakly dominated strategies as well. It works with game matrices of any size.\n",
    "\n",
    "\n",
    "Parameters:\n",
    "* **game** is the game we want to apply SEDS on.\n",
    "* **weak** indicate whether it should consider weakly dominated strategy.\n",
    "\n",
    "retuns:<br>\n",
    "it will return the `strategy indices` of the Nash Equilibrium. If there is no pure strategy equilibrium that can be found using SEDS then it return `None`"
   ]
  },
  {
   "cell_type": "code",
   "execution_count": 5,
   "metadata": {
    "tags": []
   },
   "outputs": [],
   "source": [
    "def solve_game(game: List[List[Tuple]], weak:bool=False) -> Tuple:\n",
    "    original_game = game.copy()\n",
    "    indx_matrix = [[(row, col) for col in range(len(game[0]))]for row in range(len(game))]         \n",
    "\n",
    "    while len(game)!= 1:\n",
    "        prev = game.copy()\n",
    "        game = player1(game.copy(), indx_matrix, weak)\n",
    "        game = player2(game.copy(), indx_matrix, weak)\n",
    "\n",
    "        if game == prev:\n",
    "            return None # No change in game during this iteration (after both players turn)\n",
    "\n",
    "    return indx_matrix[0][0]"
   ]
  },
  {
   "cell_type": "markdown",
   "metadata": {},
   "source": [
    "### Test Game 1. Create a 3x3 two player game\n",
    "\n",
    "**that can only be solved using the Successive Elimintation of Strongly Dominated Strategies**\n",
    "\n",
    "| Player 1 / Player 2  | 0 | 1 | 2 |\n",
    "|----|----|----|----|\n",
    "|0  | 5,5 | 7,6 | 7,7 |\n",
    "|1  | 6,7 | 9,9 | 14,7 |\n",
    "|2  | 7,7 | 7,14 | 12,13|\n",
    "\n",
    "**Solution:** (strategy indices)<br>\n",
    "`(1,1)`"
   ]
  },
  {
   "cell_type": "code",
   "execution_count": 6,
   "metadata": {},
   "outputs": [],
   "source": [
    "test_game_1 = [[(5,5), (7,6), (7,7)],\n",
    "               [(6, 7), (9,9), (14, 7)],\n",
    "               [(7, 7), (7, 14), (12, 13)]]\n",
    "\n",
    "solution = solve_game(test_game_1)"
   ]
  },
  {
   "cell_type": "code",
   "execution_count": 7,
   "metadata": {},
   "outputs": [],
   "source": [
    "assert solution == (1,1) # insert your solution from above."
   ]
  },
  {
   "cell_type": "markdown",
   "metadata": {},
   "source": [
    "### Test Game 2. Create a 3x3 two player game\n",
    "\n",
    "**that can only be solved using the Successive Elimintation of Weakly Dominated Strategies**\n",
    "\n",
    "| Player 1 / Player 2  | 0 | 1 | 2 |\n",
    "|----|----|----|----|\n",
    "|0  | 5,7 | 7,7 | 14,3 |\n",
    "|1  | 5,5 | 7,6 | 11,7 |\n",
    "|2  | 7,10 | 7,14 | 12,13|\n",
    "\n",
    "**Solution:** (strategy indices)<br>\n",
    "`(0,1)`"
   ]
  },
  {
   "cell_type": "code",
   "execution_count": 8,
   "metadata": {},
   "outputs": [],
   "source": [
    "test_game_2 = [[(5, 7), (7,7), (14, 3)],\n",
    "               [(5, 5), (7,6), (11,7)],\n",
    "               [(7, 10), (7, 14), (12, 13)]]\n",
    "\n",
    "strong_solution = solve_game( test_game_2)\n",
    "weak_solution = solve_game( test_game_2, weak=True)"
   ]
  },
  {
   "cell_type": "code",
   "execution_count": 9,
   "metadata": {},
   "outputs": [],
   "source": [
    "assert strong_solution == None\n",
    "assert weak_solution == (0,1) # insert your solution from above."
   ]
  },
  {
   "cell_type": "markdown",
   "metadata": {},
   "source": [
    "### Test Game 3. Create a 3x3 two player game\n",
    "\n",
    "**that cannot be solved using the Successive Elimintation of Dominated Strategies at all**\n",
    "\n",
    "| Player 1 / Player 2  | 0 | 1 | 2 |\n",
    "|----|----|----|----|\n",
    "|0  | 5,5 | 5,6 | 25,7 |\n",
    "|1  | 5,7 | 7,7 | 14,7 |\n",
    "|2  | 7,25 | 7,14 | 12,13 |\n",
    "\n",
    "**Solution:** None"
   ]
  },
  {
   "cell_type": "code",
   "execution_count": 10,
   "metadata": {},
   "outputs": [],
   "source": [
    "test_game_3 =[[(5,5), (5,6), (25,7)],\n",
    "               [(5, 7), (7,7), (14, 7)],\n",
    "               [(7, 25), (7, 14), (12, 13)]]\n",
    "\n",
    "strong_solution = solve_game(test_game_3)\n",
    "weak_solution = solve_game(test_game_3, weak=True)"
   ]
  },
  {
   "cell_type": "code",
   "execution_count": 11,
   "metadata": {},
   "outputs": [],
   "source": [
    "assert strong_solution == None\n",
    "assert weak_solution == None"
   ]
  },
  {
   "cell_type": "markdown",
   "metadata": {},
   "source": [
    "## Before You Submit...\n",
    "\n",
    "1. Did you provide output exactly as requested? **Don't forget to fill out the Markdown tables with your games**.\n",
    "2. Did you re-execute the entire notebook? (\"Restart Kernel and Rull All Cells...\")\n",
    "3. If you did not complete the assignment or had difficulty please explain what gave you the most difficulty in the Markdown cell below.\n",
    "4. Did you change the name of the file to `jhed_id.ipynb`?\n",
    "\n",
    "Do not submit any other files."
   ]
  },
  {
   "cell_type": "markdown",
   "metadata": {},
   "source": []
  },
  {
   "cell_type": "code",
   "execution_count": null,
   "metadata": {},
   "outputs": [],
   "source": []
  }
 ],
 "metadata": {
  "kernelspec": {
   "display_name": "Python (en605645)",
   "language": "python",
   "name": "en605645"
  },
  "language_info": {
   "codemirror_mode": {
    "name": "ipython",
    "version": 3
   },
   "file_extension": ".py",
   "mimetype": "text/x-python",
   "name": "python",
   "nbconvert_exporter": "python",
   "pygments_lexer": "ipython3",
   "version": "3.7.10"
  },
  "toc": {
   "colors": {
    "hover_highlight": "#DAA520",
    "navigate_num": "#000000",
    "navigate_text": "#333333",
    "running_highlight": "#FF0000",
    "selected_highlight": "#FFD700",
    "sidebar_border": "#EEEEEE",
    "wrapper_background": "#FFFFFF"
   },
   "moveMenuLeft": true,
   "nav_menu": {
    "height": "135px",
    "width": "252px"
   },
   "navigate_menu": true,
   "number_sections": true,
   "sideBar": true,
   "threshold": 4,
   "toc_cell": false,
   "toc_section_display": "block",
   "toc_window_display": false,
   "widenNotebook": false
  }
 },
 "nbformat": 4,
 "nbformat_minor": 4
}
